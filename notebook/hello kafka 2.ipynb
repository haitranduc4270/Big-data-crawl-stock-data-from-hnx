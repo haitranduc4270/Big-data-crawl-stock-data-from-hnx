{
 "cells": [
  {
   "cell_type": "code",
   "execution_count": 4,
   "metadata": {},
   "outputs": [
    {
     "name": "stdout",
     "output_type": "stream",
     "text": [
      "Requirement already satisfied: kafka-python in /opt/conda/lib/python3.10/site-packages (2.0.2)\n"
     ]
    }
   ],
   "source": [
    "!pip install kafka-python"
   ]
  },
  {
   "cell_type": "code",
   "execution_count": null,
   "metadata": {},
   "outputs": [
    {
     "name": "stdout",
     "output_type": "stream",
     "text": [
      "{'data_dir': 'hdfs://namenode:9000/project20221/raw/ssiDataApi.csv', 'config_dir': 'hdfs://namenode:9000/project20221/config/stock_data_ssi', 'topic': 'default_topic'}\n",
      "{'data_dir': 'hdfs://namenode:9000/project20221/raw/ssiDataApi.csv', 'config_dir': 'hdfs://namenode:9000/project20221/config/stock_data_ssi', 'topic': 'consumer_topic'}\n",
      "{'data_dir': 'hdfs://namenode:9000/project20221/raw/ssiDataApi.csv', 'config_dir': 'hdfs://namenode:9000/project20221/config/stock_data_ssi', 'topic': 'default_topic'}\n",
      "{'data_dir': 'hdfs://namenode:9000/project20221/raw/ssiDataApi.csv', 'config_dir': 'hdfs://namenode:9000/project20221/config/stock_data_ssi', 'topic': 'consumer_topic'}\n",
      "{'data_dir': 'hdfs://namenode:9000/project20221/raw/ssiDataApi.csv', 'config_dir': 'hdfs://namenode:9000/project20221/config/stock_data_ssi', 'topic': 'default_topic'}\n",
      "{'data_dir': 'hdfs://namenode:9000/project20221/raw/ssiDataApi.csv', 'config_dir': 'hdfs://namenode:9000/project20221/config/stock_data_ssi', 'topic': 'consumer_topic'}\n",
      "{'data_dir': 'hdfs://namenode:9000/project20221/raw/ssiDataApi.csv', 'config_dir': 'hdfs://namenode:9000/project20221/config/stock_data_ssi', 'topic': 'default_topic'}\n",
      "{'data_dir': 'hdfs://namenode:9000/project20221/raw/ssiDataApi.csv', 'config_dir': 'hdfs://namenode:9000/project20221/config/stock_data_ssi', 'topic': 'consumer_topic'}\n",
      "{'data_dir': 'hdfs://namenode:9000/project20221/raw/ssiDataApi.csv', 'config_dir': 'hdfs://namenode:9000/project20221/config/stock_data_ssi', 'topic': 'default_topic'}\n",
      "{'data_dir': 'hdfs://namenode:9000/project20221/raw/ssiDataApi.csv', 'config_dir': 'hdfs://namenode:9000/project20221/config/stock_data_ssi', 'topic': 'consumer_topic'}\n",
      "{'data_dir': 'hdfs://namenode:9000/project20221/raw/ssiDataApi.csv', 'config_dir': 'hdfs://namenode:9000/project20221/config/stock_data_ssi', 'topic': 'default_topic'}\n",
      "{'data_dir': 'hdfs://namenode:9000/project20221/raw/ssiDataApi.csv', 'config_dir': 'hdfs://namenode:9000/project20221/config/stock_data_ssi', 'topic': 'consumer_topic'}\n",
      "{'data_dir': 'hdfs://namenode:9000/project20221/raw/ssiDataApi.csv', 'config_dir': 'hdfs://namenode:9000/project20221/config/stock_data_ssi', 'topic': 'default_topic'}\n",
      "{'data_dir': 'hdfs://namenode:9000/project20221/raw/ssiDataApi.csv', 'config_dir': 'hdfs://namenode:9000/project20221/config/stock_data_ssi', 'topic': 'consumer_topic'}\n",
      "{'data_dir': 'hdfs://namenode:9000/project20221/raw/ssiDataApi.csv', 'config_dir': 'hdfs://namenode:9000/project20221/config/stock_data_ssi', 'topic': 'default_topic'}\n",
      "{'data_dir': 'hdfs://namenode:9000/project20221/raw/ssiDataApi.csv', 'config_dir': 'hdfs://namenode:9000/project20221/config/stock_data_ssi', 'topic': 'consumer_topic'}\n",
      "{'data_dir': 'hdfs://namenode:9000/project20221/raw/ssiDataApi.csv', 'config_dir': 'hdfs://namenode:9000/project20221/config/stock_data_ssi', 'topic': 'default_topic'}\n",
      "{'data_dir': 'hdfs://namenode:9000/project20221/raw/ssiDataApi.csv', 'config_dir': 'hdfs://namenode:9000/project20221/config/stock_data_ssi', 'topic': 'consumer_topic'}\n",
      "{'data_dir': 'hdfs://namenode:9000/project20221/raw/ssiDataApi.csv', 'config_dir': 'hdfs://namenode:9000/project20221/config/stock_data_ssi', 'topic': 'default_topic'}\n",
      "{'data_dir': 'hdfs://namenode:9000/project20221/raw/ssiDataApi.csv', 'config_dir': 'hdfs://namenode:9000/project20221/config/stock_data_ssi', 'topic': 'consumer_topic'}\n",
      "{'data_dir': 'hdfs://namenode:9000/project20221/raw/ssiDataApi.csv', 'config_dir': 'hdfs://namenode:9000/project20221/config/stock_data_ssi', 'topic': 'default_topic'}\n",
      "{'data_dir': 'hdfs://namenode:9000/project20221/raw/ssiDataApi.csv', 'config_dir': 'hdfs://namenode:9000/project20221/config/stock_data_ssi', 'topic': 'consumer_topic'}\n",
      "{'data_dir': 'hdfs://namenode:9000/project20221/raw/ssiDataApi.csv', 'config_dir': 'hdfs://namenode:9000/project20221/config/stock_data_ssi', 'topic': 'default_topic'}\n",
      "{'data_dir': 'hdfs://namenode:9000/project20221/raw/ssiDataApi.csv', 'config_dir': 'hdfs://namenode:9000/project20221/config/stock_data_ssi', 'topic': 'consumer_topic'}\n",
      "{'data_dir': 'hdfs://namenode:9000/project20221/raw/ssiDataApi.csv', 'config_dir': 'hdfs://namenode:9000/project20221/config/stock_data_ssi', 'topic': 'default_topic'}\n",
      "{'data_dir': 'hdfs://namenode:9000/project20221/raw/ssiDataApi.csv', 'config_dir': 'hdfs://namenode:9000/project20221/config/stock_data_ssi', 'topic': 'consumer_topic'}\n",
      "{'data_dir': 'hdfs://namenode:9000/project20221/raw/ssiDataApi.csv', 'config_dir': 'hdfs://namenode:9000/project20221/config/stock_data_ssi', 'topic': 'default_topic'}\n",
      "{'data_dir': 'hdfs://namenode:9000/project20221/raw/ssiDataApi.csv', 'config_dir': 'hdfs://namenode:9000/project20221/config/stock_data_ssi', 'topic': 'consumer_topic'}\n",
      "{'data_dir': 'hdfs://namenode:9000/project20221/raw/ssiDataApi.csv', 'config_dir': 'hdfs://namenode:9000/project20221/config/stock_data_ssi', 'topic': 'default_topic'}\n",
      "{'data_dir': 'hdfs://namenode:9000/project20221/raw/ssiDataApi.csv', 'config_dir': 'hdfs://namenode:9000/project20221/config/stock_data_ssi', 'topic': 'consumer_topic'}\n",
      "{'data_dir': 'hdfs://namenode:9000/project20221/raw/ssiDataApi.csv', 'config_dir': 'hdfs://namenode:9000/project20221/config/stock_data_ssi', 'topic': 'default_topic'}\n",
      "{'data_dir': 'hdfs://namenode:9000/project20221/raw/ssiDataApi.csv', 'config_dir': 'hdfs://namenode:9000/project20221/config/stock_data_ssi', 'topic': 'consumer_topic'}\n",
      "{'data_dir': 'hdfs://namenode:9000/project20221/raw/ssiDataApi.csv', 'config_dir': 'hdfs://namenode:9000/project20221/config/stock_data_ssi', 'topic': 'default_topic'}\n",
      "{'data_dir': 'hdfs://namenode:9000/project20221/raw/ssiDataApi.csv', 'config_dir': 'hdfs://namenode:9000/project20221/config/stock_data_ssi', 'topic': 'consumer_topic'}\n",
      "{'data_dir': 'hdfs://namenode:9000/project20221/raw/ssiDataApi.csv', 'config_dir': 'hdfs://namenode:9000/project20221/config/stock_data_ssi', 'topic': 'default_topic'}\n",
      "{'data_dir': 'hdfs://namenode:9000/project20221/raw/ssiDataApi.csv', 'config_dir': 'hdfs://namenode:9000/project20221/config/stock_data_ssi', 'topic': 'consumer_topic'}\n",
      "{'data_dir': 'hdfs://namenode:9000/project20221/raw/ssiDataApi.csv', 'config_dir': 'hdfs://namenode:9000/project20221/config/stock_data_ssi', 'topic': 'default_topic'}\n",
      "{'data_dir': 'hdfs://namenode:9000/project20221/raw/ssiDataApi.csv', 'config_dir': 'hdfs://namenode:9000/project20221/config/stock_data_ssi', 'topic': 'consumer_topic'}\n",
      "{'data_dir': 'hdfs://namenode:9000/project20221/raw/ssiDataApi.csv', 'config_dir': 'hdfs://namenode:9000/project20221/config/stock_data_ssi', 'topic': 'default_topic'}\n",
      "{'data_dir': 'hdfs://namenode:9000/project20221/raw/ssiDataApi.csv', 'config_dir': 'hdfs://namenode:9000/project20221/config/stock_data_ssi', 'topic': 'consumer_topic'}\n",
      "{'data_dir': 'hdfs://namenode:9000/project20221/raw/ssiDataApi.csv', 'config_dir': 'hdfs://namenode:9000/project20221/config/stock_data_ssi', 'topic': 'default_topic'}\n",
      "{'data_dir': 'hdfs://namenode:9000/project20221/raw/ssiDataApi.csv', 'config_dir': 'hdfs://namenode:9000/project20221/config/stock_data_ssi', 'topic': 'consumer_topic'}\n",
      "{'data_dir': 'hdfs://namenode:9000/project20221/raw/ssiDataApi.csv', 'config_dir': 'hdfs://namenode:9000/project20221/config/stock_data_ssi', 'topic': 'default_topic'}\n",
      "{'data_dir': 'hdfs://namenode:9000/project20221/raw/ssiDataApi.csv', 'config_dir': 'hdfs://namenode:9000/project20221/config/stock_data_ssi', 'topic': 'consumer_topic'}\n",
      "{'data_dir': 'hdfs://namenode:9000/project20221/raw/ssiDataApi.csv', 'config_dir': 'hdfs://namenode:9000/project20221/config/stock_data_ssi', 'topic': 'default_topic'}\n",
      "{'data_dir': 'hdfs://namenode:9000/project20221/raw/ssiDataApi.csv', 'config_dir': 'hdfs://namenode:9000/project20221/config/stock_data_ssi', 'topic': 'consumer_topic'}\n",
      "{'data_dir': 'hdfs://namenode:9000/project20221/raw/ssiDataApi.csv', 'config_dir': 'hdfs://namenode:9000/project20221/config/stock_data_ssi', 'topic': 'default_topic'}\n",
      "{'data_dir': 'hdfs://namenode:9000/project20221/raw/ssiDataApi.csv', 'config_dir': 'hdfs://namenode:9000/project20221/config/stock_data_ssi', 'topic': 'consumer_topic'}\n",
      "{'data_dir': 'hdfs://namenode:9000/project20221/raw/ssiDataApi.csv', 'config_dir': 'hdfs://namenode:9000/project20221/config/stock_data_ssi', 'topic': 'default_topic'}\n",
      "{'data_dir': 'hdfs://namenode:9000/project20221/raw/ssiDataApi.csv', 'config_dir': 'hdfs://namenode:9000/project20221/config/stock_data_ssi', 'topic': 'consumer_topic'}\n",
      "{'data_dir': 'hdfs://namenode:9000/project20221/raw/ssiDataApi.csv', 'config_dir': 'hdfs://namenode:9000/project20221/config/stock_data_ssi', 'topic': 'default_topic'}\n",
      "{'data_dir': 'hdfs://namenode:9000/project20221/raw/ssiDataApi.csv', 'config_dir': 'hdfs://namenode:9000/project20221/config/stock_data_ssi', 'topic': 'consumer_topic'}\n",
      "{'data_dir': 'hdfs://namenode:9000/project20221/raw/ssiDataApi.csv', 'config_dir': 'hdfs://namenode:9000/project20221/config/stock_data_ssi', 'topic': 'default_topic'}\n",
      "{'data_dir': 'hdfs://namenode:9000/project20221/raw/ssiDataApi.csv', 'config_dir': 'hdfs://namenode:9000/project20221/config/stock_data_ssi', 'topic': 'consumer_topic'}\n",
      "{'data_dir': 'hdfs://namenode:9000/project20221/raw/ssiDataApi.csv', 'config_dir': 'hdfs://namenode:9000/project20221/config/stock_data_ssi', 'topic': 'default_topic'}\n",
      "{'data_dir': 'hdfs://namenode:9000/project20221/raw/ssiDataApi.csv', 'config_dir': 'hdfs://namenode:9000/project20221/config/stock_data_ssi', 'topic': 'consumer_topic'}\n",
      "{'data_dir': 'hdfs://namenode:9000/project20221/raw/ssiDataApi.csv', 'config_dir': 'hdfs://namenode:9000/project20221/config/stock_data_ssi', 'topic': 'default_topic'}\n",
      "{'data_dir': 'hdfs://namenode:9000/project20221/raw/ssiDataApi.csv', 'config_dir': 'hdfs://namenode:9000/project20221/config/stock_data_ssi', 'topic': 'consumer_topic'}\n",
      "{'data_dir': 'hdfs://namenode:9000/project20221/raw/ssiDataApi.csv', 'config_dir': 'hdfs://namenode:9000/project20221/config/stock_data_ssi', 'topic': 'default_topic'}\n",
      "{'data_dir': 'hdfs://namenode:9000/project20221/raw/ssiDataApi.csv', 'config_dir': 'hdfs://namenode:9000/project20221/config/stock_data_ssi', 'topic': 'consumer_topic'}\n",
      "{'data_dir': 'hdfs://namenode:9000/project20221/raw/ssiDataApi.csv', 'config_dir': 'hdfs://namenode:9000/project20221/config/stock_data_ssi', 'topic': 'default_topic'}\n",
      "{'data_dir': 'hdfs://namenode:9000/project20221/raw/ssiDataApi.csv', 'config_dir': 'hdfs://namenode:9000/project20221/config/stock_data_ssi', 'topic': 'consumer_topic'}\n",
      "{'data_dir': 'hdfs://namenode:9000/project20221/raw/ssiDataApi.csv', 'config_dir': 'hdfs://namenode:9000/project20221/config/stock_data_ssi', 'topic': 'default_topic'}\n",
      "{'data_dir': 'hdfs://namenode:9000/project20221/raw/ssiDataApi.csv', 'config_dir': 'hdfs://namenode:9000/project20221/config/stock_data_ssi', 'topic': 'consumer_topic'}\n",
      "{'data_dir': 'hdfs://namenode:9000/project20221/raw/ssiDataApi.csv', 'config_dir': 'hdfs://namenode:9000/project20221/config/stock_data_ssi', 'topic': 'default_topic'}\n",
      "{'data_dir': 'hdfs://namenode:9000/project20221/raw/ssiDataApi.csv', 'config_dir': 'hdfs://namenode:9000/project20221/config/stock_data_ssi', 'topic': 'consumer_topic'}\n",
      "{'data_dir': 'hdfs://namenode:9000/project20221/raw/ssiDataApi.csv', 'config_dir': 'hdfs://namenode:9000/project20221/config/stock_data_ssi', 'topic': 'default_topic'}\n",
      "{'data_dir': 'hdfs://namenode:9000/project20221/raw/ssiDataApi.csv', 'config_dir': 'hdfs://namenode:9000/project20221/config/stock_data_ssi', 'topic': 'consumer_topic'}\n",
      "{'data_dir': 'hdfs://namenode:9000/project20221/raw/ssiDataApi.csv', 'config_dir': 'hdfs://namenode:9000/project20221/config/stock_data_ssi', 'topic': 'default_topic'}\n",
      "{'data_dir': 'hdfs://namenode:9000/project20221/raw/ssiDataApi.csv', 'config_dir': 'hdfs://namenode:9000/project20221/config/stock_data_ssi', 'topic': 'consumer_topic'}\n",
      "{'data_dir': 'hdfs://namenode:9000/project20221/raw/ssiDataApi.csv', 'config_dir': 'hdfs://namenode:9000/project20221/config/stock_data_ssi', 'topic': 'default_topic'}\n",
      "{'data_dir': 'hdfs://namenode:9000/project20221/raw/ssiDataApi.csv', 'config_dir': 'hdfs://namenode:9000/project20221/config/stock_data_ssi', 'topic': 'consumer_topic'}\n",
      "{'data_dir': 'hdfs://namenode:9000/project20221/raw/ssiDataApi.csv', 'config_dir': 'hdfs://namenode:9000/project20221/config/stock_data_ssi', 'topic': 'default_topic'}\n",
      "{'data_dir': 'hdfs://namenode:9000/project20221/raw/ssiDataApi.csv', 'config_dir': 'hdfs://namenode:9000/project20221/config/stock_data_ssi', 'topic': 'consumer_topic'}\n",
      "{'data_dir': 'hdfs://namenode:9000/project20221/raw/ssiDataApi.csv', 'config_dir': 'hdfs://namenode:9000/project20221/config/stock_data_ssi', 'topic': 'default_topic'}\n",
      "{'data_dir': 'hdfs://namenode:9000/project20221/raw/ssiDataApi.csv', 'config_dir': 'hdfs://namenode:9000/project20221/config/stock_data_ssi', 'topic': 'consumer_topic'}\n",
      "{'data_dir': 'hdfs://namenode:9000/project20221/raw/ssiDataApi.csv', 'config_dir': 'hdfs://namenode:9000/project20221/config/stock_data_ssi', 'topic': 'default_topic'}\n",
      "{'data_dir': 'hdfs://namenode:9000/project20221/raw/ssiDataApi.csv', 'config_dir': 'hdfs://namenode:9000/project20221/config/stock_data_ssi', 'topic': 'consumer_topic'}\n",
      "{'data_dir': 'hdfs://namenode:9000/project20221/raw/ssiDataApi.csv', 'config_dir': 'hdfs://namenode:9000/project20221/config/stock_data_ssi', 'topic': 'default_topic'}\n",
      "{'data_dir': 'hdfs://namenode:9000/project20221/raw/ssiDataApi.csv', 'config_dir': 'hdfs://namenode:9000/project20221/config/stock_data_ssi', 'topic': 'consumer_topic'}\n"
     ]
    }
   ],
   "source": [
    "import json\n",
    "from kafka import KafkaConsumer\n",
    "\n",
    "consumer = KafkaConsumer(bootstrap_servers='kafka:9092')\n",
    "consumer.subscribe(['default_topic', 'consumer_topic'])\n",
    "\n",
    "while 1:\n",
    "  for msg in consumer:\n",
    "    print (json.loads(msg.value.decode('utf-8')))"
   ]
  },
  {
   "cell_type": "code",
   "execution_count": null,
   "metadata": {},
   "outputs": [],
   "source": []
  }
 ],
 "metadata": {
  "kernelspec": {
   "display_name": "Python 3 (ipykernel)",
   "language": "python",
   "name": "python3"
  },
  "language_info": {
   "codemirror_mode": {
    "name": "ipython",
    "version": 3
   },
   "file_extension": ".py",
   "mimetype": "text/x-python",
   "name": "python",
   "nbconvert_exporter": "python",
   "pygments_lexer": "ipython3",
   "version": "3.10.8"
  }
 },
 "nbformat": 4,
 "nbformat_minor": 4
}
