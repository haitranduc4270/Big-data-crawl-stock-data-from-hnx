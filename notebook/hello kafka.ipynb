{
 "cells": [
  {
   "cell_type": "code",
   "execution_count": 1,
   "metadata": {},
   "outputs": [
    {
     "name": "stdout",
     "output_type": "stream",
     "text": [
      "Collecting kafka-python\n",
      "  Downloading kafka_python-2.0.2-py2.py3-none-any.whl (246 kB)\n",
      "\u001b[2K     \u001b[90m━━━━━━━━━━━━━━━━━━━━━━━━━━━━━━━━━━━━━\u001b[0m \u001b[32m246.5/246.5 kB\u001b[0m \u001b[31m247.4 kB/s\u001b[0m eta \u001b[36m0:00:00\u001b[0m00:01\u001b[0m00:01\u001b[0m\n",
      "\u001b[?25hInstalling collected packages: kafka-python\n",
      "Successfully installed kafka-python-2.0.2\n",
      "Collecting schedule\n",
      "  Downloading schedule-1.1.0-py2.py3-none-any.whl (10 kB)\n",
      "Installing collected packages: schedule\n",
      "Successfully installed schedule-1.1.0\n"
     ]
    }
   ],
   "source": [
    "!pip install kafka-python\n",
    "!pip install schedule"
   ]
  },
  {
   "cell_type": "code",
   "execution_count": 28,
   "metadata": {},
   "outputs": [],
   "source": [
    "import time\n",
    "import json\n",
    "import random\n",
    "import logging\n",
    "\n",
    "from kafka import KafkaProducer\n",
    "from kafka.errors import KafkaError\n",
    "\n",
    "\n",
    "def get_register():\n",
    "    user = {\n",
    "        'data_dir': 'hdfs://namenode:9000/project20221/raw/ssiDataApi.csv',\n",
    "        'config_dir': 'hdfs://namenode:9000/project20221/config/stock_data_ssi',\n",
    "        'topic': 'test',\n",
    "        'time_stamp': time.ctime(time.time())\n",
    "    }\n",
    "    return user\n",
    "\n",
    "def json_serializer(data):\n",
    "  return json.dumps(data).encode('utf-8')\n",
    "\n",
    "producer = KafkaProducer(\n",
    "    bootstrap_servers = ['kafka:9092'],\n",
    "    value_serializer = json_serializer\n",
    ")\n",
    "\n",
    "class KafkaProducer:\n",
    "  def __init__(self):\n",
    "    self.producer = producer\n",
    "\n",
    "  def send_to_topic(self, kafka_topic, data):\n",
    "    result = self.producer.send(kafka_topic, data)\n",
    "    try:\n",
    "        record_metadata = result.get(timeout=10)\n",
    "    except KafkaError:\n",
    "        logging.exception(\"Error\")\n",
    "        pass\n",
    "    \n",
    "    producer.flush()\n",
    "    \n",
    "crawler_producer = KafkaProducer()\n",
    "crawler_producer.send_to_topic('consumer_topic', get_register())\n"
   ]
  }
 ],
 "metadata": {
  "kernelspec": {
   "display_name": "Python 3 (ipykernel)",
   "language": "python",
   "name": "python3"
  },
  "language_info": {
   "codemirror_mode": {
    "name": "ipython",
    "version": 3
   },
   "file_extension": ".py",
   "mimetype": "text/x-python",
   "name": "python",
   "nbconvert_exporter": "python",
   "pygments_lexer": "ipython3",
   "version": "3.10.8"
  }
 },
 "nbformat": 4,
 "nbformat_minor": 4
}
