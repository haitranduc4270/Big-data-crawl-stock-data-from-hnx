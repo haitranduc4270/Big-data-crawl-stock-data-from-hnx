{
 "cells": [
  {
   "cell_type": "code",
   "execution_count": 33,
   "id": "d12fdb75-4cbe-4af2-9d8c-8da90c1400ed",
   "metadata": {},
   "outputs": [
    {
     "ename": "ValueError",
     "evalue": "Cannot run multiple SparkContexts at once; existing SparkContext(app=pyspark-shell, master=local) created by __init__ at /tmp/ipykernel_55957/168358632.py:3 ",
     "output_type": "error",
     "traceback": [
      "\u001b[0;31m---------------------------------------------------------------------------\u001b[0m",
      "\u001b[0;31mValueError\u001b[0m                                Traceback (most recent call last)",
      "Cell \u001b[0;32mIn[33], line 3\u001b[0m\n\u001b[1;32m      1\u001b[0m \u001b[38;5;28;01mfrom\u001b[39;00m \u001b[38;5;21;01mpyspark\u001b[39;00m\u001b[38;5;21;01m.\u001b[39;00m\u001b[38;5;21;01mcontext\u001b[39;00m \u001b[38;5;28;01mimport\u001b[39;00m SparkContext\n\u001b[1;32m      2\u001b[0m \u001b[38;5;28;01mfrom\u001b[39;00m \u001b[38;5;21;01mpyspark\u001b[39;00m\u001b[38;5;21;01m.\u001b[39;00m\u001b[38;5;21;01msql\u001b[39;00m\u001b[38;5;21;01m.\u001b[39;00m\u001b[38;5;21;01msession\u001b[39;00m \u001b[38;5;28;01mimport\u001b[39;00m SparkSession\n\u001b[0;32m----> 3\u001b[0m sc \u001b[38;5;241m=\u001b[39m \u001b[43mSparkContext\u001b[49m\u001b[43m(\u001b[49m\u001b[38;5;124;43m'\u001b[39;49m\u001b[38;5;124;43mlocal\u001b[39;49m\u001b[38;5;124;43m'\u001b[39;49m\u001b[43m)\u001b[49m\n\u001b[1;32m      4\u001b[0m spark \u001b[38;5;241m=\u001b[39m SparkSession(sc)\n",
      "File \u001b[0;32m/usr/local/spark/python/pyspark/context.py:195\u001b[0m, in \u001b[0;36mSparkContext.__init__\u001b[0;34m(self, master, appName, sparkHome, pyFiles, environment, batchSize, serializer, conf, gateway, jsc, profiler_cls, udf_profiler_cls)\u001b[0m\n\u001b[1;32m    189\u001b[0m \u001b[38;5;28;01mif\u001b[39;00m gateway \u001b[38;5;129;01mis\u001b[39;00m \u001b[38;5;129;01mnot\u001b[39;00m \u001b[38;5;28;01mNone\u001b[39;00m \u001b[38;5;129;01mand\u001b[39;00m gateway\u001b[38;5;241m.\u001b[39mgateway_parameters\u001b[38;5;241m.\u001b[39mauth_token \u001b[38;5;129;01mis\u001b[39;00m \u001b[38;5;28;01mNone\u001b[39;00m:\n\u001b[1;32m    190\u001b[0m     \u001b[38;5;28;01mraise\u001b[39;00m \u001b[38;5;167;01mValueError\u001b[39;00m(\n\u001b[1;32m    191\u001b[0m         \u001b[38;5;124m\"\u001b[39m\u001b[38;5;124mYou are trying to pass an insecure Py4j gateway to Spark. This\u001b[39m\u001b[38;5;124m\"\u001b[39m\n\u001b[1;32m    192\u001b[0m         \u001b[38;5;124m\"\u001b[39m\u001b[38;5;124m is not allowed as it is a security risk.\u001b[39m\u001b[38;5;124m\"\u001b[39m\n\u001b[1;32m    193\u001b[0m     )\n\u001b[0;32m--> 195\u001b[0m \u001b[43mSparkContext\u001b[49m\u001b[38;5;241;43m.\u001b[39;49m\u001b[43m_ensure_initialized\u001b[49m\u001b[43m(\u001b[49m\u001b[38;5;28;43mself\u001b[39;49m\u001b[43m,\u001b[49m\u001b[43m \u001b[49m\u001b[43mgateway\u001b[49m\u001b[38;5;241;43m=\u001b[39;49m\u001b[43mgateway\u001b[49m\u001b[43m,\u001b[49m\u001b[43m \u001b[49m\u001b[43mconf\u001b[49m\u001b[38;5;241;43m=\u001b[39;49m\u001b[43mconf\u001b[49m\u001b[43m)\u001b[49m\n\u001b[1;32m    196\u001b[0m \u001b[38;5;28;01mtry\u001b[39;00m:\n\u001b[1;32m    197\u001b[0m     \u001b[38;5;28mself\u001b[39m\u001b[38;5;241m.\u001b[39m_do_init(\n\u001b[1;32m    198\u001b[0m         master,\n\u001b[1;32m    199\u001b[0m         appName,\n\u001b[0;32m   (...)\u001b[0m\n\u001b[1;32m    208\u001b[0m         udf_profiler_cls,\n\u001b[1;32m    209\u001b[0m     )\n",
      "File \u001b[0;32m/usr/local/spark/python/pyspark/context.py:430\u001b[0m, in \u001b[0;36mSparkContext._ensure_initialized\u001b[0;34m(cls, instance, gateway, conf)\u001b[0m\n\u001b[1;32m    427\u001b[0m     callsite \u001b[38;5;241m=\u001b[39m SparkContext\u001b[38;5;241m.\u001b[39m_active_spark_context\u001b[38;5;241m.\u001b[39m_callsite\n\u001b[1;32m    429\u001b[0m     \u001b[38;5;66;03m# Raise error if there is already a running Spark context\u001b[39;00m\n\u001b[0;32m--> 430\u001b[0m     \u001b[38;5;28;01mraise\u001b[39;00m \u001b[38;5;167;01mValueError\u001b[39;00m(\n\u001b[1;32m    431\u001b[0m         \u001b[38;5;124m\"\u001b[39m\u001b[38;5;124mCannot run multiple SparkContexts at once; \u001b[39m\u001b[38;5;124m\"\u001b[39m\n\u001b[1;32m    432\u001b[0m         \u001b[38;5;124m\"\u001b[39m\u001b[38;5;124mexisting SparkContext(app=\u001b[39m\u001b[38;5;132;01m%s\u001b[39;00m\u001b[38;5;124m, master=\u001b[39m\u001b[38;5;132;01m%s\u001b[39;00m\u001b[38;5;124m)\u001b[39m\u001b[38;5;124m\"\u001b[39m\n\u001b[1;32m    433\u001b[0m         \u001b[38;5;124m\"\u001b[39m\u001b[38;5;124m created by \u001b[39m\u001b[38;5;132;01m%s\u001b[39;00m\u001b[38;5;124m at \u001b[39m\u001b[38;5;132;01m%s\u001b[39;00m\u001b[38;5;124m:\u001b[39m\u001b[38;5;132;01m%s\u001b[39;00m\u001b[38;5;124m \u001b[39m\u001b[38;5;124m\"\u001b[39m\n\u001b[1;32m    434\u001b[0m         \u001b[38;5;241m%\u001b[39m (\n\u001b[1;32m    435\u001b[0m             currentAppName,\n\u001b[1;32m    436\u001b[0m             currentMaster,\n\u001b[1;32m    437\u001b[0m             callsite\u001b[38;5;241m.\u001b[39mfunction,\n\u001b[1;32m    438\u001b[0m             callsite\u001b[38;5;241m.\u001b[39mfile,\n\u001b[1;32m    439\u001b[0m             callsite\u001b[38;5;241m.\u001b[39mlinenum,\n\u001b[1;32m    440\u001b[0m         )\n\u001b[1;32m    441\u001b[0m     )\n\u001b[1;32m    442\u001b[0m \u001b[38;5;28;01melse\u001b[39;00m:\n\u001b[1;32m    443\u001b[0m     SparkContext\u001b[38;5;241m.\u001b[39m_active_spark_context \u001b[38;5;241m=\u001b[39m instance\n",
      "\u001b[0;31mValueError\u001b[0m: Cannot run multiple SparkContexts at once; existing SparkContext(app=pyspark-shell, master=local) created by __init__ at /tmp/ipykernel_55957/168358632.py:3 "
     ]
    }
   ],
   "source": [
    "from pyspark.context import SparkContext\n",
    "from pyspark.sql.session import SparkSession\n",
    "sc = SparkContext('local')\n",
    "spark = SparkSession(sc)"
   ]
  },
  {
   "cell_type": "code",
   "execution_count": 35,
   "id": "75374fd2-2303-429c-a4b1-27530adf6286",
   "metadata": {},
   "outputs": [
    {
     "name": "stdout",
     "output_type": "stream",
     "text": [
      "root\n",
      " |-- best1Bid: long (nullable = true)\n",
      " |-- best1BidVol: long (nullable = true)\n",
      " |-- best1Offer: long (nullable = true)\n",
      " |-- best1OfferVol: long (nullable = true)\n",
      " |-- best2Bid: long (nullable = true)\n",
      " |-- best2BidVol: long (nullable = true)\n",
      " |-- best2Offer: long (nullable = true)\n",
      " |-- best2OfferVol: long (nullable = true)\n",
      " |-- best3Bid: long (nullable = true)\n",
      " |-- best3BidVol: long (nullable = true)\n",
      " |-- best3Offer: long (nullable = true)\n",
      " |-- best3OfferVol: long (nullable = true)\n",
      " |-- ceiling: long (nullable = true)\n",
      " |-- floor: long (nullable = true)\n",
      " |-- highest: long (nullable = true)\n",
      " |-- lowest: long (nullable = true)\n",
      " |-- matchedPrice: long (nullable = true)\n",
      " |-- matchedVolume: long (nullable = true)\n",
      " |-- nmTotalTradedQty: long (nullable = true)\n",
      " |-- priceChange: string (nullable = true)\n",
      " |-- priceChangePercent: string (nullable = true)\n",
      " |-- refPrice: long (nullable = true)\n",
      " |-- stock_code: string (nullable = true)\n",
      " |-- stock_exchange: string (nullable = true)\n",
      " |-- time_stamp: string (nullable = true)\n",
      "\n",
      "+--------+-----------+----------+-------------+--------+-----------+----------+-------------+--------+-----------+----------+-------------+-------+------+-------+------+------------+-------------+----------------+-----------+------------------+--------+----------+--------------+----------------+\n",
      "|best1Bid|best1BidVol|best1Offer|best1OfferVol|best2Bid|best2BidVol|best2Offer|best2OfferVol|best3Bid|best3BidVol|best3Offer|best3OfferVol|ceiling|floor |highest|lowest|matchedPrice|matchedVolume|nmTotalTradedQty|priceChange|priceChangePercent|refPrice|stock_code|stock_exchange|time_stamp      |\n",
      "+--------+-----------+----------+-------------+--------+-----------+----------+-------------+--------+-----------+----------+-------------+-------+------+-------+------+------------+-------------+----------------+-----------+------------------+--------+----------+--------------+----------------+\n",
      "|132500  |13300      |133000    |1800         |132000  |26500      |133500    |5900         |131500  |13700      |134000    |88000        |141500 |123500|134500 |132000|133000      |1760         |346400          |50.00      |0.4               |132500  |NBB       |hose          |2023-01-19T07:54|\n",
      "+--------+-----------+----------+-------------+--------+-----------+----------+-------------+--------+-----------+----------+-------------+-------+------+-------+------+------------+-------------+----------------+-----------+------------------+--------+----------+--------------+----------------+\n",
      "only showing top 1 row\n",
      "\n"
     ]
    }
   ],
   "source": [
    "checker = spark.read.json(\"hdfs://namenode:9000/project20221-real/clean/stock_price_realtime/hose/01-19-2023/01-19-2023-07-54-48.json\")\n",
    "checker.printSchema()\n",
    "checker.show(1, False)\n"
   ]
  },
  {
   "cell_type": "code",
   "execution_count": 3,
   "id": "bd5c08c8-3af7-4b15-8c0d-dcc44cdc4034",
   "metadata": {},
   "outputs": [
    {
     "name": "stdout",
     "output_type": "stream",
     "text": [
      "started\n",
      "0.7093728620928866\n",
      "heloooo\n",
      "1.3366998220214015\n",
      "heloooo\n",
      "0.7925297386604591\n",
      "heloooo\n",
      "1.0051160542497017\n",
      "heloooo\n",
      "1.2364992939190764\n",
      "heloooo\n",
      "0.5808608580788309\n",
      "heloooo\n",
      "0.6558644614041969\n",
      "heloooo\n",
      "0.8605907921556382\n",
      "heloooo\n",
      "1.4908527301889292\n",
      "heloooo\n",
      "0.8622193830845466\n",
      "heloooo\n",
      "1.4667794291400649\n",
      "heloooo\n",
      "1.2842022464929372\n",
      "heloooo\n",
      "1.0787284777839483\n",
      "heloooo\n",
      "1.1523283222795397\n",
      "heloooo\n",
      "1.307082259556025\n",
      "heloooo\n",
      "1.0445507098070816\n",
      "heloooo\n",
      "1.0021279864664736\n",
      "heloooo\n",
      "1.3540770652956657\n",
      "heloooo\n",
      "0.5512985201488609\n",
      "heloooo\n",
      "0.9559428045400173\n",
      "heloooo\n",
      "1.3455983070291748\n",
      "heloooo\n",
      "1.405635684878358\n",
      "heloooo\n",
      "0.7638542413704508\n",
      "heloooo\n",
      "0.6405009332974826\n",
      "heloooo\n",
      "0.7458063357097328\n",
      "heloooo\n",
      "0.7813603690929636\n",
      "heloooo\n",
      "1.0214861597650202\n",
      "heloooo\n",
      "0.9589203416279545\n",
      "heloooo\n",
      "0.5160617004123231\n",
      "heloooo\n",
      "1.3143352830615136\n",
      "heloooo\n",
      "1.2487813947419015\n",
      "heloooo\n",
      "0.6180038126747036\n",
      "heloooo\n",
      "1.3266785300544255\n",
      "heloooo\n",
      "1.0039609263194655\n",
      "heloooo\n",
      "1.3164954389457377\n",
      "heloooo\n",
      "0.6081943225667739\n",
      "heloooo\n",
      "1.227848253570019\n",
      "heloooo\n",
      "0.5451105780292235\n",
      "heloooo\n",
      "1.2081744126638438\n",
      "heloooo\n",
      "0.7553713918655132\n",
      "heloooo\n",
      "0.5537226082542771\n",
      "heloooo\n",
      "0.573548702298057\n",
      "heloooo\n",
      "0.786575124006302\n",
      "heloooo\n",
      "0.7101233802875092\n",
      "heloooo\n",
      "0.5342291310835083\n",
      "heloooo\n",
      "1.4303293206402703\n",
      "heloooo\n",
      "1.0796790411209107\n"
     ]
    },
    {
     "name": "stderr",
     "output_type": "stream",
     "text": [
      "\n",
      "KeyboardInterrupt\n",
      "\n"
     ]
    }
   ],
   "source": [
    "import random\n",
    "import time\n",
    "\n",
    "print('started')\n",
    "def start_crawler ():\n",
    "    while True:\n",
    "        sleep_time = random.uniform(0.5,1.5)\n",
    "        print(sleep_time)\n",
    "        time.sleep(sleep_time)\n",
    "        print(\"heloooo\")\n",
    "        \n",
    "start_crawler()"
   ]
  },
  {
   "cell_type": "code",
   "execution_count": null,
   "id": "c8b3fd07-0239-4c94-a2df-105666d2e67e",
   "metadata": {},
   "outputs": [],
   "source": [
    "from pyspark.context import SparkContext\n",
    "from pyspark.sql.session import SparkSession\n",
    "\n",
    "print('start')\n",
    "\n",
    "spark_sess = (\\\n",
    "    SparkSession\\\n",
    "    .builder\\\n",
    "    .master('local[1]')\\\n",
    "    .appName('pyspark_app')\\\n",
    "    .getOrCreate())\n",
    "\n",
    "print('start')\n",
    "\n",
    "csv = spark_sess.read.option(\"inferSchema\", True).option(\"header\",True).csv(\"../crawler/data/ssiDataApi.csv\")\n",
    "csv.printSchema()\n",
    "csv.show(1, False)\n"
   ]
  },
  {
   "cell_type": "code",
   "execution_count": 3,
   "id": "21fd12c6-431c-49f4-a470-ec559563503d",
   "metadata": {},
   "outputs": [
    {
     "name": "stdout",
     "output_type": "stream",
     "text": [
      "+--------+-----------+----------+-------------+--------+-----------+----------+-------------+--------+-----------+----------+-------------+-------+------+-------+------+------------+-------------+----------------+-----------+------------------+--------+----------+--------------+-------------------+\n",
      "|best1Bid|best1BidVol|best1Offer|best1OfferVol|best2Bid|best2BidVol|best2Offer|best2OfferVol|best3Bid|best3BidVol|best3Offer|best3OfferVol|ceiling| floor|highest|lowest|matchedPrice|matchedVolume|nmTotalTradedQty|priceChange|priceChangePercent|refPrice|stock_code|stock_exchange|         time_stamp|\n",
      "+--------+-----------+----------+-------------+--------+-----------+----------+-------------+--------+-----------+----------+-------------+-------+------+-------+------+------------+-------------+----------------+-----------+------------------+--------+----------+--------------+-------------------+\n",
      "|  220000|        200|    245000|          100|  216000|        500|    246000|          500|  215000|        900|         0|            0| 247000|203000| 244000|244000|           0|            0|             100|           |                  |  225000|       PMS|           hnx|2023-01-18T07:30:18|\n",
      "|       0|          0|         0|          500|       0|          0|    255000|          700|       0|          0|    283000|         2000| 311000|255000|      0|     0|      283000|            0|               0|       0.00|               0.0|  283000|       SDU|           hnx|2023-01-18T07:30:18|\n",
      "|       0|          0|    192000|         1000|       0|          0|    210000|          100|       0|          0|    234000|          100| 234000|192000|      0|     0|           0|            0|               0|           |                  |  213000|       SDG|           hnx|2023-01-18T07:30:18|\n",
      "|       0|          0|    639000|         3800|       0|          0|    650000|          200|       0|          0|    709000|         1400| 779000|639000|      0|     0|           0|            0|               0|           |                  |  709000|       SGH|           hnx|2023-01-18T07:30:18|\n",
      "|  159000|       8500|    160000|        92300|  158000|      23900|    161000|        71500|  157000|      22100|    162000|        68400| 173000|143000| 161000|157000|           0|            0|          432800|           |                  |  158000|       NAG|           hnx|2023-01-18T07:30:18|\n",
      "|   46000|        100|     47000|         1200|   45000|        200|     48000|         3200|   43000|       6000|     49000|          700|  51000| 43000|  47000| 47000|           0|            0|             100|           |                  |   47000|       PCT|           hnx|2023-01-18T07:30:18|\n",
      "|  124000|        200|    127000|         1400|  122000|       1500|    128000|         4300|  121000|       1000|    129000|         2500| 136000|112000| 130000|124000|           0|            0|            5700|           |                  |  124000|       PBP|           hnx|2023-01-18T07:30:18|\n",
      "|       0|       4000|     21000|        62000|   20000|      23700|     22000|        98200|   19000|      71900|         0|            0|  22000| 18000|  21000| 20000|       21000|         4000|           13700|     100.00|               5.0|   20000|       PV2|           hnx|2023-01-18T07:30:18|\n",
      "|   75000|       8000|         0|          800|   74000|      20200|     76000|         4000|   73000|       4800|     77000|        41300|  84000| 70000|  79000| 70000|       75000|          800|           84500|    -200.00|              -2.6|   77000|       OCH|           hnx|2023-01-18T07:30:18|\n",
      "|   66000|        100|         0|         3000|   65000|       2000|     68000|         8700|   64000|       1400|     69000|         5100|  74000| 62000|  68000| 62000|       64000|         3000|           95700|    -400.00|              -5.9|   68000|       SDA|           hnx|2023-01-18T07:30:18|\n",
      "|   74000|        300|     79000|          100|   72000|       2000|         0|            0|   67000|        300|         0|            0|  79000| 65000|      0|     0|           0|            0|               0|           |                  |   72000|       PEN|           hnx|2023-01-18T07:30:18|\n",
      "|  168000|       2000|    198000|          100|  165000|        200|         0|            0|  163000|       3000|         0|            0| 198000|162000| 162000|162000|           0|            0|             100|           |                  |  180000|       NBW|           hnx|2023-01-18T07:30:18|\n",
      "|  135000|        200|    148000|          100|  134000|        200|    149000|         1000|       0|          0|    150000|         1000| 162000|134000| 147000|138000|           0|            0|             600|           |                  |  148000|       PIC|           hnx|2023-01-18T07:30:18|\n",
      "|   57000|        100|     58000|         1600|   56000|       3000|     59000|          200|   55000|       6900|     60000|         2800|  62000| 52000|  57000| 56000|           0|            0|            8100|           |                  |   57000|       NDX|           hnx|2023-01-18T07:30:18|\n",
      "|  339000|       8100|    340000|          200|  338000|        100|    342000|         2500|  337000|       3800|    343000|         1000| 374000|306000| 340000|334000|           0|            0|           35200|           |                  |  340000|       NTP|           hnx|2023-01-18T07:30:18|\n",
      "|   42000|      32600|     43000|       223100|   41000|     348000|     44000|       297200|   40000|     143800|     45000|       421900|  45000| 37000|  43000| 41000|       42000|            0|          527500|     100.00|               2.4|   41000|       MST|           hnx|2023-01-18T07:30:18|\n",
      "|  124000|       1900|    136000|          300|  123000|        100|    138000|          200|       0|          0|    143000|         3600| 147000|121000|      0|     0|           0|            0|               0|           |                  |  134000|       SMN|           hnx|2023-01-18T07:30:18|\n",
      "|       0|       null|         0|         null|       0|       null|         0|         null|       0|       null|         0|         null|      0|     0|      0|     0|           0|            0|               0|           |                  |  549260| NVL122001|           hnx|2023-01-18T07:30:18|\n",
      "|  440000|        600|         0|            0|  432000|        500|         0|            0|  428000|        500|         0|            0| 459000|377000| 459000|430000|           0|            0|            6500|           |                  |  418000|       PRC|           hnx|2023-01-18T07:30:18|\n",
      "|   72000|      10100|     73000|          400|   71000|       5200|     74000|        29100|   70000|      14700|     75000|        40200|  80000| 66000|  74000| 73000|           0|            0|           42000|           |                  |   73000|       PVG|           hnx|2023-01-18T07:30:18|\n",
      "+--------+-----------+----------+-------------+--------+-----------+----------+-------------+--------+-----------+----------+-------------+-------+------+-------+------+------------+-------------+----------------+-----------+------------------+--------+----------+--------------+-------------------+\n",
      "only showing top 20 rows\n",
      "\n"
     ]
    }
   ],
   "source": [
    "cs = spark.read.json('hdfs://namenode:9000/project20221/clean/stock_price_realtime/hnx/01-18-2023/01-18-2023-07-30-18.json')\n",
    "cs.show()"
   ]
  },
  {
   "cell_type": "code",
   "execution_count": 32,
   "id": "c9bb1587-7856-4ec3-ad0d-cec4b6d65eb7",
   "metadata": {},
   "outputs": [
    {
     "name": "stdout",
     "output_type": "stream",
     "text": [
      "2023-01-18 15:00:00\n",
      "2023-01-18 15:54:18.243297\n",
      "True\n"
     ]
    }
   ],
   "source": [
    "from datetime import datetime, timedelta\n",
    "\n",
    "end = '15:00:00'\n",
    "\n",
    "end_time = datetime.strptime(datetime.now().strftime('%Y-%m-%d') + 'T' + end, '%Y-%m-%dT%H:%M:%S')\n",
    "now = datetime.now() + timedelta(hours=7)\n",
    "\n",
    "print(end_time)\n",
    "print(now)\n",
    "\n",
    "print(now > end_time)"
   ]
  }
 ],
 "metadata": {
  "kernelspec": {
   "display_name": "Python 3 (ipykernel)",
   "language": "python",
   "name": "python3"
  },
  "language_info": {
   "codemirror_mode": {
    "name": "ipython",
    "version": 3
   },
   "file_extension": ".py",
   "mimetype": "text/x-python",
   "name": "python",
   "nbconvert_exporter": "python",
   "pygments_lexer": "ipython3",
   "version": "3.10.8"
  }
 },
 "nbformat": 4,
 "nbformat_minor": 5
}
