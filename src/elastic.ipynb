{
 "cells": [
  {
   "cell_type": "code",
   "execution_count": 1,
   "id": "8297a197-aca7-468e-897a-ad30cf34a082",
   "metadata": {},
   "outputs": [
    {
     "name": "stdout",
     "output_type": "stream",
     "text": [
      "Collecting elasticsearch\n",
      "  Downloading elasticsearch-8.6.0-py3-none-any.whl (385 kB)\n",
      "\u001b[2K     \u001b[90m━━━━━━━━━━━━━━━━━━━━━━━━━━━━━━━━━━━━━━━\u001b[0m \u001b[32m385.4/385.4 kB\u001b[0m \u001b[31m1.8 MB/s\u001b[0m eta \u001b[36m0:00:00\u001b[0ma \u001b[36m0:00:01\u001b[0m\n",
      "\u001b[?25hCollecting elastic-transport<9,>=8\n",
      "  Downloading elastic_transport-8.4.0-py3-none-any.whl (59 kB)\n",
      "\u001b[2K     \u001b[90m━━━━━━━━━━━━━━━━━━━━━━━━━━━━━━━━━━━━━━━━\u001b[0m \u001b[32m59.5/59.5 kB\u001b[0m \u001b[31m5.4 MB/s\u001b[0m eta \u001b[36m0:00:00\u001b[0m\n",
      "\u001b[?25hRequirement already satisfied: urllib3<2,>=1.26.2 in /opt/conda/lib/python3.10/site-packages (from elastic-transport<9,>=8->elasticsearch) (1.26.13)\n",
      "Requirement already satisfied: certifi in /opt/conda/lib/python3.10/site-packages (from elastic-transport<9,>=8->elasticsearch) (2022.12.7)\n",
      "Installing collected packages: elastic-transport, elasticsearch\n",
      "Successfully installed elastic-transport-8.4.0 elasticsearch-8.6.0\n"
     ]
    }
   ],
   "source": [
    "!python -m pip install elasticsearch"
   ]
  },
  {
   "cell_type": "code",
   "execution_count": 18,
   "id": "f466baff-dfcd-476d-af4a-8d0c133be794",
   "metadata": {},
   "outputs": [
    {
     "ename": "NameError",
     "evalue": "name 'self' is not defined",
     "output_type": "error",
     "traceback": [
      "\u001b[0;31m---------------------------------------------------------------------------\u001b[0m",
      "\u001b[0;31mNameError\u001b[0m                                 Traceback (most recent call last)",
      "Cell \u001b[0;32mIn[18], line 7\u001b[0m\n\u001b[1;32m      1\u001b[0m \u001b[38;5;28;01mfrom\u001b[39;00m \u001b[38;5;21;01mpyspark\u001b[39;00m\u001b[38;5;21;01m.\u001b[39;00m\u001b[38;5;21;01msql\u001b[39;00m\u001b[38;5;21;01m.\u001b[39;00m\u001b[38;5;21;01msession\u001b[39;00m \u001b[38;5;28;01mimport\u001b[39;00m SparkSession\n\u001b[1;32m      2\u001b[0m \u001b[38;5;28mself\u001b[39m\u001b[38;5;241m.\u001b[39mspark_app \u001b[38;5;241m=\u001b[39m (SparkSession\n\u001b[1;32m      3\u001b[0m             \u001b[38;5;241m.\u001b[39mbuilder\u001b[38;5;241m.\u001b[39mmaster(\u001b[38;5;124m\"\u001b[39m\u001b[38;5;124mlocal\u001b[39m\u001b[38;5;124m\"\u001b[39m)\n\u001b[1;32m      4\u001b[0m             \u001b[38;5;241m.\u001b[39mappName(\u001b[38;5;124m'\u001b[39m\u001b[38;5;124mTest elastic\u001b[39m\u001b[38;5;124m'\u001b[39m)\n\u001b[1;32m      5\u001b[0m             \u001b[38;5;241m.\u001b[39mconfig(\u001b[38;5;124m\"\u001b[39m\u001b[38;5;124mspark.jars\u001b[39m\u001b[38;5;124m\"\u001b[39m,\u001b[38;5;124m\"\u001b[39m\u001b[38;5;124m/elasticsearch-hadoop-7.15.1.jar\u001b[39m\u001b[38;5;124m\"\u001b[39m)\n\u001b[1;32m      6\u001b[0m             \u001b[38;5;241m.\u001b[39mconfig(\u001b[38;5;124m\"\u001b[39m\u001b[38;5;124mspark.driver.extraClassPath\u001b[39m\u001b[38;5;124m\"\u001b[39m,\u001b[38;5;124m\"\u001b[39m\u001b[38;5;124m/elasticsearch-hadoop-7.15.1.jar\u001b[39m\u001b[38;5;124m\"\u001b[39m)\n\u001b[0;32m----> 7\u001b[0m             \u001b[38;5;241m.\u001b[39mconfig(\u001b[38;5;124m\"\u001b[39m\u001b[38;5;124mspark.es.nodes\u001b[39m\u001b[38;5;124m\"\u001b[39m,\u001b[38;5;28;43mself\u001b[39;49m\u001b[38;5;241m.\u001b[39melasticsearch_conf[\u001b[38;5;124m\"\u001b[39m\u001b[38;5;124mes.nodes\u001b[39m\u001b[38;5;124m\"\u001b[39m])\n\u001b[1;32m      8\u001b[0m             \u001b[38;5;241m.\u001b[39mconfig(\u001b[38;5;124m\"\u001b[39m\u001b[38;5;124mspark.es.port\u001b[39m\u001b[38;5;124m\"\u001b[39m,\u001b[38;5;28mself\u001b[39m\u001b[38;5;241m.\u001b[39melasticsearch_conf[\u001b[38;5;124m\"\u001b[39m\u001b[38;5;124mes.port\u001b[39m\u001b[38;5;124m\"\u001b[39m])\n\u001b[1;32m      9\u001b[0m             \u001b[38;5;241m.\u001b[39mconfig(\u001b[38;5;124m\"\u001b[39m\u001b[38;5;124mspark.es.nodes.wan.only\u001b[39m\u001b[38;5;124m\"\u001b[39m,\u001b[38;5;28mself\u001b[39m\u001b[38;5;241m.\u001b[39melasticsearch_conf[\u001b[38;5;124m\"\u001b[39m\u001b[38;5;124mes.nodes.wan.only\u001b[39m\u001b[38;5;124m\"\u001b[39m])\n\u001b[1;32m     10\u001b[0m             \u001b[38;5;241m.\u001b[39mgetOrCreate())\n",
      "\u001b[0;31mNameError\u001b[0m: name 'self' is not defined"
     ]
    }
   ],
   "source": [
    "from pyspark.sql.session import SparkSession\n",
    "self.spark_app = (SparkSession\n",
    "            .builder.master(\"local\")\n",
    "            .appName('Test elastic')\n",
    "            .config(\"spark.jars\",\"/elasticsearch-hadoop-7.15.1.jar\")\n",
    "            .config(\"spark.driver.extraClassPath\",\"/elasticsearch-hadoop-7.15.1.jar\")\n",
    "            .config(\"spark.es.nodes\",self.elasticsearch_conf[\"es.nodes\"])\n",
    "            .config(\"spark.es.port\",self.elasticsearch_conf[\"es.port\"])\n",
    "            .config(\"spark.es.nodes.wan.only\",self.elasticsearch_conf[\"es.nodes.wan.only\"])\n",
    "            .getOrCreate())"
   ]
  },
  {
   "cell_type": "code",
   "execution_count": 17,
   "id": "da1d9771-1726-448f-8771-6f734a8972b1",
   "metadata": {},
   "outputs": [
    {
     "name": "stdout",
     "output_type": "stream",
     "text": [
      "2023-01-19 09:00:00\n",
      "2023-01-19 11:30:00\n",
      "2023-01-19 13:30:00\n",
      "2023-01-19 15:00:00\n"
     ]
    },
    {
     "data": {
      "text/plain": [
       "False"
      ]
     },
     "execution_count": 17,
     "metadata": {},
     "output_type": "execute_result"
    }
   ],
   "source": [
    "from datetime import datetime\n",
    "\n",
    "def check_in_trading_time():\n",
    "    now = datetime.now()\n",
    "    today = now.strftime('%Y-%m-%d')\n",
    "\n",
    "    start_morning = datetime.strptime(today + '09:00:00', '%Y-%m-%d%H:%M:%S')\n",
    "    end_morning = datetime.strptime(today + '11:30:00', '%Y-%m-%d%H:%M:%S')\n",
    "    start_affternoon = datetime.strptime(today + '13:30:00', '%Y-%m-%d%H:%M:%S')\n",
    "    end_affternoon = datetime.strptime(today + '15:00:00', '%Y-%m-%d%H:%M:%S')\n",
    "\n",
    "    print(start_morning)\n",
    "    print(end_morning)\n",
    "    print(start_affternoon)\n",
    "    print(end_affternoon)\n",
    "    \n",
    "    return (now > start_morning and now < end_morning) or (now > start_affternoon and now < end_affternoon)\n",
    "    \n",
    "    \n",
    "    \n",
    "check_in_trading_time()"
   ]
  },
  {
   "cell_type": "code",
   "execution_count": 28,
   "id": "cca99a54-43aa-4bf2-8376-0578db6a7d57",
   "metadata": {},
   "outputs": [
    {
     "name": "stdout",
     "output_type": "stream",
     "text": [
      "397\n"
     ]
    }
   ],
   "source": [
    "import random\n",
    "print(10 * 10 + int(random.random() * 1000))"
   ]
  }
 ],
 "metadata": {
  "kernelspec": {
   "display_name": "Python 3 (ipykernel)",
   "language": "python",
   "name": "python3"
  },
  "language_info": {
   "codemirror_mode": {
    "name": "ipython",
    "version": 3
   },
   "file_extension": ".py",
   "mimetype": "text/x-python",
   "name": "python",
   "nbconvert_exporter": "python",
   "pygments_lexer": "ipython3",
   "version": "3.10.8"
  }
 },
 "nbformat": 4,
 "nbformat_minor": 5
}
