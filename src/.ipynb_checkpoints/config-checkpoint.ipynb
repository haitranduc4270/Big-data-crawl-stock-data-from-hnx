{
 "cells": [
  {
   "cell_type": "code",
   "execution_count": 2,
   "id": "7bc5864c-c167-47cb-a2b4-ba9aa0cdc150",
   "metadata": {},
   "outputs": [],
   "source": [
    "from pyspark.context import SparkContext\n",
    "from pyspark.sql.session import SparkSession\n",
    "from pyspark.sql.functions import expr, col, column\n",
    "sc = SparkContext('local')\n",
    "spark = SparkSession(sc)"
   ]
  },
  {
   "cell_type": "code",
   "execution_count": null,
   "id": "18f88a86-1f0b-45fb-93db-7da4f1172648",
   "metadata": {},
   "outputs": [],
   "source": [
    "from pyspark.sql import Row\n",
    "from pyspark.sql.types import *\n",
    "\n",
    "# Read json data receive from kafka and write to hdfs\n",
    "data = ['ssi_stock_data.json', 'ssi_stock_data_HOSE.json', 'ssi_stock_data_HNX.json', 'analys_news_vndirect.json', 'news_vndirect.json']\n",
    "for file in data: \n",
    "    json = spark.read.option(\"multiLine\", \"true\").json('../crawler/config/' + file)\n",
    "    json.write.format(\"json\").mode(\"overwrite\").save(\"hdfs://namenode:9000/project20221-real/config/\" + file)\n",
    "    json = spark.read.json(\"hdfs://namenode:9000/project20221-real/config/\" + file)\n",
    "    json.select(col('frequency')).show(1, False)\n",
    "    json.printSchema()"
   ]
  }
 ],
 "metadata": {
  "kernelspec": {
   "display_name": "Python 3 (ipykernel)",
   "language": "python",
   "name": "python3"
  },
  "language_info": {
   "codemirror_mode": {
    "name": "ipython",
    "version": 3
   },
   "file_extension": ".py",
   "mimetype": "text/x-python",
   "name": "python",
   "nbconvert_exporter": "python",
   "pygments_lexer": "ipython3",
   "version": "3.10.8"
  }
 },
 "nbformat": 4,
 "nbformat_minor": 5
}
