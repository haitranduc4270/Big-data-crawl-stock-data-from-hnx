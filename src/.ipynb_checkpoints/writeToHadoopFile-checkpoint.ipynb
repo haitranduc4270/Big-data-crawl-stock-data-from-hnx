{
 "cells": [
  {
   "cell_type": "code",
   "execution_count": 14,
   "id": "d939cb5d-d592-4056-b9f4-84be0ce68072",
   "metadata": {},
   "outputs": [
    {
     "name": "stdout",
     "output_type": "stream",
     "text": [
      "\u001b[31mERROR: Could not find a version that satisfies the requirement request (from versions: none)\u001b[0m\u001b[31m\n",
      "\u001b[0m\u001b[31mERROR: No matching distribution found for request\u001b[0m\u001b[31m\n",
      "\u001b[0m"
     ]
    }
   ],
   "source": [
    "!pip install request"
   ]
  },
  {
   "cell_type": "code",
   "execution_count": 2,
   "id": "80bfc39c-2bad-4c73-bf78-755a7a4a7a6b",
   "metadata": {},
   "outputs": [],
   "source": [
    "from pyspark.context import SparkContext\n",
    "from pyspark.sql.session import SparkSession\n",
    "from pyspark.sql.functions import expr, col, column\n",
    "sc = SparkContext('local')\n",
    "spark = SparkSession(sc)"
   ]
  },
  {
   "cell_type": "code",
   "execution_count": 3,
   "id": "c3d842d7-78ab-47ed-86c1-536935b03fc7",
   "metadata": {},
   "outputs": [
    {
     "name": "stdout",
     "output_type": "stream",
     "text": [
      "root\n",
      " |-- stockNo: string (nullable = true)\n",
      " |-- ceiling: integer (nullable = true)\n",
      " |-- floor: integer (nullable = true)\n",
      " |-- refPrice: integer (nullable = true)\n",
      " |-- stockSymbol: string (nullable = true)\n",
      " |-- stockType: string (nullable = true)\n",
      " |-- exchange: string (nullable = true)\n",
      " |-- matchedPrice: integer (nullable = true)\n",
      " |-- matchedVolume: integer (nullable = true)\n",
      " |-- priceChange: double (nullable = true)\n",
      " |-- priceChangePercent: double (nullable = true)\n",
      " |-- highest: integer (nullable = true)\n",
      " |-- avgPrice: double (nullable = true)\n",
      " |-- lowest: integer (nullable = true)\n",
      " |-- nmTotalTradedQty: integer (nullable = true)\n",
      " |-- best1Bid: integer (nullable = true)\n",
      " |-- best1BidVol: integer (nullable = true)\n",
      " |-- best2Bid: integer (nullable = true)\n",
      " |-- best2BidVol: integer (nullable = true)\n",
      " |-- best3Bid: integer (nullable = true)\n",
      " |-- best3BidVol: integer (nullable = true)\n",
      " |-- best4Bid: string (nullable = true)\n",
      " |-- best4BidVol: string (nullable = true)\n",
      " |-- best5Bid: string (nullable = true)\n",
      " |-- best5BidVol: string (nullable = true)\n",
      " |-- best6Bid: string (nullable = true)\n",
      " |-- best6BidVol: string (nullable = true)\n",
      " |-- best7Bid: string (nullable = true)\n",
      " |-- best7BidVol: string (nullable = true)\n",
      " |-- best8Bid: string (nullable = true)\n",
      " |-- best8BidVol: string (nullable = true)\n",
      " |-- best9Bid: string (nullable = true)\n",
      " |-- best9BidVol: string (nullable = true)\n",
      " |-- best10Bid: string (nullable = true)\n",
      " |-- best10BidVol: string (nullable = true)\n",
      " |-- best1Offer: integer (nullable = true)\n",
      " |-- best1OfferVol: integer (nullable = true)\n",
      " |-- best2Offer: integer (nullable = true)\n",
      " |-- best2OfferVol: integer (nullable = true)\n",
      " |-- best3Offer: integer (nullable = true)\n",
      " |-- best3OfferVol: integer (nullable = true)\n",
      " |-- best4Offer: string (nullable = true)\n",
      " |-- best4OfferVol: string (nullable = true)\n",
      " |-- best5Offer: string (nullable = true)\n",
      " |-- best5OfferVol: string (nullable = true)\n",
      " |-- best6Offer: string (nullable = true)\n",
      " |-- best6OfferVol: string (nullable = true)\n",
      " |-- best7Offer: string (nullable = true)\n",
      " |-- best7OfferVol: string (nullable = true)\n",
      " |-- best8Offer: string (nullable = true)\n",
      " |-- best8OfferVol: string (nullable = true)\n",
      " |-- best9Offer: string (nullable = true)\n",
      " |-- best9OfferVol: string (nullable = true)\n",
      " |-- best10Offer: string (nullable = true)\n",
      " |-- best10OfferVol: string (nullable = true)\n",
      " |-- buyForeignQtty: integer (nullable = true)\n",
      " |-- buyForeignValue: string (nullable = true)\n",
      " |-- sellForeignQtty: integer (nullable = true)\n",
      " |-- sellForeignValue: string (nullable = true)\n",
      " |-- caStatus: string (nullable = true)\n",
      " |-- tradingStatus: string (nullable = true)\n",
      " |-- remainForeignQtty: integer (nullable = true)\n",
      " |-- currentBidQty: string (nullable = true)\n",
      " |-- currentOfferQty: string (nullable = true)\n",
      " |-- session: string (nullable = true)\n",
      " |-- tradingUnit: integer (nullable = true)\n",
      " |-- __typename: string (nullable = true)\n",
      " |-- date_time: timestamp (nullable = true)\n",
      "\n",
      "+--------+-------+-----+--------+-----------+---------+--------+------------+-------------+-----------+------------------+-------+--------+------+----------------+--------+-----------+--------+-----------+--------+-----------+--------+-----------+--------+-----------+--------+-----------+--------+-----------+--------+-----------+--------+-----------+---------+------------+----------+-------------+----------+-------------+----------+-------------+----------+-------------+----------+-------------+----------+-------------+----------+-------------+----------+-------------+----------+-------------+-----------+--------------+--------------+---------------+---------------+----------------+--------+-------------+-----------------+-------------+---------------+-------+-----------+-------------+-------------------+\n",
      "|stockNo |ceiling|floor|refPrice|stockSymbol|stockType|exchange|matchedPrice|matchedVolume|priceChange|priceChangePercent|highest|avgPrice|lowest|nmTotalTradedQty|best1Bid|best1BidVol|best2Bid|best2BidVol|best3Bid|best3BidVol|best4Bid|best4BidVol|best5Bid|best5BidVol|best6Bid|best6BidVol|best7Bid|best7BidVol|best8Bid|best8BidVol|best9Bid|best9BidVol|best10Bid|best10BidVol|best1Offer|best1OfferVol|best2Offer|best2OfferVol|best3Offer|best3OfferVol|best4Offer|best4OfferVol|best5Offer|best5OfferVol|best6Offer|best6OfferVol|best7Offer|best7OfferVol|best8Offer|best8OfferVol|best9Offer|best9OfferVol|best10Offer|best10OfferVol|buyForeignQtty|buyForeignValue|sellForeignQtty|sellForeignValue|caStatus|tradingStatus|remainForeignQtty|currentBidQty|currentOfferQty|session|tradingUnit|__typename   |date_time          |\n",
      "+--------+-------+-----+--------+-----------+---------+--------+------------+-------------+-----------+------------------+-------+--------+------+----------------+--------+-----------+--------+-----------+--------+-----------+--------+-----------+--------+-----------+--------+-----------+--------+-----------+--------+-----------+--------+-----------+---------+------------+----------+-------------+----------+-------------+----------+-------------+----------+-------------+----------+-------------+----------+-------------+----------+-------------+----------+-------------+----------+-------------+-----------+--------------+--------------+---------------+---------------+----------------+--------+-------------+-----------------+-------------+---------------+-------+-----------+-------------+-------------------+\n",
      "|hose:436|24100  |21000|22550   |ACB        |s        |hose    |22800       |25870        |250.0      |1.1               |23000  |22585.73|22300 |1887300         |22650   |100        |22600   |5000       |22550   |25800      |null    |null       |null    |null       |null    |null       |null    |null       |null    |null       |null    |null       |null     |null        |22800     |50900        |22850     |7700         |22900     |38000        |null      |null         |null      |null         |null      |null         |null      |null         |null      |null         |null      |null         |null       |null          |0             |null           |0              |null            |null    |null         |0                |null         |null           |C      |100        |StockRealtime|2022-12-24 07:25:34|\n",
      "+--------+-------+-----+--------+-----------+---------+--------+------------+-------------+-----------+------------------+-------+--------+------+----------------+--------+-----------+--------+-----------+--------+-----------+--------+-----------+--------+-----------+--------+-----------+--------+-----------+--------+-----------+--------+-----------+---------+------------+----------+-------------+----------+-------------+----------+-------------+----------+-------------+----------+-------------+----------+-------------+----------+-------------+----------+-------------+----------+-------------+-----------+--------------+--------------+---------------+---------------+----------------+--------+-------------+-----------------+-------------+---------------+-------+-----------+-------------+-------------------+\n",
      "only showing top 1 row\n",
      "\n"
     ]
    }
   ],
   "source": [
    "# Read data receive from kafka and write to hdfs\n",
    "data = ['ssiDataApi.csv']\n",
    "for file in data: \n",
    "    csv = spark.read.option(\"inferSchema\", True).option(\"header\",True).csv(\"../crawler/data/ssiDataApi.csv\")\n",
    "    csv.printSchema()\n",
    "    csv.show(1, False)\n",
    "    csv.write.format(\"csv\").mode(\"overwrite\").option(\"header\",True).save(\"hdfs://namenode:9000/project20221/raw/\" + file)\n",
    "    csv = spark.read.option(\"header\",True).csv(\"hdfs://namenode:9000/project20221/raw/\" + file)\n",
    "    # csv.show(1, True)"
   ]
  },
  {
   "cell_type": "code",
   "execution_count": 37,
   "id": "c8cf16e1-eea9-4fa1-9314-0760db792275",
   "metadata": {},
   "outputs": [
    {
     "name": "stdout",
     "output_type": "stream",
     "text": [
      "+--------+-----------+----------+-------------+--------+-----------+----------+-------------+--------+-----------+----------+-------------+-------+-----+-------+------+------------+-------------+----------------+-----------+------------------+--------+----------+--------------+--------------------+\n",
      "|best1Bid|best1BidVol|best1Offer|best1OfferVol|best2Bid|best2BidVol|best2Offer|best2OfferVol|best3Bid|best3BidVol|best3Offer|best3OfferVol|ceiling|floor|highest|lowest|matchedPrice|matchedVolume|nmTotalTradedQty|priceChange|priceChangePercent|refPrice|stock_code|stock_exchange|          time_stamp|\n",
      "+--------+-----------+----------+-------------+--------+-----------+----------+-------------+--------+-----------+----------+-------------+-------+-----+-------+------+------------+-------------+----------------+-----------+------------------+--------+----------+--------------+--------------------+\n",
      "|    11.0|        100|      12.5|         1400|     0.0|          0|      12.6|         1000|     0.0|          0|      12.7|         2000|   13.4| 11.0|   12.2|  12.2|        12.2|          100|             600|       0.00|               0.0|    12.2|       PMP|           hnx|2023-01-11T22:28:...|\n",
      "|     0.0|          0|      22.2|          700|     0.0|          0|      24.5|          100|     0.0|          0|      24.6|          100|   27.0| 22.2|   22.2|  22.2|        22.2|          300|             800|   -2400.00|              -9.8|    24.6|       SFN|           hnx|2023-01-11T22:28:...|\n",
      "|     6.2|        300|       6.5|         5800|     6.1|        800|       6.6|         5400|     6.0|       2200|       6.7|         5600|    6.8|  5.6|    6.5|   6.2|         6.2|          100|            2000|       0.00|               0.0|     6.2|       PCG|           hnx|2023-01-11T22:28:...|\n",
      "|    10.7|        500|      11.0|          500|    10.6|        200|      11.2|          500|    10.5|       1000|      11.4|          300|   12.1|  9.9|   11.2|  11.0|        11.0|          500|            2500|       0.00|               0.0|    11.0|       PMB|           hnx|2023-01-11T22:28:...|\n",
      "|     7.9|       2500|       8.0|         8400|     7.8|       9800|       8.1|        23200|     7.7|       1200|       8.2|        10900|    8.6|  7.2|    8.0|   7.9|         8.0|          100|           14100|     100.00|               1.3|     7.9|       PSW|           hnx|2023-01-11T22:28:...|\n",
      "|     4.5|       8000|       4.9|         1500|     0.0|          0|       5.0|          700|     0.0|          0|       5.1|          700|    5.3|  4.5|    4.8|   4.5|         4.8|          100|           10600|    -100.00|              -2.0|     4.9|       PCT|           hnx|2023-01-11T22:28:...|\n",
      "|     7.0|       1700|       7.2|          100|     6.8|       1500|       7.3|         1700|     6.7|        600|       7.4|         1300|    8.0|  6.6|    7.2|   7.0|         7.2|          800|           10000|    -100.00|              -1.4|     7.3|       PGN|           hnx|2023-01-11T22:28:...|\n",
      "|     0.0|          0|       0.0|            0|     0.0|          0|       0.0|            0|     0.0|          0|       0.0|            0|   40.1| 32.9|    0.0|   0.0|         0.0|            0|               0|           |                  |    36.5|       QHD|           hnx|2023-01-11T22:28:...|\n",
      "|    23.0|       4300|      24.0|         2100|     0.0|          0|      25.1|         4000|     0.0|          0|      25.3|         4300|   27.8| 22.8|   23.0|  23.0|        23.0|          100|             100|   -2300.00|              -9.1|    25.3|       PJC|           hnx|2023-01-11T22:28:...|\n",
      "|    21.2|        200|      23.6|          200|    21.1|        100|      24.6|          100|    20.6|        500|       0.0|            0|   24.7| 20.3|   20.3|  20.3|        20.3|          100|             100|   -2200.00|              -9.8|    22.5|       PMS|           hnx|2023-01-11T22:28:...|\n",
      "|    12.6|        100|      13.0|          300|    12.5|        200|      13.1|          100|     0.0|          0|      13.2|         1000|   15.1| 12.5|    0.0|   0.0|         0.0|            0|               0|           |                  |    13.8|       NBP|           hnx|2023-01-11T22:28:...|\n",
      "|    12.5|       9800|      12.6|          400|    12.0|        200|      12.7|          900|    11.5|       1000|      13.0|         1000|   13.7| 11.3|   12.7|  12.5|        12.5|          100|           20300|       0.00|               0.0|    12.5|       PSE|           hnx|2023-01-11T22:28:...|\n",
      "|     4.3|       3100|       4.4|        17400|     4.2|      14100|       4.5|        19000|     4.1|      22700|       4.6|        28000|    4.7|  3.9|    4.5|   4.3|         4.3|          300|           48200|       0.00|               0.0|     4.3|       NSH|           hnx|2023-01-11T22:28:...|\n",
      "|     6.6|        600|       6.7|         4400|     6.5|       1600|       6.8|         5700|     6.4|       1100|       6.9|         4400|    7.1|  5.9|    6.7|   6.5|         6.7|          100|            1900|     200.00|               3.1|     6.5|       SD9|           hnx|2023-01-11T22:28:...|\n",
      "|     0.0|          0|      13.9|          900|     0.0|          0|      14.0|          700|     0.0|          0|      14.3|         1200|   15.2| 12.6|   14.8|  12.6|        13.9|          100|             600|       0.00|               0.0|    13.9|       SJ1|           hnx|2023-01-11T22:28:...|\n",
      "|    17.6|       5000|      18.9|         2000|    17.4|        100|      19.0|         2900|    16.8|        100|      19.2|         1500|   19.6| 16.2|   19.0|  17.6|        19.0|          100|            5100|    1100.00|               6.1|    17.9|       PRE|           hnx|2023-01-11T22:28:...|\n",
      "|     6.9|        400|       7.0|         1800|     6.8|       4000|       7.1|         9900|     6.7|       1100|       7.2|         7300|    7.5|  6.3|    7.1|   6.8|         6.9|         1000|           23000|       0.00|               0.0|     6.9|       SDA|           hnx|2023-01-11T22:28:...|\n",
      "|     5.6|        400|       5.7|          900|     5.5|       2800|       5.8|         1100|     5.4|       1200|       5.9|         2800|    6.1|  5.1|    5.7|   5.5|         5.7|          100|            1700|     100.00|               1.8|     5.6|       NDX|           hnx|2023-01-11T22:28:...|\n",
      "|     0.0|          0|       0.0|            0|     0.0|          0|       0.0|            0|     0.0|          0|       0.0|            0|    0.0|  0.0|    0.0|   0.0|         0.0|            0|               0|           |                  |    94.5|  NPM11911|           hnx|2023-01-11T22:28:...|\n",
      "|    32.0|       4500|      32.1|          800|    31.8|       6600|      32.2|         5800|    31.7|       1000|      32.4|         1000|   35.3| 28.9|   32.2|  32.0|        32.1|          100|           13100|       0.00|               0.0|    32.1|       NTP|           hnx|2023-01-11T22:28:...|\n",
      "+--------+-----------+----------+-------------+--------+-----------+----------+-------------+--------+-----------+----------+-------------+-------+-----+-------+------+------------+-------------+----------------+-----------+------------------+--------+----------+--------------+--------------------+\n",
      "only showing top 20 rows\n",
      "\n"
     ]
    }
   ],
   "source": [
    "from pyspark.sql import Row\n",
    "from pyspark.sql.types import *\n",
    "\n",
    "# Read json data receive from kafka and write to hdfs\n",
    "data = ['ssi_stock_data.json', 'ssi_stock_data_HOSE.json', 'ssi_stock_data_HNX.json', 'analys_news_vndirect.json', 'news_vndirect.json']\n",
    "for file in data: \n",
    "    json = spark.read.option(\"multiLine\", \"true\").json('../crawler/config/' + file)\n",
    "    json.write.format(\"json\").mode(\"overwrite\").save(\"hdfs://namenode:9000/project20221-real/config/\" + file)\n",
    "    json = spark.read.json(\"hdfs://namenode:9000/project20221/config/\" + file)\n",
    "    json.show(1)\n",
    "    config = json.rdd.map(lambda row: row.asDict()).collect()\n",
    "    print(config)\n"
   ]
  }
 ],
 "metadata": {
  "kernelspec": {
   "display_name": "Python 3 (ipykernel)",
   "language": "python",
   "name": "python3"
  },
  "language_info": {
   "codemirror_mode": {
    "name": "ipython",
    "version": 3
   },
   "file_extension": ".py",
   "mimetype": "text/x-python",
   "name": "python",
   "nbconvert_exporter": "python",
   "pygments_lexer": "ipython3",
   "version": "3.10.8"
  }
 },
 "nbformat": 4,
 "nbformat_minor": 5
}
