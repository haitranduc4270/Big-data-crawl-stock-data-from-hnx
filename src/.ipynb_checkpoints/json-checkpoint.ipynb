{
 "cells": [
  {
   "cell_type": "code",
   "execution_count": 19,
   "id": "94494dad-9cea-4841-a478-6c3b1a1d9f72",
   "metadata": {},
   "outputs": [
    {
     "name": "stdout",
     "output_type": "stream",
     "text": [
      "[{'name': 'sathiy-ajith', 'rollno': 56, 'cgpa': 8.6, 'phonenumber': '9976770500'}, {'name': 'sathiyajith1', 'rollno': 56, 'cgpa': 8.6, 'phonenumber': '9976770501'}, {'name': 'sathiyajith2', 'rollno': 56, 'cgpa': 8.6, 'phonenumber': '9976770502'}, {'name': 'sathiyajith3', 'rollno': 56, 'cgpa': 8.6, 'phonenumber': '9976770503'}]\n"
     ]
    }
   ],
   "source": [
    "import json\n",
    " \n",
    "# Data to be written\n",
    "dictionary = {\n",
    "    \"time_stamp\": \"2022-12-12T12:15:12\",\n",
    "    \"data\": \n",
    "    [{\n",
    "        \"name\": \"sathiy-ajith\",\n",
    "        \"rollno\": 56,\n",
    "        \"cgpa\": 8.6,\n",
    "        \"phonenumber\": \"9976770500\"\n",
    "    },{\n",
    "        \"name\": \"sathiyajith1\",\n",
    "        \"rollno\": 56,\n",
    "        \"cgpa\": 8.6,\n",
    "        \"phonenumber\": \"9976770501\"\n",
    "    },{\n",
    "        \"name\": \"sathiyajith2\",\n",
    "        \"rollno\": 56,\n",
    "        \"cgpa\": 8.6,\n",
    "        \"phonenumber\": \"9976770502\"\n",
    "    },{\n",
    "        \"name\": \"sathiyajith3\",\n",
    "        \"rollno\": 56,\n",
    "        \"cgpa\": 8.6,\n",
    "        \"phonenumber\": \"9976770503\"\n",
    "    }]\n",
    "}\n",
    "\n",
    " \n",
    "# Serializing json\n",
    "json_object = json.dumps(dictionary, indent=4)\n",
    "\n"
   ]
  },
  {
   "cell_type": "code",
   "execution_count": 16,
   "id": "817f3cb1-e749-45d9-8a59-45b993c9fa4f",
   "metadata": {},
   "outputs": [
    {
     "name": "stdout",
     "output_type": "stream",
     "text": [
      "File exists:False\n",
      "File exists:False\n",
      "directory exists:False\n",
      "file exists:True\n"
     ]
    }
   ],
   "source": [
    "import os.path\n",
    "from os import path\n",
    "\n",
    "def main():\n",
    "\n",
    "   print (\"File exists:\"+str(path.exists('guru99.txt')))\n",
    "   print (\"File exists:\" + str(path.exists('career.guru99.txt')))\n",
    "   print (\"directory exists:\" + str(path.exists('myDirectory')))\n",
    "   print (\"file exists:\" + str(path.exists('sample.json')))\n",
    "\n",
    "\n",
    "if __name__== \"__main__\":\n",
    "   main()"
   ]
  }
 ],
 "metadata": {
  "kernelspec": {
   "display_name": "Python 3 (ipykernel)",
   "language": "python",
   "name": "python3"
  },
  "language_info": {
   "codemirror_mode": {
    "name": "ipython",
    "version": 3
   },
   "file_extension": ".py",
   "mimetype": "text/x-python",
   "name": "python",
   "nbconvert_exporter": "python",
   "pygments_lexer": "ipython3",
   "version": "3.10.8"
  }
 },
 "nbformat": 4,
 "nbformat_minor": 5
}
