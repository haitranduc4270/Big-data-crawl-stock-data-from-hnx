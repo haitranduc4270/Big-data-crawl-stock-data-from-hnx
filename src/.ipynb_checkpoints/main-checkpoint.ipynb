{
 "cells": [
  {
   "cell_type": "code",
   "execution_count": 16,
   "id": "77339799-92e3-4534-a99c-9c62f8aef9eb",
   "metadata": {},
   "outputs": [
    {
     "name": "stdout",
     "output_type": "stream",
     "text": [
      "Requirement already satisfied: requests in /opt/conda/lib/python3.10/site-packages (2.28.1)\n",
      "Requirement already satisfied: idna<4,>=2.5 in /opt/conda/lib/python3.10/site-packages (from requests) (3.4)\n",
      "Requirement already satisfied: urllib3<1.27,>=1.21.1 in /opt/conda/lib/python3.10/site-packages (from requests) (1.26.13)\n",
      "Requirement already satisfied: certifi>=2017.4.17 in /opt/conda/lib/python3.10/site-packages (from requests) (2022.12.7)\n",
      "Requirement already satisfied: charset-normalizer<3,>=2 in /opt/conda/lib/python3.10/site-packages (from requests) (2.1.1)\n"
     ]
    }
   ],
   "source": [
    "!pip install requests"
   ]
  },
  {
   "cell_type": "code",
   "execution_count": null,
   "id": "45b41494-4b2d-4424-808b-39739ad83b8d",
   "metadata": {},
   "outputs": [],
   "source": []
  },
  {
   "cell_type": "code",
   "execution_count": 9,
   "id": "d12fdb75-4cbe-4af2-9d8c-8da90c1400ed",
   "metadata": {},
   "outputs": [],
   "source": [
    "from pyspark.context import SparkContext\n",
    "from pyspark.sql.session import SparkSession\n",
    "\n",
    "spark_builder = (\n",
    "    SparkSession\n",
    "    .builder\n",
    "    .master('spark://spark-master:7077')\n",
    "    .appName('pyspark_application'))"
   ]
  },
  {
   "cell_type": "code",
   "execution_count": 50,
   "id": "75374fd2-2303-429c-a4b1-27530adf6286",
   "metadata": {},
   "outputs": [
    {
     "name": "stdout",
     "output_type": "stream",
     "text": [
      "2023-01-03 15:14:51.093773\n",
      "root\n",
      " |-- __typename: string (nullable = true)\n",
      " |-- avgPrice: double (nullable = true)\n",
      " |-- best1Bid: long (nullable = true)\n",
      " |-- best1BidVol: long (nullable = true)\n",
      " |-- best1Offer: long (nullable = true)\n",
      " |-- best1OfferVol: long (nullable = true)\n",
      " |-- best2Bid: long (nullable = true)\n",
      " |-- best2BidVol: long (nullable = true)\n",
      " |-- best2Offer: long (nullable = true)\n",
      " |-- best2OfferVol: long (nullable = true)\n",
      " |-- best3Bid: long (nullable = true)\n",
      " |-- best3BidVol: long (nullable = true)\n",
      " |-- best3Offer: long (nullable = true)\n",
      " |-- best3OfferVol: long (nullable = true)\n",
      " |-- buyForeignQtty: long (nullable = true)\n",
      " |-- caStatus: string (nullable = true)\n",
      " |-- ceiling: long (nullable = true)\n",
      " |-- exchange: string (nullable = true)\n",
      " |-- floor: long (nullable = true)\n",
      " |-- highest: long (nullable = true)\n",
      " |-- lowest: long (nullable = true)\n",
      " |-- matchedPrice: long (nullable = true)\n",
      " |-- matchedVolume: long (nullable = true)\n",
      " |-- nmTotalTradedQty: long (nullable = true)\n",
      " |-- priceChange: string (nullable = true)\n",
      " |-- priceChangePercent: string (nullable = true)\n",
      " |-- refPrice: long (nullable = true)\n",
      " |-- remainForeignQtty: long (nullable = true)\n",
      " |-- sellForeignQtty: long (nullable = true)\n",
      " |-- session: string (nullable = true)\n",
      " |-- stockNo: string (nullable = true)\n",
      " |-- stockSymbol: string (nullable = true)\n",
      " |-- stockType: string (nullable = true)\n",
      " |-- tradingStatus: string (nullable = true)\n",
      " |-- tradingUnit: string (nullable = true)\n",
      "\n",
      "+-------------+--------+--------+-----------+----------+-------------+--------+-----------+----------+-------------+--------+-----------+----------+-------------+--------------+--------+-------+--------+-----+-------+------+------------+-------------+----------------+-----------+------------------+--------+-----------------+---------------+-------+--------+-----------+---------+-------------+-----------+\n",
      "|__typename   |avgPrice|best1Bid|best1BidVol|best1Offer|best1OfferVol|best2Bid|best2BidVol|best2Offer|best2OfferVol|best3Bid|best3BidVol|best3Offer|best3OfferVol|buyForeignQtty|caStatus|ceiling|exchange|floor|highest|lowest|matchedPrice|matchedVolume|nmTotalTradedQty|priceChange|priceChangePercent|refPrice|remainForeignQtty|sellForeignQtty|session|stockNo |stockSymbol|stockType|tradingStatus|tradingUnit|\n",
      "+-------------+--------+--------+-----------+----------+-------------+--------+-----------+----------+-------------+--------+-----------+----------+-------------+--------------+--------+-------+--------+-----+-------+------+------------+-------------+----------------+-----------+------------------+--------+-----------------+---------------+-------+--------+-----------+---------+-------------+-----------+\n",
      "|StockRealtime|22328.54|22700   |95000      |22750     |600          |22650   |20000      |22800     |27800        |22600   |37400      |22850     |1000         |0             |        |23400  |hose    |20400|22700  |21950 |22700       |34760        |1547700         |800.00     |3.7               |21900   |0                |0              |C      |hose:436|ACB        |s        |             |100        |\n",
      "+-------------+--------+--------+-----------+----------+-------------+--------+-----------+----------+-------------+--------+-----------+----------+-------------+--------------+--------+-------+--------+-----+-------+------+------------+-------------+----------------+-----------+------------------+--------+-----------------+---------------+-------+--------+-----------+---------+-------------+-----------+\n",
      "only showing top 1 row\n",
      "\n"
     ]
    }
   ],
   "source": [
    "import requests\n",
    "import json\n",
    "from datetime import datetime\n",
    "\n",
    "spark = spark_builder.getOrCreate()\n",
    "\n",
    "def get_stock_real_times_by_group (spark_instance):\n",
    "    print(datetime.now())\n",
    "    stock_real_times_by_group = requests.post('https://wgateway-iboard.ssi.com.vn/graphql', json = {\n",
    "        \"operationName\" : \"stockRealtimesByGroup\",\n",
    "        \"query\":  \"query stockRealtimesByGroup($group: String) {\\n  stockRealtimesByGroup(group: $group) {\\n    stockNo\\n    ceiling\\n    floor\\n    refPrice\\n    stockSymbol\\n    stockType\\n    exchange\\n    matchedPrice\\n    matchedVolume\\n    priceChange\\n    priceChangePercent\\n    highest\\n    avgPrice\\n    lowest\\n    nmTotalTradedQty\\n    best1Bid\\n    best1BidVol\\n    best2Bid\\n    best2BidVol\\n    best3Bid\\n    best3BidVol\\n    best4Bid\\n    best4BidVol\\n    best5Bid\\n    best5BidVol\\n    best6Bid\\n    best6BidVol\\n    best7Bid\\n    best7BidVol\\n    best8Bid\\n    best8BidVol\\n    best9Bid\\n    best9BidVol\\n    best10Bid\\n    best10BidVol\\n    best1Offer\\n    best1OfferVol\\n    best2Offer\\n    best2OfferVol\\n    best3Offer\\n    best3OfferVol\\n    best4Offer\\n    best4OfferVol\\n    best5Offer\\n    best5OfferVol\\n    best6Offer\\n    best6OfferVol\\n    best7Offer\\n    best7OfferVol\\n    best8Offer\\n    best8OfferVol\\n    best9Offer\\n    best9OfferVol\\n    best10Offer\\n    best10OfferVol\\n    buyForeignQtty\\n    buyForeignValue\\n    sellForeignQtty\\n    sellForeignValue\\n    caStatus\\n    tradingStatus\\n    remainForeignQtty\\n    currentBidQty\\n    currentOfferQty\\n    session\\n    tradingUnit\\n    __typename\\n  }\\n}\\n\",\n",
    "        \"variables\": {\n",
    "            \"group\": \"VN30\"\n",
    "        }\n",
    "    })\n",
    "    result = json.loads(stock_real_times_by_group.text)['data']['stockRealtimesByGroup']\n",
    "\n",
    "    df = spark_instance.sparkContext.parallelize(result).map(lambda x: json.dumps(x))\n",
    "    df = spark_instance.read.json(df)\n",
    "\n",
    "    df.write.format(\"json\").mode(\"overwrite\").save(\"hdfs://namenode:9000/project20221/raw/ssiDataApi.json\")\n",
    "    checker = spark_instance.read.json(\"hdfs://namenode:9000/project20221/raw/ssiDataApi.json\")\n",
    "    checker.printSchema()\n",
    "    checker.show(1, False)\n",
    "    \n",
    "get_stock_real_times_by_group(spark)"
   ]
  },
  {
   "cell_type": "code",
   "execution_count": null,
   "id": "bd5c08c8-3af7-4b15-8c0d-dcc44cdc4034",
   "metadata": {},
   "outputs": [
    {
     "name": "stdout",
     "output_type": "stream",
     "text": [
      "started\n",
      "0.1411395921869795\n",
      "heloooo\n",
      "0.4669149277785203\n",
      "heloooo\n",
      "0.46891553737083835\n",
      "heloooo\n",
      "0.4521907284114207\n",
      "heloooo\n",
      "0.10809866538530098\n",
      "heloooo\n",
      "0.1545509734106829\n",
      "heloooo\n",
      "0.31363957173768675\n",
      "heloooo\n",
      "0.44689895635516574\n",
      "heloooo\n",
      "0.1782700222099973\n",
      "heloooo\n",
      "0.4342120505760544\n",
      "heloooo\n",
      "0.20609632957281943\n",
      "heloooo\n",
      "0.10275048904997437\n",
      "heloooo\n",
      "0.2996692208958267\n",
      "heloooo\n",
      "0.4069168246944229\n",
      "heloooo\n",
      "0.4807318371082262\n",
      "heloooo\n",
      "0.22143682351748112\n",
      "heloooo\n",
      "0.3059227701913425\n",
      "heloooo\n",
      "0.18240260699769975\n",
      "heloooo\n",
      "0.30889079870826885\n",
      "heloooo\n",
      "0.2241807136646149\n",
      "heloooo\n",
      "0.4478857616586951\n",
      "heloooo\n",
      "0.1592891350914777\n",
      "heloooo\n",
      "0.4780504375781629\n",
      "heloooo\n",
      "0.20181033087059885\n",
      "heloooo\n",
      "0.2343010009282186\n",
      "heloooo\n",
      "0.31803312052815197\n",
      "heloooo\n",
      "0.3928958106910687\n"
     ]
    }
   ],
   "source": [
    "import random\n",
    "import time\n",
    "\n",
    "print('started')\n",
    "def start_crawler ():\n",
    "    while True:\n",
    "        sleep_time = random.uniform(0.5,1.5)\n",
    "        print(sleep_time)\n",
    "        time.sleep(sleep_time)\n",
    "        print(\"heloooo\")\n",
    "        \n",
    "start_crawler()"
   ]
  },
  {
   "cell_type": "code",
   "execution_count": null,
   "id": "c8b3fd07-0239-4c94-a2df-105666d2e67e",
   "metadata": {},
   "outputs": [],
   "source": []
  }
 ],
 "metadata": {
  "kernelspec": {
   "display_name": "Python 3 (ipykernel)",
   "language": "python",
   "name": "python3"
  },
  "language_info": {
   "codemirror_mode": {
    "name": "ipython",
    "version": 3
   },
   "file_extension": ".py",
   "mimetype": "text/x-python",
   "name": "python",
   "nbconvert_exporter": "python",
   "pygments_lexer": "ipython3",
   "version": "3.10.8"
  }
 },
 "nbformat": 4,
 "nbformat_minor": 5
}
