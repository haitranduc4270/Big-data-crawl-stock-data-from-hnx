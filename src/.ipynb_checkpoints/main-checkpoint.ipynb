{
 "cells": [
  {
   "cell_type": "code",
   "execution_count": null,
   "id": "d12fdb75-4cbe-4af2-9d8c-8da90c1400ed",
   "metadata": {},
   "outputs": [],
   "source": [
    "from pyspark.context import SparkContext\n",
    "from pyspark.sql.session import SparkSession\n",
    "from pyspark.sql.functions import expr, col, column\n",
    "sc = SparkContext('local')\n",
    "spark = SparkSession(sc)"
   ]
  },
  {
   "cell_type": "code",
   "execution_count": 24,
   "id": "fc1dd790-1f37-44df-8744-fd0527352e49",
   "metadata": {},
   "outputs": [
    {
     "name": "stdout",
     "output_type": "stream",
     "text": [
      "+--------------+\n",
      "|word_freq_make|\n",
      "+--------------+\n",
      "|             0|\n",
      "|          0.21|\n",
      "|          0.06|\n",
      "|             0|\n",
      "|             0|\n",
      "|             0|\n",
      "|             0|\n",
      "|             0|\n",
      "|          0.15|\n",
      "|          0.06|\n",
      "|             0|\n",
      "|             0|\n",
      "|             0|\n",
      "|             0|\n",
      "|             0|\n",
      "|             0|\n",
      "|             0|\n",
      "|             0|\n",
      "|             0|\n",
      "|             0|\n",
      "+--------------+\n",
      "only showing top 20 rows\n",
      "\n"
     ]
    }
   ],
   "source": [
    "df = spark.read.option(\"header\",\"true\").csv(\"hdfs://namenode:9000/project20221/spambase.csv\")\n",
    "df.select('word_freq_make').show()\n",
    "# df.write.option(\"header\",\"true\").csv(\"hdfs://172.21.0.4:9000/project20221/csvfile.csv\")"
   ]
  },
  {
   "cell_type": "code",
   "execution_count": 6,
   "id": "4500eb6c-39dd-43a6-9173-7a8e1fb54efd",
   "metadata": {},
   "outputs": [
    {
     "data": {
      "text/plain": [
       "20973889"
      ]
     },
     "execution_count": 6,
     "metadata": {},
     "output_type": "execute_result"
    }
   ],
   "source": [
    "df = spark.read.option(\"header\", True).csv(\n",
    "    '../Daily Historical Stock Prices (1970 - 2018)/historical_stock_prices.csv')\n",
    "\n",
    "df.count()"
   ]
  },
  {
   "cell_type": "code",
   "execution_count": null,
   "id": "3e950bad-6a6d-4ea1-aa87-6ee619012fcc",
   "metadata": {},
   "outputs": [],
   "source": []
  }
 ],
 "metadata": {
  "kernelspec": {
   "display_name": "Python 3 (ipykernel)",
   "language": "python",
   "name": "python3"
  },
  "language_info": {
   "codemirror_mode": {
    "name": "ipython",
    "version": 3
   },
   "file_extension": ".py",
   "mimetype": "text/x-python",
   "name": "python",
   "nbconvert_exporter": "python",
   "pygments_lexer": "ipython3",
   "version": "3.10.6"
  }
 },
 "nbformat": 4,
 "nbformat_minor": 5
}
