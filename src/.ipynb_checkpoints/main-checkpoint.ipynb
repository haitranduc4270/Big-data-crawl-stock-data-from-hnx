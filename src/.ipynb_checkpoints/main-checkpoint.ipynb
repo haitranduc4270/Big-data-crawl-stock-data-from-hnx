{
 "cells": [
  {
   "cell_type": "code",
   "execution_count": 1,
   "id": "d12fdb75-4cbe-4af2-9d8c-8da90c1400ed",
   "metadata": {},
   "outputs": [],
   "source": [
    "from pyspark.context import SparkContext\n",
    "from pyspark.sql.session import SparkSession\n",
    "sc = SparkContext('local')\n",
    "spark = SparkSession(sc)"
   ]
  },
  {
   "cell_type": "code",
   "execution_count": 2,
   "id": "75374fd2-2303-429c-a4b1-27530adf6286",
   "metadata": {},
   "outputs": [
    {
     "name": "stdout",
     "output_type": "stream",
     "text": [
      "2023-01-05 10:40:24.479393\n",
      "+-------------+---------+---------+------------+-----------+--------------+--------+-----------+----------+-------------+--------+-----------+----------+-------------+--------+-----------+----------+-------------+--------+-----------+----------+-------------+--------+-----------+----------+-------------+--------+-----------+----------+-------------+--------+-----------+----------+-------------+--------+-----------+----------+-------------+--------+-----------+----------+-------------+--------------+---------------+--------+-------+-------------+---------------+--------+------+-------+------+------------+-------------+----------------+-----------+------------------+--------+-----------------+---------------+----------------+-------+---------+-----------+---------+-------------+-----------+\n",
      "|   __typename| avgPrice|best10Bid|best10BidVol|best10Offer|best10OfferVol|best1Bid|best1BidVol|best1Offer|best1OfferVol|best2Bid|best2BidVol|best2Offer|best2OfferVol|best3Bid|best3BidVol|best3Offer|best3OfferVol|best4Bid|best4BidVol|best4Offer|best4OfferVol|best5Bid|best5BidVol|best5Offer|best5OfferVol|best6Bid|best6BidVol|best6Offer|best6OfferVol|best7Bid|best7BidVol|best7Offer|best7OfferVol|best8Bid|best8BidVol|best8Offer|best8OfferVol|best9Bid|best9BidVol|best9Offer|best9OfferVol|buyForeignQtty|buyForeignValue|caStatus|ceiling|currentBidQty|currentOfferQty|exchange| floor|highest|lowest|matchedPrice|matchedVolume|nmTotalTradedQty|priceChange|priceChangePercent|refPrice|remainForeignQtty|sellForeignQtty|sellForeignValue|session|  stockNo|stockSymbol|stockType|tradingStatus|tradingUnit|\n",
      "+-------------+---------+---------+------------+-----------+--------------+--------+-----------+----------+-------------+--------+-----------+----------+-------------+--------+-----------+----------+-------------+--------+-----------+----------+-------------+--------+-----------+----------+-------------+--------+-----------+----------+-------------+--------+-----------+----------+-------------+--------+-----------+----------+-------------+--------+-----------+----------+-------------+--------------+---------------+--------+-------+-------------+---------------+--------+------+-------+------+------------+-------------+----------------+-----------+------------------+--------+-----------------+---------------+----------------+-------+---------+-----------+---------+-------------+-----------+\n",
      "|StockRealtime| 22851.74|     null|        null|       null|          null|   22800|      45300|     22850|        18900|   22750|      32600|     22900|        65300|   22700|       8800|     22950|       114400|    null|       null|      null|         null|    null|       null|      null|         null|    null|       null|      null|         null|    null|       null|      null|         null|    null|       null|      null|         null|    null|       null|      null|         null|             0|           null|        |  24200|         null|           null|    hose| 21100|  23000| 22650|       22850|        16980|         2104500|     200.00|               0.9|   22650|                0|              0|            null|      C| hose:436|        ACB|        s|             |        100|\n",
      "|StockRealtime| 40720.65|     null|        null|       null|          null|   40750|        200|     40800|         6100|   40700|      12000|     40900|         6000|   40650|       1900|     40950|         6200|    null|       null|      null|         null|    null|       null|      null|         null|    null|       null|      null|         null|    null|       null|      null|         null|    null|       null|      null|         null|    null|       null|      null|         null|        193100|           null|        |  43650|         null|           null|    hose| 37950|  41100| 40250|       40750|         2800|         1175100|     -50.00|              -0.1|   40800|        648916865|         273837|            null|      C| hose:217|        BID|        s|             |        100|\n",
      "|StockRealtime| 48114.35|     null|        null|       null|          null|   48050|        700|     48100|         2700|   48000|       3200|     48150|         3200|   47900|       5300|     48200|        35300|    null|       null|      null|         null|    null|       null|      null|         null|    null|       null|      null|         null|    null|       null|      null|         null|    null|       null|      null|         null|    null|       null|      null|         null|         83200|           null|        |  51000|         null|           null|    hose| 44400|  48400| 47850|       48050|         2440|          285300|     350.00|               0.7|   47700|        164397237|          23000|            null|      C| hose:209|        BVH|        s|             |        100|\n",
      "|StockRealtime| 28473.12|     null|        null|       null|          null|   28450|      17300|     28500|       281000|   28400|      33300|     28550|        45400|   28350|      23500|     28600|       212600|    null|       null|      null|         null|    null|       null|      null|         null|    null|       null|      null|         null|    null|       null|      null|         null|    null|       null|      null|         null|    null|       null|      null|         null|        371300|           null|        |  30450|         null|           null|    hose| 26550|  28750| 28250|       28500|        13750|         2113300|       0.00|               0.0|   28500|        101730794|          37700|            null|      C| hose:580|        CTG|        s|             |        100|\n",
      "|StockRealtime| 81063.36|     null|        null|       null|          null|   80600|       9300|     80800|          600|   80500|      22000|     80900|          700|   80400|        700|     81000|          400|    null|       null|      null|         null|    null|       null|      null|         null|    null|       null|      null|         null|    null|       null|      null|         null|    null|       null|      null|         null|    null|       null|      null|         null|             0|           null|        |  85600|         null|           null|    hose| 74400|  81500| 80200|       80600|         3480|         1012600|     600.00|               0.8|   80000|                0|          11900|            null|      C| hose:974|        FPT|        s|             |        100|\n",
      "|StockRealtime|105473.23|     null|        null|       null|          null|  106400|       8600|    106600|         5400|  106300|        200|    106700|         1100|  106200|       1000|    106800|         1600|    null|       null|      null|         null|    null|       null|      null|         null|    null|       null|      null|         null|    null|       null|      null|         null|    null|       null|      null|         null|    null|       null|      null|         null|         54100|           null|        | 112300|         null|           null|    hose| 97700| 106700|104500|      106600|         1040|          270100|    1600.00|               1.5|  105000|        881573506|          25910|            null|      C|hose:1152|        GAS|        s|             |        100|\n",
      "|StockRealtime| 14979.86|     null|        null|       null|          null|   14900|       8500|     14950|        19600|   14850|      19100|     15000|        99500|   14800|     110300|     15050|        21700|    null|       null|      null|         null|    null|       null|      null|         null|    null|       null|      null|         null|    null|       null|      null|         null|    null|       null|      null|         null|    null|       null|      null|         null|        206300|           null|        |  15850|         null|           null|    hose| 13850|  15200| 14800|       14900|         6730|         3014500|      50.00|               0.3|   14850|        497854592|         890200|            null|      C| hose:233|        GVR|        s|             |        100|\n",
      "|StockRealtime| 16428.59|     null|        null|       null|          null|   16400|      33500|     16450|        35600|   16350|      81300|     16500|       149200|   16300|      75900|     16550|         8300|    null|       null|      null|         null|    null|       null|      null|         null|    null|       null|      null|         null|    null|       null|      null|         null|    null|       null|      null|         null|    null|       null|      null|         null|        580100|           null|        |  17450|         null|           null|    hose| 15250|  16500| 16300|       16400|        12950|         2027600|      50.00|               0.3|   16350|            76600|         719100|            null|      C|hose:1386|        HDB|        s|             |        100|\n",
      "|StockRealtime| 19571.42|     null|        null|       null|          null|   19750|       6200|     19800|        81100|   19700|     255200|     19850|       444300|   19650|      10100|     19900|       421400|    null|       null|      null|         null|    null|       null|      null|         null|    null|       null|      null|         null|    null|       null|      null|         null|    null|       null|      null|         null|    null|       null|      null|         null|       6881400|           null|        |  20750|         null|           null|    hose| 18050|  20000| 19150|       19800|       103050|        21502200|     400.00|               2.1|   19400|       1567089259|        1095341|            null|      C|hose:1354|        HPG|        s|             |        100|\n",
      "|StockRealtime| 27856.39|     null|        null|       null|          null|   27650|      14300|     27750|        22000|   27600|       5800|     27800|         2400|   27550|       7000|     27850|        14500|    null|       null|      null|         null|    null|       null|      null|         null|    null|       null|      null|         null|    null|       null|      null|         null|    null|       null|      null|         null|    null|       null|      null|         null|        547300|           null|        |  29750|         null|           null|    hose| 25950|  28050| 27650|       27700|         2390|         1108500|    -150.00|              -0.5|   27850|         88714472|         192100|            null|      C|hose:1734|        KDH|        s|             |        100|\n",
      "|StockRealtime| 18052.52|     null|        null|       null|          null|   18150|       2300|     18200|       137100|   18100|      40400|     18250|       197000|   18050|     151800|     18300|       272900|    null|       null|      null|         null|    null|       null|      null|         null|    null|       null|      null|         null|    null|       null|      null|         null|    null|       null|      null|         null|    null|       null|      null|         null|             0|           null|        |  19200|         null|           null|    hose| 16700|  18250| 17800|       18200|        74550|         7746900|     250.00|               1.4|   17950|                0|           6300|            null|      C|hose:2027|        MBB|        s|             |        100|\n",
      "|StockRealtime| 99385.74|     null|        null|       null|          null|   98200|       2200|     99500|          100|   98100|        200|     99600|         6300|   98000|       7500|     99700|         1600|    null|       null|      null|         null|    null|       null|      null|         null|    null|       null|      null|         null|    null|       null|      null|         null|    null|       null|      null|         null|    null|       null|      null|         null|        480001|           null|        | 106200|         null|           null|    hose| 92400| 100100| 98000|       99500|        11200|          684600|     200.00|               0.2|   99300|        262145555|          98750|            null|      C|hose:2024|        MSN|        s|             |        100|\n",
      "|StockRealtime| 43606.03|     null|        null|       null|          null|   43600|      41000|     43700|         3800|   43550|      25800|     43750|         2000|   43500|      71100|     43800|        25300|    null|       null|      null|         null|    null|       null|      null|         null|    null|       null|      null|         null|    null|       null|      null|         null|    null|       null|      null|         null|    null|       null|      null|         null|        500000|           null|        |  46500|         null|           null|    hose| 40500|  44000| 43300|       43600|        11450|         1102800|     100.00|               0.2|   43500|                0|         500011|            null|      C|hose:2028|        MWG|        s|             |        100|\n",
      "|StockRealtime| 13813.23|     null|        null|       null|          null|   13700|     127600|     13750|       160500|   13650|     258900|     13800|       131500|   13600|     465200|     13850|       175500|    null|       null|      null|         null|    null|       null|      null|         null|    null|       null|      null|         null|    null|       null|      null|         null|    null|       null|      null|         null|    null|       null|      null|         null|        791205|           null|        |  14950|         null|           null|    hose| 13050|  14250| 13500|       13700|        59460|        13920700|    -300.00|              -2.1|   14000|        842224619|         496700|            null|      C|hose:2200|        NVL|        s|             |        100|\n",
      "|StockRealtime| 14880.05|     null|        null|       null|          null|   15100|       4000|     15150|        54800|   15050|     150000|     15200|       231900|   15000|       7800|     15250|       102200|    null|       null|      null|         null|    null|       null|      null|         null|    null|       null|      null|         null|    null|       null|      null|         null|    null|       null|      null|         null|    null|       null|      null|         null|        386200|           null|        |  16050|         null|           null|    hose| 13950|  15350| 14450|       15150|        41340|         9840200|     150.00|               1.0|   15000|        304553496|         229800|            null|      C|hose:2567|        PDR|        s|             |        100|\n",
      "|StockRealtime| 35297.68|     null|        null|       null|          null|   35750|        100|     35800|        21300|   35450|        900|     35850|         3100|   35400|        100|     35900|         4300|    null|       null|      null|         null|    null|       null|      null|         null|    null|       null|      null|         null|    null|       null|      null|         null|    null|       null|      null|         null|    null|       null|      null|         null|        275300|           null|        |  37700|         null|           null|    hose| 32800|  35800| 34750|       35800|        12520|          970500|     550.00|               1.6|   35250|         27804648|          11594|            null|      C|hose:2576|        PLX|        s|             |        100|\n",
      "|StockRealtime| 11530.77|     null|        null|       null|          null|   11750|    1717700|         0|            0|   11700|     304700|         0|            0|   11650|     187300|         0|            0|    null|       null|      null|         null|    null|       null|      null|         null|    null|       null|      null|         null|    null|       null|      null|         null|    null|       null|      null|         null|    null|       null|      null|         null|       3701200|           null|        |  11750|         null|           null|    hose| 10250|  11750| 10950|       11750|        12540|        23637300|     750.00|               6.8|   11000|       1026246875|         120050|            null|      C|  hose:66|        POW|        s|             |        100|\n",
      "|StockRealtime|178192.95|     null|        null|       null|          null|  174200|       4400|    177500|          300|  174100|       5100|    179900|         6800|  174000|       1700|    180000|        22000|    null|       null|      null|         null|    null|       null|      null|         null|    null|       null|      null|         null|    null|       null|      null|         null|    null|       null|      null|         null|    null|       null|      null|         null|        142110|           null|        | 183500|         null|           null|    hose|159500| 183500|171500|      174200|         5140|          255300|    2700.00|               1.6|  171500|        239491526|         148300|            null|      C|hose:2947|        SAB|        s|             |        100|\n",
      "|StockRealtime| 19049.75|     null|        null|       null|          null|   19250|       7900|     19300|        79800|   19100|       2000|     19350|       231000|   19050|       6100|     19400|       127500|    null|       null|      null|         null|    null|       null|      null|         null|    null|       null|      null|         null|    null|       null|      null|         null|    null|       null|      null|         null|    null|       null|      null|         null|       2132200|           null|        |  20300|         null|           null|    hose| 17700|  19350| 18700|       19300|       111670|        13309500|     300.00|               1.6|   19000|        873087913|         280620|            null|      C|hose:2920|        SSI|        s|             |        100|\n",
      "|StockRealtime|  23938.8|     null|        null|       null|          null|   24150|      20400|     24200|       296100|   24100|      23800|     24250|       263000|   24050|        200|     24300|       636100|    null|       null|      null|         null|    null|       null|      null|         null|    null|       null|      null|         null|    null|       null|      null|         null|    null|       null|      null|         null|    null|       null|      null|         null|       2420800|           null|        |  24900|         null|           null|    hose| 21700|  24250| 23400|       24200|       210930|        19217000|     900.00|               3.9|   23300|         46126078|         764905|            null|      C|hose:2908|        STB|        s|             |        100|\n",
      "+-------------+---------+---------+------------+-----------+--------------+--------+-----------+----------+-------------+--------+-----------+----------+-------------+--------+-----------+----------+-------------+--------+-----------+----------+-------------+--------+-----------+----------+-------------+--------+-----------+----------+-------------+--------+-----------+----------+-------------+--------+-----------+----------+-------------+--------+-----------+----------+-------------+--------------+---------------+--------+-------+-------------+---------------+--------+------+-------+------+------------+-------------+----------------+-----------+------------------+--------+-----------------+---------------+----------------+-------+---------+-----------+---------+-------------+-----------+\n",
      "only showing top 20 rows\n",
      "\n"
     ]
    }
   ],
   "source": [
    "# demo lấy api rồi đẩy vào dataframe -> ghi vào hadoop\n",
    "import requests\n",
    "import json\n",
    "from datetime import datetime\n",
    "\n",
    "def get_stock_real_times_by_group (spark_instance):\n",
    "    print(datetime.now())\n",
    "    stock_real_times_by_group = requests.post('https://wgateway-iboard.ssi.com.vn/graphql', json = {\n",
    "        \"operationName\" : \"stockRealtimesByGroup\",\n",
    "        \"query\":  \"query stockRealtimesByGroup($group: String) {\\n  stockRealtimesByGroup(group: $group) {\\n    stockNo\\n    ceiling\\n    floor\\n    refPrice\\n    stockSymbol\\n    stockType\\n    exchange\\n    matchedPrice\\n    matchedVolume\\n    priceChange\\n    priceChangePercent\\n    highest\\n    avgPrice\\n    lowest\\n    nmTotalTradedQty\\n    best1Bid\\n    best1BidVol\\n    best2Bid\\n    best2BidVol\\n    best3Bid\\n    best3BidVol\\n    best4Bid\\n    best4BidVol\\n    best5Bid\\n    best5BidVol\\n    best6Bid\\n    best6BidVol\\n    best7Bid\\n    best7BidVol\\n    best8Bid\\n    best8BidVol\\n    best9Bid\\n    best9BidVol\\n    best10Bid\\n    best10BidVol\\n    best1Offer\\n    best1OfferVol\\n    best2Offer\\n    best2OfferVol\\n    best3Offer\\n    best3OfferVol\\n    best4Offer\\n    best4OfferVol\\n    best5Offer\\n    best5OfferVol\\n    best6Offer\\n    best6OfferVol\\n    best7Offer\\n    best7OfferVol\\n    best8Offer\\n    best8OfferVol\\n    best9Offer\\n    best9OfferVol\\n    best10Offer\\n    best10OfferVol\\n    buyForeignQtty\\n    buyForeignValue\\n    sellForeignQtty\\n    sellForeignValue\\n    caStatus\\n    tradingStatus\\n    remainForeignQtty\\n    currentBidQty\\n    currentOfferQty\\n    session\\n    tradingUnit\\n    __typename\\n  }\\n}\\n\",\n",
    "        \"variables\": {\n",
    "            \"group\": \"VN30\"\n",
    "        }\n",
    "    })\n",
    "    result = json.loads(stock_real_times_by_group.text)['data']['stockRealtimesByGroup']\n",
    "    \n",
    "    df = spark_instance.sparkContext.parallelize(result).map(lambda x: json.dumps(x))\n",
    "    df = spark_instance.read.json(df)\n",
    "    df.show()\n",
    "#     df.write.format(\"json\").mode(\"overwrite\").save(\"hdfs://namenode:9000/project20221/raw/ssiDataApi.json\")\n",
    "#     checker = spark_instance.read.json(\"hdfs://namenode:9000/project20221/raw/ssiDataApi.json\")\n",
    "#     checker.printSchema()\n",
    "#     checker.show(1, False)\n",
    "    \n",
    "get_stock_real_times_by_group(spark)"
   ]
  },
  {
   "cell_type": "code",
   "execution_count": 3,
   "id": "bd5c08c8-3af7-4b15-8c0d-dcc44cdc4034",
   "metadata": {},
   "outputs": [
    {
     "name": "stdout",
     "output_type": "stream",
     "text": [
      "started\n",
      "0.7093728620928866\n",
      "heloooo\n",
      "1.3366998220214015\n",
      "heloooo\n",
      "0.7925297386604591\n",
      "heloooo\n",
      "1.0051160542497017\n",
      "heloooo\n",
      "1.2364992939190764\n",
      "heloooo\n",
      "0.5808608580788309\n",
      "heloooo\n",
      "0.6558644614041969\n",
      "heloooo\n",
      "0.8605907921556382\n",
      "heloooo\n",
      "1.4908527301889292\n",
      "heloooo\n",
      "0.8622193830845466\n",
      "heloooo\n",
      "1.4667794291400649\n",
      "heloooo\n",
      "1.2842022464929372\n",
      "heloooo\n",
      "1.0787284777839483\n",
      "heloooo\n",
      "1.1523283222795397\n",
      "heloooo\n",
      "1.307082259556025\n",
      "heloooo\n",
      "1.0445507098070816\n",
      "heloooo\n",
      "1.0021279864664736\n",
      "heloooo\n",
      "1.3540770652956657\n",
      "heloooo\n",
      "0.5512985201488609\n",
      "heloooo\n",
      "0.9559428045400173\n",
      "heloooo\n",
      "1.3455983070291748\n",
      "heloooo\n",
      "1.405635684878358\n",
      "heloooo\n",
      "0.7638542413704508\n",
      "heloooo\n",
      "0.6405009332974826\n",
      "heloooo\n",
      "0.7458063357097328\n",
      "heloooo\n",
      "0.7813603690929636\n",
      "heloooo\n",
      "1.0214861597650202\n",
      "heloooo\n",
      "0.9589203416279545\n",
      "heloooo\n",
      "0.5160617004123231\n",
      "heloooo\n",
      "1.3143352830615136\n",
      "heloooo\n",
      "1.2487813947419015\n",
      "heloooo\n",
      "0.6180038126747036\n",
      "heloooo\n",
      "1.3266785300544255\n",
      "heloooo\n",
      "1.0039609263194655\n",
      "heloooo\n",
      "1.3164954389457377\n",
      "heloooo\n",
      "0.6081943225667739\n",
      "heloooo\n",
      "1.227848253570019\n",
      "heloooo\n",
      "0.5451105780292235\n",
      "heloooo\n",
      "1.2081744126638438\n",
      "heloooo\n",
      "0.7553713918655132\n",
      "heloooo\n",
      "0.5537226082542771\n",
      "heloooo\n",
      "0.573548702298057\n",
      "heloooo\n",
      "0.786575124006302\n",
      "heloooo\n",
      "0.7101233802875092\n",
      "heloooo\n",
      "0.5342291310835083\n",
      "heloooo\n",
      "1.4303293206402703\n",
      "heloooo\n",
      "1.0796790411209107\n"
     ]
    },
    {
     "name": "stderr",
     "output_type": "stream",
     "text": [
      "\n",
      "KeyboardInterrupt\n",
      "\n"
     ]
    }
   ],
   "source": [
    "import random\n",
    "import time\n",
    "\n",
    "print('started')\n",
    "def start_crawler ():\n",
    "    while True:\n",
    "        sleep_time = random.uniform(0.5,1.5)\n",
    "        print(sleep_time)\n",
    "        time.sleep(sleep_time)\n",
    "        print(\"heloooo\")\n",
    "        \n",
    "start_crawler()"
   ]
  },
  {
   "cell_type": "code",
   "execution_count": null,
   "id": "c8b3fd07-0239-4c94-a2df-105666d2e67e",
   "metadata": {},
   "outputs": [],
   "source": [
    "from pyspark.context import SparkContext\n",
    "from pyspark.sql.session import SparkSession\n",
    "\n",
    "print('start')\n",
    "\n",
    "spark_sess = (\\\n",
    "    SparkSession\\\n",
    "    .builder\\\n",
    "    .master('local[1]')\\\n",
    "    .appName('pyspark_app')\\\n",
    "    .getOrCreate())\n",
    "\n",
    "print('start')\n",
    "\n",
    "csv = spark_sess.read.option(\"inferSchema\", True).option(\"header\",True).csv(\"../crawler/data/ssiDataApi.csv\")\n",
    "csv.printSchema()\n",
    "csv.show(1, False)\n"
   ]
  },
  {
   "cell_type": "code",
   "execution_count": 3,
   "id": "21fd12c6-431c-49f4-a470-ec559563503d",
   "metadata": {},
   "outputs": [
    {
     "name": "stdout",
     "output_type": "stream",
     "text": [
      "+--------+-----------+----------+-------------+--------+-----------+----------+-------------+--------+-----------+----------+-------------+-------+------+-------+------+------------+-------------+----------------+-----------+------------------+--------+----------+--------------+-------------------+\n",
      "|best1Bid|best1BidVol|best1Offer|best1OfferVol|best2Bid|best2BidVol|best2Offer|best2OfferVol|best3Bid|best3BidVol|best3Offer|best3OfferVol|ceiling| floor|highest|lowest|matchedPrice|matchedVolume|nmTotalTradedQty|priceChange|priceChangePercent|refPrice|stock_code|stock_exchange|         time_stamp|\n",
      "+--------+-----------+----------+-------------+--------+-----------+----------+-------------+--------+-----------+----------+-------------+-------+------+-------+------+------------+-------------+----------------+-----------+------------------+--------+----------+--------------+-------------------+\n",
      "|  220000|        200|    245000|          100|  216000|        500|    246000|          500|  215000|        900|         0|            0| 247000|203000| 244000|244000|           0|            0|             100|           |                  |  225000|       PMS|           hnx|2023-01-18T07:30:18|\n",
      "|       0|          0|         0|          500|       0|          0|    255000|          700|       0|          0|    283000|         2000| 311000|255000|      0|     0|      283000|            0|               0|       0.00|               0.0|  283000|       SDU|           hnx|2023-01-18T07:30:18|\n",
      "|       0|          0|    192000|         1000|       0|          0|    210000|          100|       0|          0|    234000|          100| 234000|192000|      0|     0|           0|            0|               0|           |                  |  213000|       SDG|           hnx|2023-01-18T07:30:18|\n",
      "|       0|          0|    639000|         3800|       0|          0|    650000|          200|       0|          0|    709000|         1400| 779000|639000|      0|     0|           0|            0|               0|           |                  |  709000|       SGH|           hnx|2023-01-18T07:30:18|\n",
      "|  159000|       8500|    160000|        92300|  158000|      23900|    161000|        71500|  157000|      22100|    162000|        68400| 173000|143000| 161000|157000|           0|            0|          432800|           |                  |  158000|       NAG|           hnx|2023-01-18T07:30:18|\n",
      "|   46000|        100|     47000|         1200|   45000|        200|     48000|         3200|   43000|       6000|     49000|          700|  51000| 43000|  47000| 47000|           0|            0|             100|           |                  |   47000|       PCT|           hnx|2023-01-18T07:30:18|\n",
      "|  124000|        200|    127000|         1400|  122000|       1500|    128000|         4300|  121000|       1000|    129000|         2500| 136000|112000| 130000|124000|           0|            0|            5700|           |                  |  124000|       PBP|           hnx|2023-01-18T07:30:18|\n",
      "|       0|       4000|     21000|        62000|   20000|      23700|     22000|        98200|   19000|      71900|         0|            0|  22000| 18000|  21000| 20000|       21000|         4000|           13700|     100.00|               5.0|   20000|       PV2|           hnx|2023-01-18T07:30:18|\n",
      "|   75000|       8000|         0|          800|   74000|      20200|     76000|         4000|   73000|       4800|     77000|        41300|  84000| 70000|  79000| 70000|       75000|          800|           84500|    -200.00|              -2.6|   77000|       OCH|           hnx|2023-01-18T07:30:18|\n",
      "|   66000|        100|         0|         3000|   65000|       2000|     68000|         8700|   64000|       1400|     69000|         5100|  74000| 62000|  68000| 62000|       64000|         3000|           95700|    -400.00|              -5.9|   68000|       SDA|           hnx|2023-01-18T07:30:18|\n",
      "|   74000|        300|     79000|          100|   72000|       2000|         0|            0|   67000|        300|         0|            0|  79000| 65000|      0|     0|           0|            0|               0|           |                  |   72000|       PEN|           hnx|2023-01-18T07:30:18|\n",
      "|  168000|       2000|    198000|          100|  165000|        200|         0|            0|  163000|       3000|         0|            0| 198000|162000| 162000|162000|           0|            0|             100|           |                  |  180000|       NBW|           hnx|2023-01-18T07:30:18|\n",
      "|  135000|        200|    148000|          100|  134000|        200|    149000|         1000|       0|          0|    150000|         1000| 162000|134000| 147000|138000|           0|            0|             600|           |                  |  148000|       PIC|           hnx|2023-01-18T07:30:18|\n",
      "|   57000|        100|     58000|         1600|   56000|       3000|     59000|          200|   55000|       6900|     60000|         2800|  62000| 52000|  57000| 56000|           0|            0|            8100|           |                  |   57000|       NDX|           hnx|2023-01-18T07:30:18|\n",
      "|  339000|       8100|    340000|          200|  338000|        100|    342000|         2500|  337000|       3800|    343000|         1000| 374000|306000| 340000|334000|           0|            0|           35200|           |                  |  340000|       NTP|           hnx|2023-01-18T07:30:18|\n",
      "|   42000|      32600|     43000|       223100|   41000|     348000|     44000|       297200|   40000|     143800|     45000|       421900|  45000| 37000|  43000| 41000|       42000|            0|          527500|     100.00|               2.4|   41000|       MST|           hnx|2023-01-18T07:30:18|\n",
      "|  124000|       1900|    136000|          300|  123000|        100|    138000|          200|       0|          0|    143000|         3600| 147000|121000|      0|     0|           0|            0|               0|           |                  |  134000|       SMN|           hnx|2023-01-18T07:30:18|\n",
      "|       0|       null|         0|         null|       0|       null|         0|         null|       0|       null|         0|         null|      0|     0|      0|     0|           0|            0|               0|           |                  |  549260| NVL122001|           hnx|2023-01-18T07:30:18|\n",
      "|  440000|        600|         0|            0|  432000|        500|         0|            0|  428000|        500|         0|            0| 459000|377000| 459000|430000|           0|            0|            6500|           |                  |  418000|       PRC|           hnx|2023-01-18T07:30:18|\n",
      "|   72000|      10100|     73000|          400|   71000|       5200|     74000|        29100|   70000|      14700|     75000|        40200|  80000| 66000|  74000| 73000|           0|            0|           42000|           |                  |   73000|       PVG|           hnx|2023-01-18T07:30:18|\n",
      "+--------+-----------+----------+-------------+--------+-----------+----------+-------------+--------+-----------+----------+-------------+-------+------+-------+------+------------+-------------+----------------+-----------+------------------+--------+----------+--------------+-------------------+\n",
      "only showing top 20 rows\n",
      "\n"
     ]
    }
   ],
   "source": [
    "cs = spark.read.json('hdfs://namenode:9000/project20221/clean/stock_price_realtime/hnx/01-18-2023/01-18-2023-07-30-18.json')\n",
    "cs.show()"
   ]
  },
  {
   "cell_type": "code",
   "execution_count": 6,
   "id": "c9bb1587-7856-4ec3-ad0d-cec4b6d65eb7",
   "metadata": {},
   "outputs": [
    {
     "name": "stdout",
     "output_type": "stream",
     "text": [
      "2023-01-18 08:04:08.781874\n"
     ]
    }
   ],
   "source": [
    "from datetime import datetime\n",
    "\n",
    "end = '15:00:00'\n",
    "print(datetime.now())"
   ]
  }
 ],
 "metadata": {
  "kernelspec": {
   "display_name": "Python 3 (ipykernel)",
   "language": "python",
   "name": "python3"
  },
  "language_info": {
   "codemirror_mode": {
    "name": "ipython",
    "version": 3
   },
   "file_extension": ".py",
   "mimetype": "text/x-python",
   "name": "python",
   "nbconvert_exporter": "python",
   "pygments_lexer": "ipython3",
   "version": "3.10.8"
  }
 },
 "nbformat": 4,
 "nbformat_minor": 5
}
