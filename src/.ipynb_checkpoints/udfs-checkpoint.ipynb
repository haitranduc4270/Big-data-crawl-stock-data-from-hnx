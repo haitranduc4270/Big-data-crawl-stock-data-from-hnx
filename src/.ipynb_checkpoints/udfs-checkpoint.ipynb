{
 "cells": [
  {
   "cell_type": "code",
   "execution_count": 1,
   "id": "743c1b29-a3a6-4784-9869-549670f49b16",
   "metadata": {},
   "outputs": [],
   "source": [
    "from pyspark.context import SparkContext\n",
    "from pyspark.sql.session import SparkSession\n",
    "sc = SparkContext('local')\n",
    "spark = SparkSession(sc)"
   ]
  },
  {
   "cell_type": "code",
   "execution_count": 5,
   "id": "d62d28a5-5445-470f-a3ca-0b4311980e14",
   "metadata": {},
   "outputs": [],
   "source": [
    "from pyspark.sql.functions import to_timestamp, col, concat, lit\n",
    "from pyspark.sql.types import *"
   ]
  },
  {
   "cell_type": "code",
   "execution_count": 26,
   "id": "4a5e2043-d9d8-4a45-9dfc-1f2507fe13be",
   "metadata": {},
   "outputs": [
    {
     "name": "stdout",
     "output_type": "stream",
     "text": [
      "root\n",
      " |-- __typename: string (nullable = true)\n",
      " |-- avgPrice: double (nullable = true)\n",
      " |-- best10Bid: long (nullable = true)\n",
      " |-- best10BidVol: long (nullable = true)\n",
      " |-- best10Offer: long (nullable = true)\n",
      " |-- best10OfferVol: long (nullable = true)\n",
      " |-- best1Bid: long (nullable = true)\n",
      " |-- best1BidVol: long (nullable = true)\n",
      " |-- best1Offer: long (nullable = true)\n",
      " |-- best1OfferVol: long (nullable = true)\n",
      " |-- best2Bid: long (nullable = true)\n",
      " |-- best2BidVol: long (nullable = true)\n",
      " |-- best2Offer: long (nullable = true)\n",
      " |-- best2OfferVol: long (nullable = true)\n",
      " |-- best3Bid: long (nullable = true)\n",
      " |-- best3BidVol: long (nullable = true)\n",
      " |-- best3Offer: long (nullable = true)\n",
      " |-- best3OfferVol: long (nullable = true)\n",
      " |-- best4Bid: long (nullable = true)\n",
      " |-- best4BidVol: long (nullable = true)\n",
      " |-- best4Offer: long (nullable = true)\n",
      " |-- best4OfferVol: long (nullable = true)\n",
      " |-- best5Bid: long (nullable = true)\n",
      " |-- best5BidVol: long (nullable = true)\n",
      " |-- best5Offer: long (nullable = true)\n",
      " |-- best5OfferVol: long (nullable = true)\n",
      " |-- best6Bid: long (nullable = true)\n",
      " |-- best6BidVol: long (nullable = true)\n",
      " |-- best6Offer: long (nullable = true)\n",
      " |-- best6OfferVol: long (nullable = true)\n",
      " |-- best7Bid: long (nullable = true)\n",
      " |-- best7BidVol: long (nullable = true)\n",
      " |-- best7Offer: long (nullable = true)\n",
      " |-- best7OfferVol: long (nullable = true)\n",
      " |-- best8Bid: long (nullable = true)\n",
      " |-- best8BidVol: long (nullable = true)\n",
      " |-- best8Offer: long (nullable = true)\n",
      " |-- best8OfferVol: long (nullable = true)\n",
      " |-- best9Bid: long (nullable = true)\n",
      " |-- best9BidVol: long (nullable = true)\n",
      " |-- best9Offer: long (nullable = true)\n",
      " |-- best9OfferVol: long (nullable = true)\n",
      " |-- buyForeignQtty: long (nullable = true)\n",
      " |-- buyForeignValue: long (nullable = true)\n",
      " |-- caStatus: string (nullable = true)\n",
      " |-- ceiling: long (nullable = true)\n",
      " |-- currentBidQty: long (nullable = true)\n",
      " |-- currentOfferQty: long (nullable = true)\n",
      " |-- exchange: string (nullable = true)\n",
      " |-- floor: long (nullable = true)\n",
      " |-- highest: long (nullable = true)\n",
      " |-- lowest: long (nullable = true)\n",
      " |-- matchedPrice: long (nullable = true)\n",
      " |-- matchedVolume: long (nullable = true)\n",
      " |-- nmTotalTradedQty: long (nullable = true)\n",
      " |-- priceChange: string (nullable = true)\n",
      " |-- priceChangePercent: string (nullable = true)\n",
      " |-- refPrice: long (nullable = true)\n",
      " |-- remainForeignQtty: long (nullable = true)\n",
      " |-- sellForeignQtty: long (nullable = true)\n",
      " |-- sellForeignValue: long (nullable = true)\n",
      " |-- session: string (nullable = true)\n",
      " |-- stockNo: string (nullable = true)\n",
      " |-- stockSymbol: string (nullable = true)\n",
      " |-- stockType: string (nullable = true)\n",
      "\n"
     ]
    }
   ],
   "source": [
    "from datetime import datetime, timedelta\n",
    "\n",
    "time_stamp = '01-10-2023-21-45-01';\n",
    "time_stamp = datetime.strptime(time_stamp, '%m-%d-%Y-%H-%M-%S')\n",
    "\n",
    "companies = spark.read.json(\"hdfs://namenode:9000/project20221/raw/stock_price_realtime/01-11-2023-22-47-37.json\")\n",
    "        \n",
    "companies.printSchema()"
   ]
  },
  {
   "cell_type": "code",
   "execution_count": 46,
   "id": "d6cef868-598a-4d14-bf71-a0ba4b3e2dcb",
   "metadata": {},
   "outputs": [
    {
     "name": "stdout",
     "output_type": "stream",
     "text": [
      "+------+--------+\n",
      "|new   |best1Bid|\n",
      "+------+--------+\n",
      "|42000 |4200    |\n",
      "|163000|16300   |\n",
      "|145000|14500   |\n",
      "|87000 |8700    |\n",
      "|81000 |8100    |\n",
      "|126000|12600   |\n",
      "|163000|16300   |\n",
      "|69000 |6900    |\n",
      "|56000 |5600    |\n",
      "|411000|41100   |\n",
      "|0     |0       |\n",
      "|0     |0       |\n",
      "|0     |0       |\n",
      "|0     |0       |\n",
      "|49000 |4900    |\n",
      "|43000 |4300    |\n",
      "|56000 |5600    |\n",
      "|460000|46000   |\n",
      "|320000|32000   |\n",
      "|200000|20000   |\n",
      "+------+--------+\n",
      "only showing top 20 rows\n",
      "\n",
      "root\n",
      " |-- new: long (nullable = true)\n",
      " |-- best1Bid: long (nullable = true)\n",
      "\n"
     ]
    }
   ],
   "source": [
    "from pyspark.sql.functions import udf\n",
    "from pyspark.sql.types import *\n",
    "\n",
    "@udf(returnType=LongType()) \n",
    "def price_ssi(price):\n",
    "    if price is None:\n",
    "        return 0\n",
    "    return price * 10\n",
    "\n",
    "@udf(returnType=LongType()) \n",
    "def volume_ssi(volume):\n",
    "    if volume is None:\n",
    "        return 0\n",
    "    return volume * 1\n",
    "\n",
    "a = companies.withColumn(\"new\", price_ssi(col(\"best1Bid\"))).select(col(\"new\"), col(\"best1Bid\"))\n",
    "a.show(20, False)\n",
    "a.printSchema()"
   ]
  },
  {
   "cell_type": "code",
   "execution_count": 24,
   "id": "6bc82c39-3120-4622-97ed-153fe8b2475c",
   "metadata": {},
   "outputs": [
    {
     "name": "stdout",
     "output_type": "stream",
     "text": [
      "+-----+------------+\n",
      "|Seqno|        Name|\n",
      "+-----+------------+\n",
      "|    1|  john jones|\n",
      "|    2|tracey smith|\n",
      "|    3| amy sanders|\n",
      "+-----+------------+\n",
      "\n"
     ]
    },
    {
     "ename": "PythonException",
     "evalue": "\n  An exception was thrown from the Python worker. Please see the stack trace below.\nTraceback (most recent call last):\n  File \"/tmp/ipykernel_1910/4222292252.py\", line 13, in <lambda>\n  File \"/tmp/ipykernel_1910/4222292252.py\", line 11, in upperCase\nTypeError: can only concatenate str (not \"int\") to str\n",
     "output_type": "error",
     "traceback": [
      "\u001b[0;31m---------------------------------------------------------------------------\u001b[0m",
      "\u001b[0;31mPythonException\u001b[0m                           Traceback (most recent call last)",
      "Cell \u001b[0;32mIn[24], line 16\u001b[0m\n\u001b[1;32m     11\u001b[0m     \u001b[38;5;28;01mreturn\u001b[39;00m \u001b[38;5;28mstr\u001b[39m \u001b[38;5;241m+\u001b[39m \u001b[38;5;241m1\u001b[39m\n\u001b[1;32m     13\u001b[0m upperCaseUDF \u001b[38;5;241m=\u001b[39m udf(\u001b[38;5;28;01mlambda\u001b[39;00m z:upperCase(z),LongType())    \n\u001b[0;32m---> 16\u001b[0m \u001b[43mdf\u001b[49m\u001b[38;5;241;43m.\u001b[39;49m\u001b[43mwithColumn\u001b[49m\u001b[43m(\u001b[49m\u001b[38;5;124;43m\"\u001b[39;49m\u001b[38;5;124;43mCureated Name\u001b[39;49m\u001b[38;5;124;43m\"\u001b[39;49m\u001b[43m,\u001b[49m\u001b[43m \u001b[49m\u001b[43mupperCaseUDF\u001b[49m\u001b[43m(\u001b[49m\u001b[43mcol\u001b[49m\u001b[43m(\u001b[49m\u001b[38;5;124;43m\"\u001b[39;49m\u001b[38;5;124;43mSeqno\u001b[39;49m\u001b[38;5;124;43m\"\u001b[39;49m\u001b[43m)\u001b[49m\u001b[43m)\u001b[49m\u001b[43m)\u001b[49m\u001b[43m \u001b[49m\u001b[43m\\\u001b[49m\n\u001b[1;32m     17\u001b[0m \u001b[38;5;241;43m.\u001b[39;49m\u001b[43mshow\u001b[49m\u001b[43m(\u001b[49m\u001b[43mtruncate\u001b[49m\u001b[38;5;241;43m=\u001b[39;49m\u001b[38;5;28;43;01mFalse\u001b[39;49;00m\u001b[43m)\u001b[49m\n",
      "File \u001b[0;32m/usr/local/spark/python/pyspark/sql/dataframe.py:615\u001b[0m, in \u001b[0;36mDataFrame.show\u001b[0;34m(self, n, truncate, vertical)\u001b[0m\n\u001b[1;32m    610\u001b[0m \u001b[38;5;28;01mexcept\u001b[39;00m \u001b[38;5;167;01mValueError\u001b[39;00m:\n\u001b[1;32m    611\u001b[0m     \u001b[38;5;28;01mraise\u001b[39;00m \u001b[38;5;167;01mTypeError\u001b[39;00m(\n\u001b[1;32m    612\u001b[0m         \u001b[38;5;124m\"\u001b[39m\u001b[38;5;124mParameter \u001b[39m\u001b[38;5;124m'\u001b[39m\u001b[38;5;124mtruncate=\u001b[39m\u001b[38;5;132;01m{}\u001b[39;00m\u001b[38;5;124m'\u001b[39m\u001b[38;5;124m should be either bool or int.\u001b[39m\u001b[38;5;124m\"\u001b[39m\u001b[38;5;241m.\u001b[39mformat(truncate)\n\u001b[1;32m    613\u001b[0m     )\n\u001b[0;32m--> 615\u001b[0m \u001b[38;5;28mprint\u001b[39m(\u001b[38;5;28;43mself\u001b[39;49m\u001b[38;5;241;43m.\u001b[39;49m\u001b[43m_jdf\u001b[49m\u001b[38;5;241;43m.\u001b[39;49m\u001b[43mshowString\u001b[49m\u001b[43m(\u001b[49m\u001b[43mn\u001b[49m\u001b[43m,\u001b[49m\u001b[43m \u001b[49m\u001b[43mint_truncate\u001b[49m\u001b[43m,\u001b[49m\u001b[43m \u001b[49m\u001b[43mvertical\u001b[49m\u001b[43m)\u001b[49m)\n",
      "File \u001b[0;32m/usr/local/spark/python/lib/py4j-0.10.9.5-src.zip/py4j/java_gateway.py:1321\u001b[0m, in \u001b[0;36mJavaMember.__call__\u001b[0;34m(self, *args)\u001b[0m\n\u001b[1;32m   1315\u001b[0m command \u001b[38;5;241m=\u001b[39m proto\u001b[38;5;241m.\u001b[39mCALL_COMMAND_NAME \u001b[38;5;241m+\u001b[39m\\\n\u001b[1;32m   1316\u001b[0m     \u001b[38;5;28mself\u001b[39m\u001b[38;5;241m.\u001b[39mcommand_header \u001b[38;5;241m+\u001b[39m\\\n\u001b[1;32m   1317\u001b[0m     args_command \u001b[38;5;241m+\u001b[39m\\\n\u001b[1;32m   1318\u001b[0m     proto\u001b[38;5;241m.\u001b[39mEND_COMMAND_PART\n\u001b[1;32m   1320\u001b[0m answer \u001b[38;5;241m=\u001b[39m \u001b[38;5;28mself\u001b[39m\u001b[38;5;241m.\u001b[39mgateway_client\u001b[38;5;241m.\u001b[39msend_command(command)\n\u001b[0;32m-> 1321\u001b[0m return_value \u001b[38;5;241m=\u001b[39m \u001b[43mget_return_value\u001b[49m\u001b[43m(\u001b[49m\n\u001b[1;32m   1322\u001b[0m \u001b[43m    \u001b[49m\u001b[43manswer\u001b[49m\u001b[43m,\u001b[49m\u001b[43m \u001b[49m\u001b[38;5;28;43mself\u001b[39;49m\u001b[38;5;241;43m.\u001b[39;49m\u001b[43mgateway_client\u001b[49m\u001b[43m,\u001b[49m\u001b[43m \u001b[49m\u001b[38;5;28;43mself\u001b[39;49m\u001b[38;5;241;43m.\u001b[39;49m\u001b[43mtarget_id\u001b[49m\u001b[43m,\u001b[49m\u001b[43m \u001b[49m\u001b[38;5;28;43mself\u001b[39;49m\u001b[38;5;241;43m.\u001b[39;49m\u001b[43mname\u001b[49m\u001b[43m)\u001b[49m\n\u001b[1;32m   1324\u001b[0m \u001b[38;5;28;01mfor\u001b[39;00m temp_arg \u001b[38;5;129;01min\u001b[39;00m temp_args:\n\u001b[1;32m   1325\u001b[0m     temp_arg\u001b[38;5;241m.\u001b[39m_detach()\n",
      "File \u001b[0;32m/usr/local/spark/python/pyspark/sql/utils.py:196\u001b[0m, in \u001b[0;36mcapture_sql_exception.<locals>.deco\u001b[0;34m(*a, **kw)\u001b[0m\n\u001b[1;32m    192\u001b[0m converted \u001b[38;5;241m=\u001b[39m convert_exception(e\u001b[38;5;241m.\u001b[39mjava_exception)\n\u001b[1;32m    193\u001b[0m \u001b[38;5;28;01mif\u001b[39;00m \u001b[38;5;129;01mnot\u001b[39;00m \u001b[38;5;28misinstance\u001b[39m(converted, UnknownException):\n\u001b[1;32m    194\u001b[0m     \u001b[38;5;66;03m# Hide where the exception came from that shows a non-Pythonic\u001b[39;00m\n\u001b[1;32m    195\u001b[0m     \u001b[38;5;66;03m# JVM exception message.\u001b[39;00m\n\u001b[0;32m--> 196\u001b[0m     \u001b[38;5;28;01mraise\u001b[39;00m converted \u001b[38;5;28;01mfrom\u001b[39;00m \u001b[38;5;28mNone\u001b[39m\n\u001b[1;32m    197\u001b[0m \u001b[38;5;28;01melse\u001b[39;00m:\n\u001b[1;32m    198\u001b[0m     \u001b[38;5;28;01mraise\u001b[39;00m\n",
      "\u001b[0;31mPythonException\u001b[0m: \n  An exception was thrown from the Python worker. Please see the stack trace below.\nTraceback (most recent call last):\n  File \"/tmp/ipykernel_1910/4222292252.py\", line 13, in <lambda>\n  File \"/tmp/ipykernel_1910/4222292252.py\", line 11, in upperCase\nTypeError: can only concatenate str (not \"int\") to str\n"
     ]
    }
   ],
   "source": [
    "columns = [\"Seqno\",\"Name\"]\n",
    "data = [(\"1\", \"john jones\"),\n",
    "    (\"2\", \"tracey smith\"),\n",
    "    (\"3\", \"amy sanders\")]\n",
    "\n",
    "df = spark.createDataFrame(data=data,schema=columns)\n",
    "df.show()\n",
    "\n",
    "\n",
    "def upperCase(str):\n",
    "    return str + 1\n",
    "\n",
    "upperCaseUDF = udf(lambda z:upperCase(z),LongType())    \n",
    "\n",
    "\n",
    "df.withColumn(\"Cureated Name\", upperCaseUDF(col(\"Seqno\"))) \\\n",
    ".show(truncate=False)"
   ]
  }
 ],
 "metadata": {
  "kernelspec": {
   "display_name": "Python 3 (ipykernel)",
   "language": "python",
   "name": "python3"
  },
  "language_info": {
   "codemirror_mode": {
    "name": "ipython",
    "version": 3
   },
   "file_extension": ".py",
   "mimetype": "text/x-python",
   "name": "python",
   "nbconvert_exporter": "python",
   "pygments_lexer": "ipython3",
   "version": "3.10.8"
  }
 },
 "nbformat": 4,
 "nbformat_minor": 5
}
