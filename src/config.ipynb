{
 "cells": [
  {
   "cell_type": "code",
   "execution_count": 1,
   "id": "7ea66a7c-59d3-4fdb-a4f2-28a7c91b9abd",
   "metadata": {},
   "outputs": [],
   "source": [
    "import json\n",
    "\n",
    "from pyspark.context import SparkContext\n",
    "from pyspark.sql.session import SparkSession\n",
    "\n",
    "sc = SparkContext('local')\n",
    "spark = SparkSession(sc)"
   ]
  },
  {
   "cell_type": "code",
   "execution_count": 2,
   "id": "998b5e6b-750b-4348-9ed4-4d5cdd88d216",
   "metadata": {},
   "outputs": [
    {
     "name": "stdout",
     "output_type": "stream",
     "text": [
      "Read file config successful\n"
     ]
    }
   ],
   "source": [
    "# Lấy file config\n",
    "with open(\"config.json\", \"r\") as jsonfile:\n",
    "    config = json.load(jsonfile)\n",
    "    print(\"Read file config successful\")"
   ]
  },
  {
   "cell_type": "code",
   "execution_count": 3,
   "id": "f2b093f9-196b-4060-8518-7c49e378b6f6",
   "metadata": {},
   "outputs": [],
   "source": [
    "# demo lấy api rồi đẩy vào dataframe -> ghi vào hadoop\n",
    "import requests\n",
    "import json\n",
    "from datetime import datetime\n",
    "\n",
    "def get_stock_real_times_by_group (spark_instance, config):\n",
    "    print(datetime.now())\n",
    "    if config['method'] == 'POST':\n",
    "        stock_real_times_by_group = requests.post(config['url'], json = config['body'])\n",
    "    else: return\n",
    "    result = json.loads(stock_real_times_by_group.text)['data']['stockRealtimesByGroup']\n",
    "    df = spark_instance.sparkContext.parallelize(result).map(lambda x: json.dumps(x))\n",
    "    df = spark_instance.read.json(df)\n",
    "    # df.show()\n",
    "    return df\n",
    "    \n",
    "#     df.write.format(\"json\").mode(\"overwrite\").save(\"hdfs://namenode:9000/project20221/raw/ssiDataApi.json\")\n",
    "#     checker = spark_instance.read.json(\"hdfs://namenode:9000/project20221/raw/ssiDataApi.json\")\n",
    "#     checker.printSchema()\n",
    "#     checker.show(1, False)"
   ]
  },
  {
   "cell_type": "code",
   "execution_count": 4,
   "id": "136f348d-ea80-41e6-b0ec-83ebc3991803",
   "metadata": {},
   "outputs": [],
   "source": [
    "from pyspark.sql.functions import to_timestamp, col, concat, lit\n",
    "\n",
    "def transform_data (df, config):\n",
    "    columns = []\n",
    "\n",
    "    for column in config['Schema']:\n",
    "        columns += [column['fieldName']]\n",
    "        action = column['action']\n",
    "        if action[0] == '/':\n",
    "            df = df.withColumn(column['fieldName'], df[column['from']] / action[1:])\n",
    "        elif action[0] == '*':\n",
    "            df = df.withColumn(column['fieldName'], df[column['from']] * action[1:])\n",
    "        elif action == 'timestamp':\n",
    "            df = df.withColumn(column['fieldName'], to_timestamp(df[column['from']]))\n",
    "        else:\n",
    "            df = df.withColumn(column['fieldName'], df[column['from']])\n",
    "\n",
    "        df = df.withColumn(column['fieldName'], df[column['fieldName']].cast(column['type']))\n",
    "\n",
    "    return df.select(columns)"
   ]
  },
  {
   "cell_type": "code",
   "execution_count": 5,
   "id": "90fb04a0-748b-4d04-a4ce-3e1a660e03d9",
   "metadata": {},
   "outputs": [
    {
     "name": "stdout",
     "output_type": "stream",
     "text": [
      "2023-01-05 17:01:21.685498\n",
      "Data before transform\n",
      "+-------------+--------+---------+------------+-----------+--------------+--------+-----------+----------+-------------+--------+-----------+----------+-------------+--------+-----------+----------+-------------+--------+-----------+----------+-------------+--------+-----------+----------+-------------+--------+-----------+----------+-------------+--------+-----------+----------+-------------+--------+-----------+----------+-------------+--------+-----------+----------+-------------+--------------+---------------+--------+-------+-------------+---------------+--------+-----+-------+------+------------+-------------+----------------+-----------+------------------+--------+-----------------+---------------+----------------+-------+--------+-----------+---------+-------------+-----------+\n",
      "|   __typename|avgPrice|best10Bid|best10BidVol|best10Offer|best10OfferVol|best1Bid|best1BidVol|best1Offer|best1OfferVol|best2Bid|best2BidVol|best2Offer|best2OfferVol|best3Bid|best3BidVol|best3Offer|best3OfferVol|best4Bid|best4BidVol|best4Offer|best4OfferVol|best5Bid|best5BidVol|best5Offer|best5OfferVol|best6Bid|best6BidVol|best6Offer|best6OfferVol|best7Bid|best7BidVol|best7Offer|best7OfferVol|best8Bid|best8BidVol|best8Offer|best8OfferVol|best9Bid|best9BidVol|best9Offer|best9OfferVol|buyForeignQtty|buyForeignValue|caStatus|ceiling|currentBidQty|currentOfferQty|exchange|floor|highest|lowest|matchedPrice|matchedVolume|nmTotalTradedQty|priceChange|priceChangePercent|refPrice|remainForeignQtty|sellForeignQtty|sellForeignValue|session| stockNo|stockSymbol|stockType|tradingStatus|tradingUnit|\n",
      "+-------------+--------+---------+------------+-----------+--------------+--------+-----------+----------+-------------+--------+-----------+----------+-------------+--------+-----------+----------+-------------+--------+-----------+----------+-------------+--------+-----------+----------+-------------+--------+-----------+----------+-------------+--------+-----------+----------+-------------+--------+-----------+----------+-------------+--------+-----------+----------+-------------+--------------+---------------+--------+-------+-------------+---------------+--------+-----+-------+------+------------+-------------+----------------+-----------+------------------+--------+-----------------+---------------+----------------+-------+--------+-----------+---------+-------------+-----------+\n",
      "|StockRealtime|22851.74|     null|        null|       null|          null|   22800|      45300|     22850|        18900|   22750|      32600|     22900|        65300|   22700|       8800|     22950|       114400|    null|       null|      null|         null|    null|       null|      null|         null|    null|       null|      null|         null|    null|       null|      null|         null|    null|       null|      null|         null|    null|       null|      null|         null|             0|           null|        |  24200|         null|           null|    hose|21100|  23000| 22650|       22850|        16980|         2104500|     200.00|               0.9|   22650|                0|              0|            null|      C|hose:436|        ACB|        s|             |        100|\n",
      "+-------------+--------+---------+------------+-----------+--------------+--------+-----------+----------+-------------+--------+-----------+----------+-------------+--------+-----------+----------+-------------+--------+-----------+----------+-------------+--------+-----------+----------+-------------+--------+-----------+----------+-------------+--------+-----------+----------+-------------+--------+-----------+----------+-------------+--------+-----------+----------+-------------+--------------+---------------+--------+-------+-------------+---------------+--------+-----+-------+------+------------+-------------+----------------+-----------+------------------+--------+-----------------+---------------+----------------+-------+--------+-----------+---------+-------------+-----------+\n",
      "only showing top 1 row\n",
      "\n"
     ]
    }
   ],
   "source": [
    "df = get_stock_real_times_by_group(spark, config)\n",
    "print(\"Data before transform\")\n",
    "df.show(1)"
   ]
  },
  {
   "cell_type": "code",
   "execution_count": 6,
   "id": "27731bb7-2d5f-4ff5-971d-4b9dd34e06e0",
   "metadata": {},
   "outputs": [
    {
     "name": "stdout",
     "output_type": "stream",
     "text": [
      "Data after transform\n",
      "+--------+-------+------+\n",
      "| stockNo|highest|lowest|\n",
      "+--------+-------+------+\n",
      "|hose:436|   23.0| 22.65|\n",
      "|hose:217|   41.1| 40.25|\n",
      "|hose:209|   48.4| 47.85|\n",
      "|hose:580|  28.75| 28.25|\n",
      "|hose:974|   81.5|  80.2|\n",
      "+--------+-------+------+\n",
      "only showing top 5 rows\n",
      "\n",
      "root\n",
      " |-- stockNo: string (nullable = true)\n",
      " |-- highest: double (nullable = true)\n",
      " |-- lowest: double (nullable = true)\n",
      "\n"
     ]
    }
   ],
   "source": [
    "print(\"Data after transform\")\n",
    "df = transform_data(df, config)\n",
    "df.show(5)\n",
    "df.printSchema()"
   ]
  }
 ],
 "metadata": {
  "kernelspec": {
   "display_name": "Python 3 (ipykernel)",
   "language": "python",
   "name": "python3"
  },
  "language_info": {
   "codemirror_mode": {
    "name": "ipython",
    "version": 3
   },
   "file_extension": ".py",
   "mimetype": "text/x-python",
   "name": "python",
   "nbconvert_exporter": "python",
   "pygments_lexer": "ipython3",
   "version": "3.10.8"
  }
 },
 "nbformat": 4,
 "nbformat_minor": 5
}
