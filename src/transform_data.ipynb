{
 "cells": [
  {
   "cell_type": "code",
   "execution_count": 2,
   "id": "eec885e6-7fe6-424f-b9de-994187beaa12",
   "metadata": {},
   "outputs": [],
   "source": [
    "from pyspark.context import SparkContext\n",
    "from pyspark.sql.session import SparkSession\n",
    "sc = SparkContext('local')\n",
    "spark = SparkSession(sc)"
   ]
  },
  {
   "cell_type": "code",
   "execution_count": 4,
   "id": "d6721a45-fbd2-49a1-abd6-5ef08c36c3c5",
   "metadata": {},
   "outputs": [],
   "source": [
    "from pyspark.sql.functions import to_timestamp, col, concat, lit\n",
    "from pyspark.sql.types import *"
   ]
  },
  {
   "cell_type": "code",
   "execution_count": 95,
   "id": "d70c8ddb-e46d-4b50-a380-7ad18d5a577c",
   "metadata": {},
   "outputs": [],
   "source": [
    "# VietstockFinance_companies tranform\n",
    "from pyspark.sql.functions import expr\n",
    "\n",
    "copanies_with_uuid = companies\\\n",
    "    .withColumnRenamed(\"Sàn CK\",\"stock_exchange\")\\\n",
    "    .withColumnRenamed(\"Mã CK\",\"stock_code\")\\\n",
    "    .withColumnRenamed(\"Tên công ty\",\"copany_name\")\\\n",
    "    .distinct()\\\n",
    "    .withColumn(\"stock_id\", expr(\"uuid()\"))\n",
    "copanies_with_uuid.write.format(\"json\").mode(\"overwrite\").save(\"hdfs://namenode:9000/project20221/clean/VietstockFinance_companies.json\")\n",
    "# companies_clean = spark.read.json(\"hdfs://namenode:9000/project20221/clean/VietstockFinance_companies.json\")\n",
    "# companies_clean.show()"
   ]
  },
  {
   "cell_type": "code",
   "execution_count": 5,
   "id": "3bf74c77-4bac-4327-ac05-e09534cd2292",
   "metadata": {},
   "outputs": [
    {
     "name": "stdout",
     "output_type": "stream",
     "text": [
      "+-------------------+----------+--------------+--------+-----------+--------+-----------+--------+-----------+----------+-------------+----------+-------------+----------+-------------+-----------+------------------+----------------+------+-------+------------+-------------+--------+-----+-------+\n",
      "|time_stamp         |stock_code|stock_exchange|best1Bid|best1BidVol|best2Bid|best2BidVol|best3Bid|best3BidVol|best1Offer|best1OfferVol|best2Offer|best2OfferVol|best3Offer|best3OfferVol|priceChange|priceChangePercent|nmTotalTradedQty|lowest|highest|matchedPrice|matchedVolume|refPrice|floor|ceiling|\n",
      "+-------------------+----------+--------------+--------+-----------+--------+-----------+--------+-----------+----------+-------------+----------+-------------+----------+-------------+-----------+------------------+----------------+------+-------+------------+-------------+--------+-----+-------+\n",
      "|2023-01-10 21:45:01|MBS       |hnx           |14.1    |298300     |14.0    |206400     |13.9    |175400     |14.2      |98600        |14.3      |34500        |14.4      |82200        |300.00     |2.2               |2868600         |13.4  |14.6   |14.2        |7500         |13.9    |12.6 |15.2   |\n",
      "+-------------------+----------+--------------+--------+-----------+--------+-----------+--------+-----------+----------+-------------+----------+-------------+----------+-------------+-----------+------------------+----------------+------+-------+------------+-------------+--------+-----+-------+\n",
      "only showing top 1 row\n",
      "\n"
     ]
    }
   ],
   "source": [
    "from datetime import datetime, timedelta\n",
    "\n",
    "time_stamp = '01-10-2023-21-45-01';\n",
    "time_stamp = datetime.strptime(time_stamp, '%m-%d-%Y-%H-%M-%S')\n",
    "\n",
    "companies = spark.read.json(\"hdfs://namenode:9000/project20221/raw/stock_price_realtime/01-11-2023-22-47-37.json\")\n",
    "        \n",
    "stock_info_clean = companies\\\n",
    "    .distinct()\\\n",
    "    .withColumn('best1Bid', col('best1Bid') /1000)\\\n",
    "    .withColumn('best2Bid', col('best2Bid') /1000)\\\n",
    "    .withColumn('best3Bid', col('best3Bid') /1000)\\\n",
    "    .withColumn('best1Offer', col('best1Offer') /1000)\\\n",
    "    .withColumn('best2Offer', col('best2Offer') /1000)\\\n",
    "    .withColumn('best3Offer', col('best3Offer') /1000)\\\n",
    "    .withColumn('lowest', col('lowest') /1000)\\\n",
    "    .withColumn('highest', col('highest') /1000)\\\n",
    "    .withColumn('refPrice', col('refPrice') /1000)\\\n",
    "    .withColumn('floor', col('floor') /1000)\\\n",
    "    .withColumn('ceiling', col('ceiling') /1000)\\\n",
    "    .withColumn('matchedPrice', col('matchedPrice') /1000)\\\n",
    "    .withColumn(\"time_stamp\", to_timestamp(lit(time_stamp)))\\\n",
    "    .withColumnRenamed(\"exchange\",\"stock_exchange\")\\\n",
    "    .withColumnRenamed(\"stockSymbol\",\"stock_code\")\n",
    "\n",
    "stock_info_clean = stock_info_clean.select(\\\n",
    "    col(\"time_stamp\"),\\\n",
    "    col(\"stock_code\"),\\\n",
    "    col(\"stock_exchange\"),\\\n",
    "    col(\"best1Bid\"),\\\n",
    "    col(\"best1BidVol\"),\\\n",
    "    col(\"best2Bid\"),\\\n",
    "    col(\"best2BidVol\"),\\\n",
    "    col(\"best3Bid\"),\\\n",
    "    col(\"best3BidVol\"),\\\n",
    "    col(\"best1Offer\"),\\\n",
    "    col(\"best1OfferVol\"),\\\n",
    "    col(\"best2Offer\"),\\\n",
    "    col(\"best2OfferVol\"),\\\n",
    "    col(\"best3Offer\"),\\\n",
    "    col(\"best3OfferVol\"),\\\n",
    "    col(\"priceChange\"),\\\n",
    "    col(\"priceChangePercent\"),\\\n",
    "    col(\"nmTotalTradedQty\"),\\\n",
    "    col(\"lowest\"),\\\n",
    "    col(\"highest\"),\\\n",
    "    col(\"matchedPrice\"),\\\n",
    "    col(\"matchedVolume\"),\\\n",
    "    col(\"refPrice\"),\\\n",
    "    col(\"floor\"),\\\n",
    "    col(\"ceiling\"))\n",
    "\n",
    "stock_info_clean.show(1, False)\n",
    "\n",
    "# stock_info_clean.write.format(\"csv\").option(\"header\",\"true\").mode(\"overwrite\").save(\"hdfs://namenode:9000/project20221/clean/ssiDataApi.csv\")\n",
    "# stock_info1 = spark.read.option(\"header\",\"true\").csv(\"hdfs://namenode:9000/project20221/clean/ssiDataApi.csv\")\n",
    "# stock_info1.show(60, False)\n",
    "# print(stock_info1.count())\n"
   ]
  },
  {
   "cell_type": "code",
   "execution_count": 96,
   "id": "eb9add39-74d5-4e89-a3ab-a086c05f326f",
   "metadata": {},
   "outputs": [
    {
     "name": "stdout",
     "output_type": "stream",
     "text": [
      "root\n",
      " |-- time_stamp: timestamp (nullable = true)\n",
      " |-- stock_code: string (nullable = true)\n",
      " |-- stock_exchange: string (nullable = true)\n",
      " |-- best1Bid: double (nullable = true)\n",
      " |-- best1BidVol: integer (nullable = true)\n",
      " |-- best2Bid: double (nullable = true)\n",
      " |-- best2BidVol: integer (nullable = true)\n",
      " |-- best3Bid: double (nullable = true)\n",
      " |-- best3BidVol: integer (nullable = true)\n",
      " |-- best1Offer: double (nullable = true)\n",
      " |-- best1OfferVol: integer (nullable = true)\n",
      " |-- best2Offer: double (nullable = true)\n",
      " |-- best2OfferVol: integer (nullable = true)\n",
      " |-- best3Offer: double (nullable = true)\n",
      " |-- best3OfferVol: integer (nullable = true)\n",
      " |-- priceChange: double (nullable = true)\n",
      " |-- priceChangePercent: double (nullable = true)\n",
      " |-- nmTotalTradedQty: integer (nullable = true)\n",
      " |-- lowest: double (nullable = true)\n",
      " |-- highest: double (nullable = true)\n",
      " |-- matchedPrice: double (nullable = true)\n",
      " |-- matchedVolume: integer (nullable = true)\n",
      " |-- refPrice: double (nullable = true)\n",
      " |-- floor: double (nullable = true)\n",
      " |-- ceiling: double (nullable = true)\n",
      "\n",
      "+-------------------+----------+--------------+--------+-----------+--------+-----------+--------+-----------+----------+-------------+----------+-------------+----------+-------------+-----------+------------------+----------------+------+-------+------------+-------------+--------+-----+-------+\n",
      "|time_stamp         |stock_code|stock_exchange|best1Bid|best1BidVol|best2Bid|best2BidVol|best3Bid|best3BidVol|best1Offer|best1OfferVol|best2Offer|best2OfferVol|best3Offer|best3OfferVol|priceChange|priceChangePercent|nmTotalTradedQty|lowest|highest|matchedPrice|matchedVolume|refPrice|floor|ceiling|\n",
      "+-------------------+----------+--------------+--------+-----------+--------+-----------+--------+-----------+----------+-------------+----------+-------------+----------+-------------+-----------+------------------+----------------+------+-------+------------+-------------+--------+-----+-------+\n",
      "|2022-12-24 07:25:34|PLX       |hose          |29.5    |146200     |29.45   |100        |29.4    |2500       |29.6      |1500         |29.65     |200          |29.7      |4200         |150.0      |0.5               |606600          |29.05 |29.95  |29.5        |2110         |29.35   |27.3 |31.4   |\n",
      "+-------------------+----------+--------------+--------+-----------+--------+-----------+--------+-----------+----------+-------------+----------+-------------+----------+-------------+-----------+------------------+----------------+------+-------+------------+-------------+--------+-----+-------+\n",
      "only showing top 1 row\n",
      "\n"
     ]
    }
   ],
   "source": [
    "all_stock_info = spark.read\\\n",
    "    .option(\"header\",True)\\\n",
    "    .option(\"inferSchema\", True)\\\n",
    "    .csv(\"hdfs://namenode:9000/project20221/clean/ssiDataApi.csv\")\n",
    "all_stock_info.printSchema()\n",
    "all_stock_info.show(1, False)\n"
   ]
  },
  {
   "cell_type": "code",
   "execution_count": 94,
   "id": "b87182d1-c18c-49ed-8bf7-727d8498d397",
   "metadata": {},
   "outputs": [
    {
     "name": "stdout",
     "output_type": "stream",
     "text": [
      "root\n",
      " |-- newsAbstract: string (nullable = true)\n",
      " |-- newsContent: string (nullable = true)\n",
      " |-- newsId: string (nullable = true)\n",
      " |-- newsSource: string (nullable = true)\n",
      " |-- newsTitle: string (nullable = true)\n",
      " |-- newsUrl: string (nullable = true)\n",
      " |-- stock_code: string (nullable = true)\n",
      " |-- time_stamp: timestamp (nullable = true)\n",
      "\n"
     ]
    }
   ],
   "source": [
    "news = spark.read.json(\"hdfs://namenode:9000/project20221/raw/analysNews.json\")\n",
    "\n",
    "clean_news = news\\\n",
    "    .distinct()\\\n",
    "    .withColumn('time_stamp', to_timestamp(concat(col('newsDate'), lit(' '), col('newsTime'))))\\\n",
    "    .withColumnRenamed(\"tagCodes\",\"stock_code\")\n",
    "\n",
    "clean_news = clean_news.select(\\\n",
    "    col(\"newsAbstract\"),\\\n",
    "    col(\"newsContent\"),\\\n",
    "    col(\"newsId\"),\\\n",
    "    col(\"newsSource\"),\\\n",
    "    col(\"newsTitle\"),\\\n",
    "    col(\"newsUrl\"),\\\n",
    "    col(\"stock_code\"),\\\n",
    "    col(\"time_stamp\"))\n",
    "\n",
    "\n",
    "clean_news.write.format(\"json\").mode(\"overwrite\").save(\"hdfs://namenode:9000/project20221/clean/analysNews.json\")"
   ]
  },
  {
   "cell_type": "code",
   "execution_count": 3,
   "id": "b73a86eb-eacb-4b26-8edd-edecbfaf7d7a",
   "metadata": {},
   "outputs": [
    {
     "ename": "NameError",
     "evalue": "name 'spark' is not defined",
     "output_type": "error",
     "traceback": [
      "\u001b[0;31m---------------------------------------------------------------------------\u001b[0m",
      "\u001b[0;31mNameError\u001b[0m                                 Traceback (most recent call last)",
      "Cell \u001b[0;32mIn[3], line 13\u001b[0m\n\u001b[1;32m      1\u001b[0m \u001b[38;5;66;03m# Analys news schema\u001b[39;00m\n\u001b[1;32m      2\u001b[0m analys_news_schema \u001b[38;5;241m=\u001b[39m StructType([\\\n\u001b[1;32m      3\u001b[0m     StructField(\u001b[38;5;124m\"\u001b[39m\u001b[38;5;124mnewsAbstract\u001b[39m\u001b[38;5;124m\"\u001b[39m, StringType(), \u001b[38;5;28;01mTrue\u001b[39;00m),\\\n\u001b[1;32m      4\u001b[0m     StructField(\u001b[38;5;124m\"\u001b[39m\u001b[38;5;124mnewsContent\u001b[39m\u001b[38;5;124m\"\u001b[39m, StringType(), \u001b[38;5;28;01mTrue\u001b[39;00m),\\\n\u001b[0;32m   (...)\u001b[0m\n\u001b[1;32m     10\u001b[0m     StructField(\u001b[38;5;124m\"\u001b[39m\u001b[38;5;124mtime_stamp\u001b[39m\u001b[38;5;124m\"\u001b[39m, TimestampType(), \u001b[38;5;28;01mTrue\u001b[39;00m),\\\n\u001b[1;32m     11\u001b[0m ])\n\u001b[0;32m---> 13\u001b[0m news \u001b[38;5;241m=\u001b[39m \u001b[43mspark\u001b[49m\\\n\u001b[1;32m     14\u001b[0m     \u001b[38;5;241m.\u001b[39mread\\\n\u001b[1;32m     15\u001b[0m     \u001b[38;5;241m.\u001b[39mschema(analys_news_schema)\\\n\u001b[1;32m     16\u001b[0m     \u001b[38;5;241m.\u001b[39mjson(\u001b[38;5;124m\"\u001b[39m\u001b[38;5;124mhdfs://namenode:9000/project20221/clean/analysNews.json\u001b[39m\u001b[38;5;124m\"\u001b[39m)\n\u001b[1;32m     17\u001b[0m news\u001b[38;5;241m.\u001b[39mprintSchema()\n\u001b[1;32m     18\u001b[0m news\u001b[38;5;241m.\u001b[39mshow(\u001b[38;5;241m1\u001b[39m, \u001b[38;5;28;01mFalse\u001b[39;00m)\n",
      "\u001b[0;31mNameError\u001b[0m: name 'spark' is not defined"
     ]
    }
   ],
   "source": [
    "# Analys news schema\n",
    "analys_news_schema = StructType([\\\n",
    "    StructField(\"newsAbstract\", StringType(), True),\\\n",
    "    StructField(\"newsContent\", StringType(), True),\\\n",
    "    StructField(\"newsId\", StringType(), True),\\\n",
    "    StructField(\"newsSource\", StringType(), True),\\\n",
    "    StructField(\"newsTitle\", StringType(), True),\\\n",
    "    StructField(\"newsUrl\", StringType(), True),\\\n",
    "    StructField(\"stock_code\", StringType(), True),\\\n",
    "    StructField(\"time_stamp\", TimestampType(), True),\\\n",
    "])\n",
    "\n",
    "news = spark\\\n",
    "    .read\\\n",
    "    .schema(analys_news_schema)\\\n",
    "    .json(\"hdfs://namenode:9000/project20221/clean/analysNews.json\")\n",
    "news.printSchema()\n",
    "news.show(1, False)"
   ]
  },
  {
   "cell_type": "code",
   "execution_count": null,
   "id": "0adccc69-d469-4711-b007-0c04181dd66c",
   "metadata": {},
   "outputs": [],
   "source": [
    "fullInfo = companies.join(stockInfo, companies.stock_code == stockInfo.stockSymbol, \"inner\")\n",
    "fullInfo.show(truncate=False)"
   ]
  },
  {
   "cell_type": "code",
   "execution_count": null,
   "id": "02648a20-9708-4108-a539-393a7de3824b",
   "metadata": {},
   "outputs": [],
   "source": [
    "from pyspark.sql.functions import col\n",
    "\n",
    "stock_code = 'BAF'\n",
    "news.filter(col(\"tagCodes\").like(stock_code)).show(1, False)"
   ]
  },
  {
   "cell_type": "code",
   "execution_count": 2,
   "id": "b0d1ea0c-00a3-4756-b71b-69a0ea45abe2",
   "metadata": {},
   "outputs": [
    {
     "name": "stdout",
     "output_type": "stream",
     "text": [
      "+--------+-----------+----------+-------------+--------+-----------+----------+-------------+--------+-----------+----------+-------------+-------+-----+-------+------+------------+-------------+----------------+-----------+------------------+--------+----------+--------------+--------------------+\n",
      "|best1Bid|best1BidVol|best1Offer|best1OfferVol|best2Bid|best2BidVol|best2Offer|best2OfferVol|best3Bid|best3BidVol|best3Offer|best3OfferVol|ceiling|floor|highest|lowest|matchedPrice|matchedVolume|nmTotalTradedQty|priceChange|priceChangePercent|refPrice|stock_code|stock_exchange|          time_stamp|\n",
      "+--------+-----------+----------+-------------+--------+-----------+----------+-------------+--------+-----------+----------+-------------+-------+-----+-------+------+------------+-------------+----------------+-----------+------------------+--------+----------+--------------+--------------------+\n",
      "|    11.0|        100|      12.5|         1400|     0.0|          0|      12.6|         1000|     0.0|          0|      12.7|         2000|   13.4| 11.0|   12.2|  12.2|        12.2|          100|             600|       0.00|               0.0|    12.2|       PMP|           hnx|2023-01-11T22:28:...|\n",
      "|     0.0|          0|      22.2|          700|     0.0|          0|      24.5|          100|     0.0|          0|      24.6|          100|   27.0| 22.2|   22.2|  22.2|        22.2|          300|             800|   -2400.00|              -9.8|    24.6|       SFN|           hnx|2023-01-11T22:28:...|\n",
      "|     6.2|        300|       6.5|         5800|     6.1|        800|       6.6|         5400|     6.0|       2200|       6.7|         5600|    6.8|  5.6|    6.5|   6.2|         6.2|          100|            2000|       0.00|               0.0|     6.2|       PCG|           hnx|2023-01-11T22:28:...|\n",
      "|    10.7|        500|      11.0|          500|    10.6|        200|      11.2|          500|    10.5|       1000|      11.4|          300|   12.1|  9.9|   11.2|  11.0|        11.0|          500|            2500|       0.00|               0.0|    11.0|       PMB|           hnx|2023-01-11T22:28:...|\n",
      "|     7.9|       2500|       8.0|         8400|     7.8|       9800|       8.1|        23200|     7.7|       1200|       8.2|        10900|    8.6|  7.2|    8.0|   7.9|         8.0|          100|           14100|     100.00|               1.3|     7.9|       PSW|           hnx|2023-01-11T22:28:...|\n",
      "|     4.5|       8000|       4.9|         1500|     0.0|          0|       5.0|          700|     0.0|          0|       5.1|          700|    5.3|  4.5|    4.8|   4.5|         4.8|          100|           10600|    -100.00|              -2.0|     4.9|       PCT|           hnx|2023-01-11T22:28:...|\n",
      "|     7.0|       1700|       7.2|          100|     6.8|       1500|       7.3|         1700|     6.7|        600|       7.4|         1300|    8.0|  6.6|    7.2|   7.0|         7.2|          800|           10000|    -100.00|              -1.4|     7.3|       PGN|           hnx|2023-01-11T22:28:...|\n",
      "|     0.0|          0|       0.0|            0|     0.0|          0|       0.0|            0|     0.0|          0|       0.0|            0|   40.1| 32.9|    0.0|   0.0|         0.0|            0|               0|           |                  |    36.5|       QHD|           hnx|2023-01-11T22:28:...|\n",
      "|    23.0|       4300|      24.0|         2100|     0.0|          0|      25.1|         4000|     0.0|          0|      25.3|         4300|   27.8| 22.8|   23.0|  23.0|        23.0|          100|             100|   -2300.00|              -9.1|    25.3|       PJC|           hnx|2023-01-11T22:28:...|\n",
      "|    21.2|        200|      23.6|          200|    21.1|        100|      24.6|          100|    20.6|        500|       0.0|            0|   24.7| 20.3|   20.3|  20.3|        20.3|          100|             100|   -2200.00|              -9.8|    22.5|       PMS|           hnx|2023-01-11T22:28:...|\n",
      "|    12.6|        100|      13.0|          300|    12.5|        200|      13.1|          100|     0.0|          0|      13.2|         1000|   15.1| 12.5|    0.0|   0.0|         0.0|            0|               0|           |                  |    13.8|       NBP|           hnx|2023-01-11T22:28:...|\n",
      "|    12.5|       9800|      12.6|          400|    12.0|        200|      12.7|          900|    11.5|       1000|      13.0|         1000|   13.7| 11.3|   12.7|  12.5|        12.5|          100|           20300|       0.00|               0.0|    12.5|       PSE|           hnx|2023-01-11T22:28:...|\n",
      "|     4.3|       3100|       4.4|        17400|     4.2|      14100|       4.5|        19000|     4.1|      22700|       4.6|        28000|    4.7|  3.9|    4.5|   4.3|         4.3|          300|           48200|       0.00|               0.0|     4.3|       NSH|           hnx|2023-01-11T22:28:...|\n",
      "|     6.6|        600|       6.7|         4400|     6.5|       1600|       6.8|         5700|     6.4|       1100|       6.9|         4400|    7.1|  5.9|    6.7|   6.5|         6.7|          100|            1900|     200.00|               3.1|     6.5|       SD9|           hnx|2023-01-11T22:28:...|\n",
      "|     0.0|          0|      13.9|          900|     0.0|          0|      14.0|          700|     0.0|          0|      14.3|         1200|   15.2| 12.6|   14.8|  12.6|        13.9|          100|             600|       0.00|               0.0|    13.9|       SJ1|           hnx|2023-01-11T22:28:...|\n",
      "|    17.6|       5000|      18.9|         2000|    17.4|        100|      19.0|         2900|    16.8|        100|      19.2|         1500|   19.6| 16.2|   19.0|  17.6|        19.0|          100|            5100|    1100.00|               6.1|    17.9|       PRE|           hnx|2023-01-11T22:28:...|\n",
      "|     6.9|        400|       7.0|         1800|     6.8|       4000|       7.1|         9900|     6.7|       1100|       7.2|         7300|    7.5|  6.3|    7.1|   6.8|         6.9|         1000|           23000|       0.00|               0.0|     6.9|       SDA|           hnx|2023-01-11T22:28:...|\n",
      "|     5.6|        400|       5.7|          900|     5.5|       2800|       5.8|         1100|     5.4|       1200|       5.9|         2800|    6.1|  5.1|    5.7|   5.5|         5.7|          100|            1700|     100.00|               1.8|     5.6|       NDX|           hnx|2023-01-11T22:28:...|\n",
      "|     0.0|          0|       0.0|            0|     0.0|          0|       0.0|            0|     0.0|          0|       0.0|            0|    0.0|  0.0|    0.0|   0.0|         0.0|            0|               0|           |                  |    94.5|  NPM11911|           hnx|2023-01-11T22:28:...|\n",
      "|    32.0|       4500|      32.1|          800|    31.8|       6600|      32.2|         5800|    31.7|       1000|      32.4|         1000|   35.3| 28.9|   32.2|  32.0|        32.1|          100|           13100|       0.00|               0.0|    32.1|       NTP|           hnx|2023-01-11T22:28:...|\n",
      "+--------+-----------+----------+-------------+--------+-----------+----------+-------------+--------+-----------+----------+-------------+-------+-----+-------+------+------------+-------------+----------------+-----------+------------------+--------+----------+--------------+--------------------+\n",
      "only showing top 20 rows\n",
      "\n"
     ]
    }
   ],
   "source": [
    "raw = spark.read.json(\"hdfs://namenode:9000/project20221/clean/stock_price_realtime/01-11-2023-22-28-35.json\")\n",
    "\n",
    "\n"
   ]
  }
 ],
 "metadata": {
  "kernelspec": {
   "display_name": "Python 3 (ipykernel)",
   "language": "python",
   "name": "python3"
  },
  "language_info": {
   "codemirror_mode": {
    "name": "ipython",
    "version": 3
   },
   "file_extension": ".py",
   "mimetype": "text/x-python",
   "name": "python",
   "nbconvert_exporter": "python",
   "pygments_lexer": "ipython3",
   "version": "3.10.8"
  }
 },
 "nbformat": 4,
 "nbformat_minor": 5
}
