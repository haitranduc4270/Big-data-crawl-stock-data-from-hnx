{
 "cells": [
  {
   "cell_type": "code",
   "execution_count": 1,
   "id": "eec885e6-7fe6-424f-b9de-994187beaa12",
   "metadata": {},
   "outputs": [],
   "source": [
    "from pyspark.context import SparkContext\n",
    "from pyspark.sql.session import SparkSession\n",
    "from pyspark.sql.functions import expr, col, column\n",
    "sc = SparkContext('local')\n",
    "spark = SparkSession(sc)"
   ]
  },
  {
   "cell_type": "code",
   "execution_count": null,
   "id": "5f17c378-b1fa-443d-a364-ac1652845e33",
   "metadata": {},
   "outputs": [],
   "source": [
    "companies = spark.read.json(\"hdfs://namenode:9000/project20221/raw/VietstockFinance_companies.json\")\n",
    "stockInfo = spark.read.option(\"header\",\"true\").csv(\"hdfs://namenode:9000/project20221/raw/ssiDataApi.csv\")\n",
    "news = spark.read.json(\"hdfs://namenode:9000/project20221/raw/analysNews.json\")\n",
    "\n",
    "# companies.select(expr(\"Mã CK AS stock_code\"))\n",
    "\n",
    "companies.show(1, False)\n",
    "stockInfo.show(1, False)\n",
    "news.show(1, False)\n"
   ]
  },
  {
   "cell_type": "code",
   "execution_count": null,
   "id": "0adccc69-d469-4711-b007-0c04181dd66c",
   "metadata": {},
   "outputs": [],
   "source": [
    "fullInfo = companies.join(stockInfo, companies.stock_code == stockInfo.stockSymbol, \"inner\")\n",
    "fullInfo.show(truncate=False)"
   ]
  },
  {
   "cell_type": "code",
   "execution_count": 45,
   "id": "02648a20-9708-4108-a539-393a7de3824b",
   "metadata": {},
   "outputs": [
    {
     "name": "stdout",
     "output_type": "stream",
     "text": [
      "+-------+------+--------------------+--------------------+----------+------------+--------+----------+--------+--------------------+------------+--------------------+--------+--------------------+\n",
      "|hotNews|locale|        newsAbstract|         newsContent|  newsDate|   newsGroup|  newsId|newsSource|newsTime|           newsTitle|    newsType|             newsUrl|tagCodes|        thumbnailUrl|\n",
      "+-------+------+--------------------+--------------------+----------+------------+--------+----------+--------+--------------------+------------+--------------------+--------+--------------------+\n",
      "|      N|    VN|Thị giá BAF đang ...|<head>\\n</HEAD>\\n...|2022-12-21|company_news|10272215|     CAFEF|17:52:17|Công ty của Chủ t...|company_news|https://cafef.vn/...|     BAF|https://cafefcdn....|\n",
      "|      N|    VN|Thị giá BAF đang ...|<head>\\n</HEAD>\\n...|2022-12-21|company_news|10272215|     CAFEF|17:52:17|Công ty của Chủ t...|company_news|https://cafef.vn/...|     BAF|https://cafefcdn....|\n",
      "|      N|    VN|Thị giá BAF đang ...|<head>\\n</HEAD>\\n...|2022-12-21|company_news|10272215|     CAFEF|17:52:17|Công ty của Chủ t...|company_news|https://cafef.vn/...|     BAF|https://cafefcdn....|\n",
      "|      N|    VN|Thị giá BAF đang ...|<head>\\n</HEAD>\\n...|2022-12-21|company_news|10272215|     CAFEF|17:52:17|Công ty của Chủ t...|company_news|https://cafef.vn/...|     BAF|https://cafefcdn....|\n",
      "+-------+------+--------------------+--------------------+----------+------------+--------+----------+--------+--------------------+------------+--------------------+--------+--------------------+\n",
      "\n"
     ]
    }
   ],
   "source": [
    "from pyspark.sql.functions import col\n",
    "\n",
    "stock_code = 'BAF'\n",
    "news.filter(col(\"tagCodes\").like(stock_code)).show()"
   ]
  }
 ],
 "metadata": {
  "kernelspec": {
   "display_name": "Python 3 (ipykernel)",
   "language": "python",
   "name": "python3"
  },
  "language_info": {
   "codemirror_mode": {
    "name": "ipython",
    "version": 3
   },
   "file_extension": ".py",
   "mimetype": "text/x-python",
   "name": "python",
   "nbconvert_exporter": "python",
   "pygments_lexer": "ipython3",
   "version": "3.10.6"
  }
 },
 "nbformat": 4,
 "nbformat_minor": 5
}
