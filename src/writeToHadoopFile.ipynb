{
 "cells": [
  {
   "cell_type": "code",
   "execution_count": 1,
   "id": "80bfc39c-2bad-4c73-bf78-755a7a4a7a6b",
   "metadata": {},
   "outputs": [],
   "source": [
    "from pyspark.context import SparkContext\n",
    "from pyspark.sql.session import SparkSession\n",
    "from pyspark.sql.functions import expr, col, column\n",
    "sc = SparkContext('local')\n",
    "spark = SparkSession(sc)"
   ]
  },
  {
   "cell_type": "code",
   "execution_count": 3,
   "id": "c3d842d7-78ab-47ed-86c1-536935b03fc7",
   "metadata": {},
   "outputs": [
    {
     "name": "stdout",
     "output_type": "stream",
     "text": [
      "root\n",
      " |-- stockNo: string (nullable = true)\n",
      " |-- ceiling: integer (nullable = true)\n",
      " |-- floor: integer (nullable = true)\n",
      " |-- refPrice: integer (nullable = true)\n",
      " |-- stockSymbol: string (nullable = true)\n",
      " |-- stockType: string (nullable = true)\n",
      " |-- exchange: string (nullable = true)\n",
      " |-- matchedPrice: integer (nullable = true)\n",
      " |-- matchedVolume: integer (nullable = true)\n",
      " |-- priceChange: double (nullable = true)\n",
      " |-- priceChangePercent: double (nullable = true)\n",
      " |-- highest: integer (nullable = true)\n",
      " |-- avgPrice: double (nullable = true)\n",
      " |-- lowest: integer (nullable = true)\n",
      " |-- nmTotalTradedQty: integer (nullable = true)\n",
      " |-- best1Bid: integer (nullable = true)\n",
      " |-- best1BidVol: integer (nullable = true)\n",
      " |-- best2Bid: integer (nullable = true)\n",
      " |-- best2BidVol: integer (nullable = true)\n",
      " |-- best3Bid: integer (nullable = true)\n",
      " |-- best3BidVol: integer (nullable = true)\n",
      " |-- best4Bid: string (nullable = true)\n",
      " |-- best4BidVol: string (nullable = true)\n",
      " |-- best5Bid: string (nullable = true)\n",
      " |-- best5BidVol: string (nullable = true)\n",
      " |-- best6Bid: string (nullable = true)\n",
      " |-- best6BidVol: string (nullable = true)\n",
      " |-- best7Bid: string (nullable = true)\n",
      " |-- best7BidVol: string (nullable = true)\n",
      " |-- best8Bid: string (nullable = true)\n",
      " |-- best8BidVol: string (nullable = true)\n",
      " |-- best9Bid: string (nullable = true)\n",
      " |-- best9BidVol: string (nullable = true)\n",
      " |-- best10Bid: string (nullable = true)\n",
      " |-- best10BidVol: string (nullable = true)\n",
      " |-- best1Offer: integer (nullable = true)\n",
      " |-- best1OfferVol: integer (nullable = true)\n",
      " |-- best2Offer: integer (nullable = true)\n",
      " |-- best2OfferVol: integer (nullable = true)\n",
      " |-- best3Offer: integer (nullable = true)\n",
      " |-- best3OfferVol: integer (nullable = true)\n",
      " |-- best4Offer: string (nullable = true)\n",
      " |-- best4OfferVol: string (nullable = true)\n",
      " |-- best5Offer: string (nullable = true)\n",
      " |-- best5OfferVol: string (nullable = true)\n",
      " |-- best6Offer: string (nullable = true)\n",
      " |-- best6OfferVol: string (nullable = true)\n",
      " |-- best7Offer: string (nullable = true)\n",
      " |-- best7OfferVol: string (nullable = true)\n",
      " |-- best8Offer: string (nullable = true)\n",
      " |-- best8OfferVol: string (nullable = true)\n",
      " |-- best9Offer: string (nullable = true)\n",
      " |-- best9OfferVol: string (nullable = true)\n",
      " |-- best10Offer: string (nullable = true)\n",
      " |-- best10OfferVol: string (nullable = true)\n",
      " |-- buyForeignQtty: integer (nullable = true)\n",
      " |-- buyForeignValue: string (nullable = true)\n",
      " |-- sellForeignQtty: integer (nullable = true)\n",
      " |-- sellForeignValue: string (nullable = true)\n",
      " |-- caStatus: string (nullable = true)\n",
      " |-- tradingStatus: string (nullable = true)\n",
      " |-- remainForeignQtty: integer (nullable = true)\n",
      " |-- currentBidQty: string (nullable = true)\n",
      " |-- currentOfferQty: string (nullable = true)\n",
      " |-- session: string (nullable = true)\n",
      " |-- tradingUnit: integer (nullable = true)\n",
      " |-- __typename: string (nullable = true)\n",
      " |-- date_time: timestamp (nullable = true)\n",
      "\n",
      "+--------+-------+-----+--------+-----------+---------+--------+------------+-------------+-----------+------------------+-------+--------+------+----------------+--------+-----------+--------+-----------+--------+-----------+--------+-----------+--------+-----------+--------+-----------+--------+-----------+--------+-----------+--------+-----------+---------+------------+----------+-------------+----------+-------------+----------+-------------+----------+-------------+----------+-------------+----------+-------------+----------+-------------+----------+-------------+----------+-------------+-----------+--------------+--------------+---------------+---------------+----------------+--------+-------------+-----------------+-------------+---------------+-------+-----------+-------------+-------------------+\n",
      "|stockNo |ceiling|floor|refPrice|stockSymbol|stockType|exchange|matchedPrice|matchedVolume|priceChange|priceChangePercent|highest|avgPrice|lowest|nmTotalTradedQty|best1Bid|best1BidVol|best2Bid|best2BidVol|best3Bid|best3BidVol|best4Bid|best4BidVol|best5Bid|best5BidVol|best6Bid|best6BidVol|best7Bid|best7BidVol|best8Bid|best8BidVol|best9Bid|best9BidVol|best10Bid|best10BidVol|best1Offer|best1OfferVol|best2Offer|best2OfferVol|best3Offer|best3OfferVol|best4Offer|best4OfferVol|best5Offer|best5OfferVol|best6Offer|best6OfferVol|best7Offer|best7OfferVol|best8Offer|best8OfferVol|best9Offer|best9OfferVol|best10Offer|best10OfferVol|buyForeignQtty|buyForeignValue|sellForeignQtty|sellForeignValue|caStatus|tradingStatus|remainForeignQtty|currentBidQty|currentOfferQty|session|tradingUnit|__typename   |date_time          |\n",
      "+--------+-------+-----+--------+-----------+---------+--------+------------+-------------+-----------+------------------+-------+--------+------+----------------+--------+-----------+--------+-----------+--------+-----------+--------+-----------+--------+-----------+--------+-----------+--------+-----------+--------+-----------+--------+-----------+---------+------------+----------+-------------+----------+-------------+----------+-------------+----------+-------------+----------+-------------+----------+-------------+----------+-------------+----------+-------------+----------+-------------+-----------+--------------+--------------+---------------+---------------+----------------+--------+-------------+-----------------+-------------+---------------+-------+-----------+-------------+-------------------+\n",
      "|hose:436|24100  |21000|22550   |ACB        |s        |hose    |22800       |25870        |250.0      |1.1               |23000  |22585.73|22300 |1887300         |22650   |100        |22600   |5000       |22550   |25800      |null    |null       |null    |null       |null    |null       |null    |null       |null    |null       |null    |null       |null     |null        |22800     |50900        |22850     |7700         |22900     |38000        |null      |null         |null      |null         |null      |null         |null      |null         |null      |null         |null      |null         |null       |null          |0             |null           |0              |null            |null    |null         |0                |null         |null           |C      |100        |StockRealtime|2022-12-24 07:25:34|\n",
      "+--------+-------+-----+--------+-----------+---------+--------+------------+-------------+-----------+------------------+-------+--------+------+----------------+--------+-----------+--------+-----------+--------+-----------+--------+-----------+--------+-----------+--------+-----------+--------+-----------+--------+-----------+--------+-----------+---------+------------+----------+-------------+----------+-------------+----------+-------------+----------+-------------+----------+-------------+----------+-------------+----------+-------------+----------+-------------+----------+-------------+-----------+--------------+--------------+---------------+---------------+----------------+--------+-------------+-----------------+-------------+---------------+-------+-----------+-------------+-------------------+\n",
      "only showing top 1 row\n",
      "\n"
     ]
    }
   ],
   "source": [
    "# Read data receive from kafka and write to hdfs\n",
    "data = ['ssiDataApi.csv']\n",
    "for file in data: \n",
    "    csv = spark.read.option(\"inferSchema\", True).option(\"header\",True).csv(\"../crawler/data/ssiDataApi.csv\")\n",
    "    csv.printSchema()\n",
    "    csv.show(1, False)\n",
    "    # csv.write.format(\"csv\").mode(\"overwrite\").option(\"header\",True).save(\"hdfs://namenode:9000/project20221/raw/\" + file)\n",
    "    # csv = spark.read.option(\"header\",True).csv(\"hdfs://namenode:9000/project20221/raw/\" + file)\n",
    "    # csv.show(1, True)"
   ]
  },
  {
   "cell_type": "code",
   "execution_count": 21,
   "id": "c8cf16e1-eea9-4fa1-9314-0760db792275",
   "metadata": {},
   "outputs": [
    {
     "name": "stdout",
     "output_type": "stream",
     "text": [
      "[{'Schema': [], 'config_dir': 'config/ssi_stock_data.json', 'data': 'ssi_stock_data_api', 'frequency': Row(from='8: cái này là kiểu 8 h sáng đến 18 h tối kiểu thế', period=Row(unit='đơn vị của chu kỳ ví dụ là hour thì sẽ lặp theo giờ, phút, ...', value='giá trị thời gian lặp lại ví dụ 1, 2 3'), to='18: cái này là kiểu 8 h sáng đến 18 h tối kiểu thế'), 'hadoop_dir': 'raw/stock_price_realtime/', 'source': Row(body=Row(operationName='stockRealtimesByGroup', query='query stockRealtimesByGroup($group: String) {\\n  stockRealtimesByGroup(group: $group) {\\n    stockNo\\n    ceiling\\n    floor\\n    refPrice\\n    stockSymbol\\n    stockType\\n    exchange\\n    matchedPrice\\n    matchedVolume\\n    priceChange\\n    priceChangePercent\\n    highest\\n    avgPrice\\n    lowest\\n    nmTotalTradedQty\\n    best1Bid\\n    best1BidVol\\n    best2Bid\\n    best2BidVol\\n    best3Bid\\n    best3BidVol\\n    best4Bid\\n    best4BidVol\\n    best5Bid\\n    best5BidVol\\n    best6Bid\\n    best6BidVol\\n    best7Bid\\n    best7BidVol\\n    best8Bid\\n    best8BidVol\\n    best9Bid\\n    best9BidVol\\n    best10Bid\\n    best10BidVol\\n    best1Offer\\n    best1OfferVol\\n    best2Offer\\n    best2OfferVol\\n    best3Offer\\n    best3OfferVol\\n    best4Offer\\n    best4OfferVol\\n    best5Offer\\n    best5OfferVol\\n    best6Offer\\n    best6OfferVol\\n    best7Offer\\n    best7OfferVol\\n    best8Offer\\n    best8OfferVol\\n    best9Offer\\n    best9OfferVol\\n    best10Offer\\n    best10OfferVol\\n    buyForeignQtty\\n    buyForeignValue\\n    sellForeignQtty\\n    sellForeignValue\\n    caStatus\\n    tradingStatus\\n    remainForeignQtty\\n    currentBidQty\\n    currentOfferQty\\n    session\\n    tradingUnit\\n    __typename\\n  }\\n}\\n', variables=Row(group='VN30')), method='POST', url='https://wgateway-iboard.ssi.com.vn/graphql')}]\n",
      "[{'Schema': [Row(action='trường này thể hiện m sẽ làm gì với trường ban đầu để nó ra được trường m cần tìm ví dụ như nhận 100, chia 100 ...', fieldName='typename - tên trường mới ', from='cái này sẽ là tên trường ban đầu chẳng hạn', nullable='1 0 kiểu boolean í', type='string kiểu dữ liệu trong spark để đọc nó sẽ là kiểu stringType, ...')], 'config_dir': 'config/analys_news_vndirect.json', 'data': 'analys_news_vndirect_api', 'frequency': Row(from='8: cái này là kiểu 8 h sáng đến 18 h tối kiểu thế', period=Row(unit='đơn vị của chu kỳ ví dụ là hour thì sẽ lặp theo giờ, phút, ...', value='giá trị thời gian lặp lại ví dụ 1, 2 3'), to='18: cái này là kiểu 8 h sáng đến 18 h tối kiểu thế'), 'hadoop_dir': 'raw/vndirect_analys_news/', 'source': Row(method='GET', url='https://finfo-api.vndirect.com.vn/v4/news?q=newsType:company_report~locale:VN~newsSource:VNDIRECT&sort=newsDate:desc~newsTime:desc&size=20')}]\n",
      "[{'config_dir': 'config/news_vndirect.json', 'data': 'news_vndirect_api', 'frequency': Row(from='8: cái này là kiểu 8 h sáng đến 18 h tối kiểu thế', period=Row(unit='đơn vị của chu kỳ ví dụ là hour thì sẽ lặp theo giờ, phút, ...', value='giá trị thời gian lặp lại ví dụ 1, 2 3'), to='18: cái này là kiểu 8 h sáng đến 18 h tối kiểu thế'), 'hadoop_dir': 'raw/news_vndirect/', 'source': Row(method='GET', url='https://finfo-api.vndirect.com.vn/v4/news?q=newsGroup:company_news~locale:VN&sort=newsDate:desc~newsTime:desc&size=20')}]\n"
     ]
    }
   ],
   "source": [
    "from pyspark.sql import Row\n",
    "from pyspark.sql.types import *\n",
    "\n",
    "# Read json data receive from kafka and write to hdfs\n",
    "data = ['ssi_stock_data.json', 'analys_news_vndirect.json', 'news_vndirect.json']\n",
    "for file in data: \n",
    "    json = spark.read.option(\"multiLine\", \"true\").json('../crawler/config/' + file)\n",
    "    json.write.format(\"json\").mode(\"overwrite\").save(\"hdfs://namenode:9000/project20221/config/\" + file)\n",
    "    json = spark.read.json(\"hdfs://namenode:9000/project20221/config/\" + file)\n",
    "    config = json.rdd.map(lambda row: row.asDict()).collect()\n",
    "    print(config)\n"
   ]
  },
  {
   "cell_type": "code",
   "execution_count": 22,
   "id": "32581d74-e90d-44d4-9986-3af9da8139f7",
   "metadata": {},
   "outputs": [
    {
     "name": "stdout",
     "output_type": "stream",
     "text": [
      "+--------------------+-------+------+--------------------+--------------------+----------+---------------+--------+----------+--------+--------------------+--------------+--------------------+--------+------------+\n",
      "|         attachments|hotNews|locale|        newsAbstract|         newsContent|  newsDate|      newsGroup|  newsId|newsSource|newsTime|           newsTitle|      newsType|             newsUrl|tagCodes|thumbnailUrl|\n",
      "+--------------------+-------+------+--------------------+--------------------+----------+---------------+--------+----------+--------+--------------------+--------------+--------------------+--------+------------+\n",
      "|[{PVS_BCCapnhat_2...|      N|    VN|Lợi nhuận (LN) rò...|<head>\\n</HEAD>\\n...|2022-12-09|analytic_report|10268181|  VNDIRECT|15:00:37|PVS – Duy trì tri...|company_report|https://www.vndir...|     PVS|            |\n",
      "|[{VHM_BCCapnhat_2...|      N|    VN|Lợi nhuận (LN) rò...|<head>\\n</HEAD>\\n...|2022-11-30|analytic_report|10263385|  VNDIRECT|11:52:26|VHM – Nổi bật giữ...|company_report|https://www.vndir...|     VHM|            |\n",
      "|[{TCB_BCCapnhat_2...|      N|    VN|Lợi nhuận (LN) rò...|<head>\\n</HEAD>\\n...|2022-11-28|analytic_report|10262401|  VNDIRECT|17:43:16|TCB – Lạc quan tr...|company_report|https://www.vndir...|     TCB|            |\n",
      "|[{DGC_BCcapnhat_2...|      N|    VN|Chúng tôi cho rằn...|<head>\\n</HEAD>\\n...|2022-11-28|analytic_report|10262288|  VNDIRECT|15:36:55|DGC – Lợi nhuận r...|company_report|https://www.vndir...|     DGC|            |\n",
      "|[{HPG_BCCapnhat_2...|      N|    VN|HPG công bố KQKD ...|<head>\\n</HEAD>\\n...|2022-11-11|analytic_report|10254753|  VNDIRECT|14:54:27|HPG – Giảm mạnh d...|company_report|https://www.vndir...|     HPG|            |\n",
      "|[{LPB_BCCapnhat_2...|      N|    VN|Lợi nhuận (LN) rò...|<head>\\n</HEAD>\\n...|2022-11-10|analytic_report|10254471|  VNDIRECT|17:54:06|LPB – Kết quả khả...|company_report|https://www.vndir...|     LPB|            |\n",
      "|[{VCB_Capnhat_202...|      N|    VN|LN Q3/22 tăng trư...|<head>\\n</HEAD>\\n...|2022-11-10|analytic_report|10254390|  VNDIRECT|15:44:05|VCB – Thương hiệu...|company_report|https://www.vndir...|     VCB|            |\n",
      "|[{VNM_BCCapnhat_2...|      N|    VN|VNM ghi nhận lợi ...|<head>\\n</HEAD>\\n...|2022-11-09|analytic_report|10254011|  VNDIRECT|18:46:27|VNM – Dấu hiệu ph...|company_report|https://www.vndir...|     VNM|            |\n",
      "|[{HDB_BCCapnhat_2...|      N|    VN|HDB là một trong ...|<head>\\n</HEAD>\\n...|2022-12-21|analytic_report|10272264|  VNDIRECT|19:48:18|HDB – Đà tăng trư...|company_report|https://www.vndir...|     HDB|            |\n",
      "|[{POW_BCcapnhat_2...|      N|    VN|Lợi nhuận ròng Q3...|<head>\\n</HEAD>\\n...|2022-12-19|analytic_report|10271474|  VNDIRECT|17:11:39|POW – Nhiệt điện ...|company_report|https://www.vndir...|     POW|            |\n",
      "|[{VIB_BCCapnhat_2...|      N|    VN|Chúng tôi kỳ vọng...|<head>\\n</HEAD>\\n...|2022-12-28|analytic_report|10274964|  VNDIRECT|12:56:37|VIB – Thận trọng ...|company_report|https://www.vndir...|     VIB|            |\n",
      "|[{GMD_BCCapnhat_2...|      N|    VN|Trong 9T22, lợi n...|<head>\\n</HEAD>\\n...|2022-12-22|analytic_report|10272663|  VNDIRECT|18:53:30|GMD – Lợi nhuận d...|company_report|https://www.vndir...|     GMD|            |\n",
      "|[{MWG_BCCapnhat_2...|      N|    VN|MWG đạt doanh thu...|<head>\\n</HEAD>\\n...|2022-11-22|analytic_report|10258454|  VNDIRECT|16:26:45|MWG – Tín hiệu tí...|company_report|https://www.vndir...|     MWG|            |\n",
      "|[{AST_BCCapnhat_2...|      N|    VN|AST ghi nhận lợi ...|<head>\\n</HEAD>\\n...|2022-11-14|analytic_report|10255567|  VNDIRECT|12:29:25|AST – Vững mạnh h...|company_report|https://www.vndir...|     AST|            |\n",
      "|[{BCM_BCPT_202211...|      N|    VN|BCM và các công t...|<head>\\n</HEAD>\\n...|2022-11-22|analytic_report|10258561|  VNDIRECT|18:31:16|BCM – Tăng trưởng...|company_report|https://www.vndir...|     BCM|            |\n",
      "|[{PLX_BCCapnhat_2...|      N|    VN|Dù doanh thu 9T22...|<head>\\n</HEAD>\\n...|2022-11-22|analytic_report|10258455|  VNDIRECT|16:26:46|PLX – Triển vọng ...|company_report|https://www.vndir...|     PLX|            |\n",
      "|[{NLG_BCCapnhat_2...|      N|    VN|Ước tính LN ròng ...|<head>\\n</HEAD>\\n...|2022-12-29|analytic_report|10274970|  VNDIRECT|12:56:45|NLG – Vững vàng t...|company_report|https://www.vndir...|     NLG|            |\n",
      "|[{SZC_BCCapnhat_2...|      N|    VN|Trong 9T22, doanh...|<head>\\n</HEAD>\\n...|2022-12-28|analytic_report|10274965|  VNDIRECT|12:56:38|SZC – Thị trường ...|company_report|https://www.vndir...|     SZC|            |\n",
      "|[{CTG_BCCapnhat_2...|      N|    VN|Lợi nhuận (LN) rò...|<head>\\n</HEAD>\\n...|2022-11-25|analytic_report|10261481|  VNDIRECT|16:01:55|CTG Kết quả kinh ...|company_report|https://www.vndir...|     CTG|            |\n",
      "|[{PC1_BCCapnhat_2...|      N|    VN|Chúng tôi dự phón...|<head>\\n</HEAD>\\n...|2022-11-23|analytic_report|10258898|  VNDIRECT|17:41:59|PC1 – Bước ngoặt ...|company_report|https://www.vndir...|     PC1|            |\n",
      "+--------------------+-------+------+--------------------+--------------------+----------+---------------+--------+----------+--------+--------------------+--------------+--------------------+--------+------------+\n",
      "\n"
     ]
    }
   ],
   "source": [
    "json = spark.read.json(\"hdfs://namenode:9000/project20221/clean/vndirect_analys_news/01-08-2023-00-31-38.json\")\n",
    "json.show()"
   ]
  }
 ],
 "metadata": {
  "kernelspec": {
   "display_name": "Python 3 (ipykernel)",
   "language": "python",
   "name": "python3"
  },
  "language_info": {
   "codemirror_mode": {
    "name": "ipython",
    "version": 3
   },
   "file_extension": ".py",
   "mimetype": "text/x-python",
   "name": "python",
   "nbconvert_exporter": "python",
   "pygments_lexer": "ipython3",
   "version": "3.10.8"
  }
 },
 "nbformat": 4,
 "nbformat_minor": 5
}
