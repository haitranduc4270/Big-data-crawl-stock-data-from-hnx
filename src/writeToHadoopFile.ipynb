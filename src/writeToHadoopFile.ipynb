{
 "cells": [
  {
   "cell_type": "code",
   "execution_count": 1,
   "id": "80bfc39c-2bad-4c73-bf78-755a7a4a7a6b",
   "metadata": {},
   "outputs": [],
   "source": [
    "from pyspark.context import SparkContext\n",
    "from pyspark.sql.session import SparkSession\n",
    "from pyspark.sql.functions import expr, col, column\n",
    "sc = SparkContext('local')\n",
    "spark = SparkSession(sc)"
   ]
  },
  {
   "cell_type": "code",
   "execution_count": null,
   "id": "c3d842d7-78ab-47ed-86c1-536935b03fc7",
   "metadata": {},
   "outputs": [],
   "source": [
    "# Read data receive from kafka and write to hdfs\n",
    "data = ['ssiDataApi.csv']\n",
    "for file in data: \n",
    "    csv = spark.read.option(\"header\",\"true\").csv(\"../crawler/data/\" + file)\n",
    "    csv.write.format(\"csv\").mode(\"overwrite\").option(\"header\",\"true\").save(\"hdfs://namenode:9000/project20221/raw/\" + file)\n",
    "    csv = spark.read.option(\"header\",\"true\").csv(\"hdfs://namenode:9000/project20221/raw/\" + file)\n",
    "    csv.show(1, True)"
   ]
  },
  {
   "cell_type": "code",
   "execution_count": null,
   "id": "c8cf16e1-eea9-4fa1-9314-0760db792275",
   "metadata": {},
   "outputs": [],
   "source": [
    "# Read json data receive from kafka and write to hdfs\n",
    "data = ['VietstockFinance_companies.json', 'analysNews.json', 'financeNews.json', 'topStock.json']\n",
    "for file in data: \n",
    "    json = spark.read.option(\"multiLine\", \"true\").json('../crawler/data/' + file)\n",
    "    json.write.format(\"json\").mode(\"overwrite\").save(\"hdfs://namenode:9000/project20221/raw/\" + file)\n",
    "    json = spark.read.json(\"hdfs://namenode:9000/project20221/raw/\" + file)\n",
    "    json.show(1, False)"
   ]
  },
  {
   "cell_type": "code",
   "execution_count": null,
   "id": "32581d74-e90d-44d4-9986-3af9da8139f7",
   "metadata": {},
   "outputs": [],
   "source": [
    "    "
   ]
  }
 ],
 "metadata": {
  "kernelspec": {
   "display_name": "Python 3 (ipykernel)",
   "language": "python",
   "name": "python3"
  },
  "language_info": {
   "codemirror_mode": {
    "name": "ipython",
    "version": 3
   },
   "file_extension": ".py",
   "mimetype": "text/x-python",
   "name": "python",
   "nbconvert_exporter": "python",
   "pygments_lexer": "ipython3",
   "version": "3.10.6"
  }
 },
 "nbformat": 4,
 "nbformat_minor": 5
}
