{
 "cells": [
  {
   "cell_type": "code",
   "execution_count": 1,
   "id": "c3f4a909-981c-4f9c-9e20-8bebaa9afc9d",
   "metadata": {},
   "outputs": [
    {
     "name": "stdout",
     "output_type": "stream",
     "text": [
      "2023-01-05 12:02:34.712658\n"
     ]
    }
   ],
   "source": [
    "from datetime import datetime\n",
    "print(datetime.now())"
   ]
  },
  {
   "cell_type": "code",
   "execution_count": 2,
   "id": "b3a48683-1749-4455-90bc-3b200c7913b8",
   "metadata": {},
   "outputs": [
    {
     "name": "stdout",
     "output_type": "stream",
     "text": [
      "Requirement already satisfied: pytz in /opt/conda/lib/python3.10/site-packages (2022.7)\n"
     ]
    }
   ],
   "source": [
    "!pip install pytz"
   ]
  },
  {
   "cell_type": "code",
   "execution_count": 3,
   "id": "5a127866-3b4a-4ab3-a9ac-2327ae9e87da",
   "metadata": {},
   "outputs": [
    {
     "name": "stdout",
     "output_type": "stream",
     "text": [
      "env: TZ=Asia/Ho_Chi_Minh\n"
     ]
    }
   ],
   "source": [
    "%env TZ=Asia/Ho_Chi_Minh"
   ]
  },
  {
   "cell_type": "code",
   "execution_count": 4,
   "id": "1da4c9b6-0ab8-4d9c-a2ba-4193978fdfa8",
   "metadata": {},
   "outputs": [
    {
     "name": "stdout",
     "output_type": "stream",
     "text": [
      "2023-01-05 13:09:47.081154\n"
     ]
    }
   ],
   "source": [
    "from datetime import datetime\n",
    "print(datetime.now())"
   ]
  },
  {
   "cell_type": "code",
   "execution_count": 5,
   "id": "1ab0b730-7a9f-4fae-a57d-6d4e49ad37ab",
   "metadata": {},
   "outputs": [
    {
     "name": "stdout",
     "output_type": "stream",
     "text": [
      "2023-01-05 13:10:53.774605\n"
     ]
    }
   ],
   "source": [
    "from datetime import datetime\n",
    "print(datetime.now())"
   ]
  },
  {
   "cell_type": "code",
   "execution_count": 6,
   "id": "c8272393-86fe-4e1a-b77f-007b31a51d68",
   "metadata": {},
   "outputs": [
    {
     "name": "stdout",
     "output_type": "stream",
     "text": [
      "env: TZ=Asia/Ho_Chi_Minh\n"
     ]
    },
    {
     "ename": "NameError",
     "evalue": "name 'jupyter' is not defined",
     "output_type": "error",
     "traceback": [
      "\u001b[0;31m---------------------------------------------------------------------------\u001b[0m",
      "\u001b[0;31mNameError\u001b[0m                                 Traceback (most recent call last)",
      "Cell \u001b[0;32mIn[6], line 2\u001b[0m\n\u001b[1;32m      1\u001b[0m get_ipython()\u001b[38;5;241m.\u001b[39mrun_line_magic(\u001b[38;5;124m'\u001b[39m\u001b[38;5;124menv\u001b[39m\u001b[38;5;124m'\u001b[39m, \u001b[38;5;124m'\u001b[39m\u001b[38;5;124mTZ=Asia/Ho_Chi_Minh\u001b[39m\u001b[38;5;124m'\u001b[39m)\n\u001b[0;32m----> 2\u001b[0m \u001b[43mjupyter\u001b[49m\u001b[38;5;241m-\u001b[39mnotebook\n",
      "\u001b[0;31mNameError\u001b[0m: name 'jupyter' is not defined"
     ]
    }
   ],
   "source": [
    "%env TZ=Asia/Ho_Chi_Minh\n",
    "jupyter-notebook"
   ]
  },
  {
   "cell_type": "code",
   "execution_count": 9,
   "id": "5ec4052e-ddea-42f9-8e7a-7dc930969bb8",
   "metadata": {},
   "outputs": [
    {
     "name": "stdout",
     "output_type": "stream",
     "text": [
      "Name: pytz\n",
      "Version: 2022.7\n",
      "Summary: World timezone definitions, modern and historical\n",
      "Home-page: http://pythonhosted.org/pytz\n",
      "Author: Stuart Bishop\n",
      "Author-email: stuart@stuartbishop.net\n",
      "License: MIT\n",
      "Location: /opt/conda/lib/python3.10/site-packages\n",
      "Requires: \n",
      "Required-by: Babel, pandas\n"
     ]
    }
   ],
   "source": [
    "!pip show pytz"
   ]
  },
  {
   "cell_type": "code",
   "execution_count": 11,
   "id": "b5f0be5d-ab6e-42a3-a76e-4490f0aaf2c8",
   "metadata": {},
   "outputs": [
    {
     "data": {
      "text/plain": [
       "datetime.datetime(2023, 1, 5, 20, 20, 45, 739315, tzinfo=<DstTzInfo 'Asia/Ho_Chi_Minh' +07+7:00:00 STD>)"
      ]
     },
     "execution_count": 11,
     "metadata": {},
     "output_type": "execute_result"
    }
   ],
   "source": [
    "import pytz\n",
    "import datetime\n",
    "tz = pytz.timezone('Asia/Ho_Chi_Minh')\n",
    "ct = datetime.datetime.now(tz=tz)\n",
    "ct"
   ]
  },
  {
   "cell_type": "code",
   "execution_count": 12,
   "id": "6b42d1e3-442e-4b4d-81f4-c223bef4ed7e",
   "metadata": {},
   "outputs": [
    {
     "name": "stdout",
     "output_type": "stream",
     "text": [
      "2023-01-05 20:23:53.912471+07:00\n"
     ]
    }
   ],
   "source": [
    "import pytz\n",
    "import datetime\n",
    "\n",
    "# Set the timezone to \"Asia/Ho_Chi_Minh\"\n",
    "tz = pytz.timezone('Asia/Ho_Chi_Minh')\n",
    "\n",
    "# Get the current time in the \"Asia/Ho_Chi_Minh\" timezone\n",
    "now = datetime.datetime.now(tz)\n",
    "print(now)"
   ]
  },
  {
   "cell_type": "code",
   "execution_count": 1,
   "id": "81e940b6-bb7f-4ed6-b65c-617e7a176dac",
   "metadata": {},
   "outputs": [
    {
     "name": "stdout",
     "output_type": "stream",
     "text": [
      "\u001b[33mWARNING: Package(s) not found: schedule\u001b[0m\u001b[33m\n",
      "\u001b[0m"
     ]
    }
   ],
   "source": [
    "!pip show schedule"
   ]
  },
  {
   "cell_type": "code",
   "execution_count": 1,
   "id": "66b7740b-853d-4d86-803a-aed71e181714",
   "metadata": {},
   "outputs": [
    {
     "name": "stdout",
     "output_type": "stream",
     "text": [
      "2023-01-05 15:03:13.670774\n",
      "Hello các idol!\n"
     ]
    }
   ],
   "source": [
    "import sched\n",
    "import time\n",
    "import datetime\n",
    "\n",
    "# Define the start and end times\n",
    "start_time = datetime.time(hour=8)\n",
    "end_time = datetime.time(hour=20)\n",
    "\n",
    "# Define the time interval between API calls (in seconds)\n",
    "time_interval = 10\n",
    "\n",
    "# Create a scheduler\n",
    "scheduler = sched.scheduler(time.time, time.sleep)\n",
    "\n",
    "def call_api():\n",
    "    print (datetime.datetime.now())\n",
    "    print (\"Hello các idol!\")\n",
    "\n",
    "# Schedule the API call\n",
    "scheduler.enterabs(start_time.hour * 3600 + start_time.minute * 60, 1, call_api)\n",
    "\n",
    "# Run the scheduler\n",
    "scheduler.run()"
   ]
  },
  {
   "cell_type": "code",
   "execution_count": 3,
   "id": "268d11dc-c4a9-4527-822a-d2baa6f867dd",
   "metadata": {},
   "outputs": [
    {
     "name": "stdout",
     "output_type": "stream",
     "text": [
      "Collecting apscheduler\n",
      "  Downloading APScheduler-3.9.1.post1-py2.py3-none-any.whl (59 kB)\n",
      "\u001b[2K     \u001b[90m━━━━━━━━━━━━━━━━━━━━━━━━━━━━━━━━━━━━━━━\u001b[0m \u001b[32m59.6/59.6 kB\u001b[0m \u001b[31m404.6 kB/s\u001b[0m eta \u001b[36m0:00:00\u001b[0ma \u001b[36m0:00:01\u001b[0m\n",
      "\u001b[?25hCollecting tzlocal!=3.*,>=2.0\n",
      "  Downloading tzlocal-4.2-py3-none-any.whl (19 kB)\n",
      "Requirement already satisfied: pytz in /opt/conda/lib/python3.10/site-packages (from apscheduler) (2022.7)\n",
      "Requirement already satisfied: six>=1.4.0 in /opt/conda/lib/python3.10/site-packages (from apscheduler) (1.16.0)\n",
      "Requirement already satisfied: setuptools>=0.7 in /opt/conda/lib/python3.10/site-packages (from apscheduler) (65.6.3)\n",
      "Collecting pytz-deprecation-shim\n",
      "  Downloading pytz_deprecation_shim-0.1.0.post0-py2.py3-none-any.whl (15 kB)\n",
      "Collecting tzdata\n",
      "  Downloading tzdata-2022.7-py2.py3-none-any.whl (340 kB)\n",
      "\u001b[2K     \u001b[90m━━━━━━━━━━━━━━━━━━━━━━━━━━━━━━━━━━━━━━━\u001b[0m \u001b[32m340.1/340.1 kB\u001b[0m \u001b[31m1.6 MB/s\u001b[0m eta \u001b[36m0:00:00\u001b[0ma \u001b[36m0:00:01\u001b[0m\n",
      "\u001b[?25hInstalling collected packages: tzdata, pytz-deprecation-shim, tzlocal, apscheduler\n",
      "Successfully installed apscheduler-3.9.1.post1 pytz-deprecation-shim-0.1.0.post0 tzdata-2022.7 tzlocal-4.2\n"
     ]
    }
   ],
   "source": [
    "!pip install apscheduler"
   ]
  },
  {
   "cell_type": "code",
   "execution_count": null,
   "id": "6bd17541-0764-44a0-baa2-a671ca94b7c9",
   "metadata": {},
   "outputs": [
    {
     "name": "stdout",
     "output_type": "stream",
     "text": [
      "<class 'datetime.time'> 20:00:00\n",
      "<class 'datetime.datetime'> 2023-01-05 20:00:00\n"
     ]
    },
    {
     "name": "stderr",
     "output_type": "stream",
     "text": [
      "/opt/conda/lib/python3.10/site-packages/apscheduler/util.py:436: PytzUsageWarning: The localize method is no longer necessary, as this time zone supports the fold attribute (PEP 495). For more details on migrating to a PEP 495-compliant implementation, see https://pytz-deprecation-shim.readthedocs.io/en/latest/migration.html\n",
      "  return tzinfo.localize(dt)\n"
     ]
    },
    {
     "name": "stdout",
     "output_type": "stream",
     "text": [
      "2023-01-05 15:50:00.001026\n",
      "Hello các idol!\n"
     ]
    }
   ],
   "source": [
    "from apscheduler.schedulers.blocking import BlockingScheduler\n",
    "# import time\n",
    "from datetime import datetime, time\n",
    "\n",
    "def call_api():\n",
    "    print (datetime.now())\n",
    "    print (\"Hello các idol!\")\n",
    "\n",
    "# Define the start and end times\n",
    "start_time = time(hour=8)\n",
    "end_time = time(hour=20)\n",
    "\n",
    "print (type(start_time), end_time)\n",
    "\n",
    "# # Combine the date and time to create a datetime object\n",
    "start_datetime = datetime.combine(datetime.today(), start_time)\n",
    "end_datetime = datetime.combine(datetime.today(), end_time)\n",
    "print (type(start_datetime), end_datetime)\n",
    "\n",
    "\n",
    "# Define the time interval between API calls (in seconds)\n",
    "time_interval = 10\n",
    "\n",
    "# Create a scheduler\n",
    "scheduler = BlockingScheduler()\n",
    "\n",
    "# Schedule the API call\n",
    "scheduler.add_job(call_api, 'interval', minutes=time_interval, start_date=start_datetime, end_date=end_datetime)\n",
    "# scheduler.add_job(call_api, 'interval', minutes=time_interval, start_date=start_time, end_date=end_time)\n",
    "\n",
    "# Run the scheduler\n",
    "scheduler.start()"
   ]
  },
  {
   "cell_type": "code",
   "execution_count": null,
   "id": "5301bc0a-6b84-4c68-855a-8e83653483ed",
   "metadata": {},
   "outputs": [],
   "source": []
  }
 ],
 "metadata": {
  "kernelspec": {
   "display_name": "Python 3 (ipykernel)",
   "language": "python",
   "name": "python3"
  },
  "language_info": {
   "codemirror_mode": {
    "name": "ipython",
    "version": 3
   },
   "file_extension": ".py",
   "mimetype": "text/x-python",
   "name": "python",
   "nbconvert_exporter": "python",
   "pygments_lexer": "ipython3",
   "version": "3.10.8"
  }
 },
 "nbformat": 4,
 "nbformat_minor": 5
}
